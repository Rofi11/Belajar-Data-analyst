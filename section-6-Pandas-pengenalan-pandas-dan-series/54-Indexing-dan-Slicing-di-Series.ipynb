{
 "cells": [
  {
   "cell_type": "markdown",
   "id": "8acbbeb1",
   "metadata": {},
   "source": [
    "### 2. Indexing dan Slicing\n",
    "  * Secara Konsep dasar indexing dan Slicing sama dengan di materi lain, hampir tidak ada bedanya"
   ]
  },
  {
   "cell_type": "code",
   "execution_count": 1,
   "id": "3bffba84",
   "metadata": {},
   "outputs": [],
   "source": [
    "import pandas as pd\n",
    "import numpy as np"
   ]
  },
  {
   "cell_type": "markdown",
   "id": "1d91c210",
   "metadata": {},
   "source": [
    "#### Indexing"
   ]
  },
  {
   "cell_type": "code",
   "execution_count": 2,
   "id": "095a1721",
   "metadata": {},
   "outputs": [
    {
     "data": {
      "text/plain": [
       "0    10\n",
       "1    20\n",
       "2    30\n",
       "3    40\n",
       "dtype: int64"
      ]
     },
     "execution_count": 2,
     "metadata": {},
     "output_type": "execute_result"
    }
   ],
   "source": [
    "# buat array angka\n",
    "arr = np.array([10,20,30,40])\n",
    "ser = pd.Series(arr)\n",
    "ser"
   ]
  },
  {
   "cell_type": "code",
   "execution_count": 3,
   "id": "1a7d69bb",
   "metadata": {},
   "outputs": [
    {
     "name": "stdout",
     "output_type": "stream",
     "text": [
      "10\n"
     ]
    }
   ],
   "source": [
    "# cara indexing / akses data dalam series\n",
    "# jika index adalah angka\n",
    "print(ser[0])"
   ]
  },
  {
   "cell_type": "code",
   "execution_count": 4,
   "id": "f0aef074",
   "metadata": {},
   "outputs": [
    {
     "data": {
      "text/plain": [
       "pertama                     Soekarno\n",
       "kedua                        Suharto\n",
       "ketiga     Bacharuddin Jusuf Habibie\n",
       "keempat            Abdurrahman Wahid\n",
       "kelima        Megawati Soekarnoputri\n",
       "keenam      Susilo Bambang Yudhoyono\n",
       "ketujuh                  Joko Widodo\n",
       "dtype: object"
      ]
     },
     "execution_count": 4,
     "metadata": {},
     "output_type": "execute_result"
    }
   ],
   "source": [
    "# Data Dictionary Presiden (Key : Value)\n",
    "presidents_indonesia = {\n",
    "    'pertama': \"Soekarno\",\n",
    "    'kedua': \"Suharto\",\n",
    "    'ketiga': \"Bacharuddin Jusuf Habibie\",\n",
    "    'keempat': \"Abdurrahman Wahid\",\n",
    "    'kelima': \"Megawati Soekarnoputri\",\n",
    "    'keenam': \"Susilo Bambang Yudhoyono\",\n",
    "    'ketujuh': \"Joko Widodo\"\n",
    "}\n",
    "ser_presiden = pd.Series(presidents_indonesia)\n",
    "ser_presiden"
   ]
  },
  {
   "cell_type": "code",
   "execution_count": 5,
   "id": "07edde91",
   "metadata": {},
   "outputs": [
    {
     "data": {
      "text/plain": [
       "'Bacharuddin Jusuf Habibie'"
      ]
     },
     "execution_count": 5,
     "metadata": {},
     "output_type": "execute_result"
    }
   ],
   "source": [
    "# indexing jika key nya string\n",
    "  # tulis nama key nya dalam kurung kotak\n",
    "ser_presiden['ketiga']"
   ]
  },
  {
   "cell_type": "markdown",
   "id": "c5c214f8",
   "metadata": {},
   "source": [
    "#### Slicing"
   ]
  },
  {
   "cell_type": "code",
   "execution_count": 6,
   "id": "2eb6f18c",
   "metadata": {},
   "outputs": [
    {
     "data": {
      "text/plain": [
       "0    10\n",
       "1    20\n",
       "2    30\n",
       "dtype: int64"
      ]
     },
     "execution_count": 6,
     "metadata": {},
     "output_type": "execute_result"
    }
   ],
   "source": [
    "# slicing angka\n",
    "ser[0:3]"
   ]
  },
  {
   "cell_type": "code",
   "execution_count": 7,
   "id": "13037ad0",
   "metadata": {},
   "outputs": [
    {
     "data": {
      "text/plain": [
       "keempat           Abdurrahman Wahid\n",
       "kelima       Megawati Soekarnoputri\n",
       "keenam     Susilo Bambang Yudhoyono\n",
       "ketujuh                 Joko Widodo\n",
       "dtype: object"
      ]
     },
     "execution_count": 7,
     "metadata": {},
     "output_type": "execute_result"
    }
   ],
   "source": [
    "# slicing string\n",
    "  #  ambil data dari ke 4 dan kebawah nya\n",
    "ser_presiden['keempat' : ]"
   ]
  }
 ],
 "metadata": {
  "kernelspec": {
   "display_name": "Python 3",
   "language": "python",
   "name": "python3"
  },
  "language_info": {
   "codemirror_mode": {
    "name": "ipython",
    "version": 3
   },
   "file_extension": ".py",
   "mimetype": "text/x-python",
   "name": "python",
   "nbconvert_exporter": "python",
   "pygments_lexer": "ipython3",
   "version": "3.13.5"
  }
 },
 "nbformat": 4,
 "nbformat_minor": 5
}
