{
 "cells": [
  {
   "cell_type": "markdown",
   "metadata": {
    "id": "iI6VEGD19cFo"
   },
   "source": [
    "# Series\n",
    "\n",
    "Series adalah struktur data satu dimensi yang mirip dengan array di NumPy, namun lebih kaya karena dilengkapi dengan indeks. Setiap elemen dalam Series memiliki label (indeks) yang memungkinkan akses data dengan label tersebut."
   ]
  },
  {
   "cell_type": "code",
   "execution_count": 20,
   "metadata": {
    "executionInfo": {
     "elapsed": 496,
     "status": "ok",
     "timestamp": 1724128177848,
     "user": {
      "displayName": "Risdan Kristori",
      "userId": "02736671686515832267"
     },
     "user_tz": -420
    },
    "id": "_x7zawhgpxo_"
   },
   "outputs": [],
   "source": [
    "import pandas as pd"
   ]
  },
  {
   "cell_type": "markdown",
   "metadata": {
    "id": "fXjGyelX9fit"
   },
   "source": [
    "### 1. Membuat Series"
   ]
  },
  {
   "cell_type": "markdown",
   "metadata": {
    "id": "AlbGcwob91RP"
   },
   "source": [
    "#### Dari list"
   ]
  },
  {
   "cell_type": "code",
   "execution_count": 21,
   "metadata": {
    "colab": {
     "base_uri": "https://localhost:8080/",
     "height": 209
    },
    "executionInfo": {
     "elapsed": 78,
     "status": "ok",
     "timestamp": 1724128178412,
     "user": {
      "displayName": "Risdan Kristori",
      "userId": "02736671686515832267"
     },
     "user_tz": -420
    },
    "id": "UNtCyAw28gVx",
    "outputId": "3f4a2e83-eddd-497a-b4fc-5079babf821d"
   },
   "outputs": [
    {
     "data": {
      "text/html": [
       "<div>\n",
       "<style scoped>\n",
       "    .dataframe tbody tr th:only-of-type {\n",
       "        vertical-align: middle;\n",
       "    }\n",
       "\n",
       "    .dataframe tbody tr th {\n",
       "        vertical-align: top;\n",
       "    }\n",
       "\n",
       "    .dataframe thead th {\n",
       "        text-align: right;\n",
       "    }\n",
       "</style>\n",
       "<table border=\"1\" class=\"dataframe\">\n",
       "  <thead>\n",
       "    <tr style=\"text-align: right;\">\n",
       "      <th></th>\n",
       "      <th>0</th>\n",
       "    </tr>\n",
       "  </thead>\n",
       "  <tbody>\n",
       "    <tr>\n",
       "      <th>0</th>\n",
       "      <td>10</td>\n",
       "    </tr>\n",
       "    <tr>\n",
       "      <th>1</th>\n",
       "      <td>20</td>\n",
       "    </tr>\n",
       "    <tr>\n",
       "      <th>2</th>\n",
       "      <td>30</td>\n",
       "    </tr>\n",
       "    <tr>\n",
       "      <th>3</th>\n",
       "      <td>40</td>\n",
       "    </tr>\n",
       "  </tbody>\n",
       "</table>\n",
       "</div><br><label><b>dtype:</b> int64</label>"
      ],
      "text/plain": [
       "0    10\n",
       "1    20\n",
       "2    30\n",
       "3    40\n",
       "dtype: int64"
      ]
     },
     "execution_count": 21,
     "metadata": {},
     "output_type": "execute_result"
    }
   ],
   "source": [
    "data = [10, 20, 30, 40]\n",
    "pd.Series(data)"
   ]
  },
  {
   "cell_type": "code",
   "execution_count": 22,
   "metadata": {
    "colab": {
     "base_uri": "https://localhost:8080/",
     "height": 209
    },
    "executionInfo": {
     "elapsed": 73,
     "status": "ok",
     "timestamp": 1724128178412,
     "user": {
      "displayName": "Risdan Kristori",
      "userId": "02736671686515832267"
     },
     "user_tz": -420
    },
    "id": "kGDzyPOV8jmG",
    "outputId": "24926b44-adbf-4469-ed18-accd72104292"
   },
   "outputs": [
    {
     "data": {
      "text/html": [
       "<div>\n",
       "<style scoped>\n",
       "    .dataframe tbody tr th:only-of-type {\n",
       "        vertical-align: middle;\n",
       "    }\n",
       "\n",
       "    .dataframe tbody tr th {\n",
       "        vertical-align: top;\n",
       "    }\n",
       "\n",
       "    .dataframe thead th {\n",
       "        text-align: right;\n",
       "    }\n",
       "</style>\n",
       "<table border=\"1\" class=\"dataframe\">\n",
       "  <thead>\n",
       "    <tr style=\"text-align: right;\">\n",
       "      <th></th>\n",
       "      <th>0</th>\n",
       "    </tr>\n",
       "  </thead>\n",
       "  <tbody>\n",
       "    <tr>\n",
       "      <th>0</th>\n",
       "      <td>kucing</td>\n",
       "    </tr>\n",
       "    <tr>\n",
       "      <th>1</th>\n",
       "      <td>anjing</td>\n",
       "    </tr>\n",
       "    <tr>\n",
       "      <th>2</th>\n",
       "      <td>macam</td>\n",
       "    </tr>\n",
       "    <tr>\n",
       "      <th>3</th>\n",
       "      <td>ayam</td>\n",
       "    </tr>\n",
       "  </tbody>\n",
       "</table>\n",
       "</div><br><label><b>dtype:</b> object</label>"
      ],
      "text/plain": [
       "0    kucing\n",
       "1    anjing\n",
       "2     macam\n",
       "3      ayam\n",
       "dtype: object"
      ]
     },
     "execution_count": 22,
     "metadata": {},
     "output_type": "execute_result"
    }
   ],
   "source": [
    "hewan = ['kucing', 'anjing', 'macam', 'ayam']\n",
    "pd.Series(hewan)"
   ]
  },
  {
   "cell_type": "code",
   "execution_count": 23,
   "metadata": {
    "colab": {
     "base_uri": "https://localhost:8080/",
     "height": 209
    },
    "executionInfo": {
     "elapsed": 72,
     "status": "ok",
     "timestamp": 1724128178413,
     "user": {
      "displayName": "Risdan Kristori",
      "userId": "02736671686515832267"
     },
     "user_tz": -420
    },
    "id": "rBHcmOuy8kav",
    "outputId": "aba0b553-3590-4b83-adf9-097617bf3a03"
   },
   "outputs": [
    {
     "data": {
      "text/html": [
       "<div>\n",
       "<style scoped>\n",
       "    .dataframe tbody tr th:only-of-type {\n",
       "        vertical-align: middle;\n",
       "    }\n",
       "\n",
       "    .dataframe tbody tr th {\n",
       "        vertical-align: top;\n",
       "    }\n",
       "\n",
       "    .dataframe thead th {\n",
       "        text-align: right;\n",
       "    }\n",
       "</style>\n",
       "<table border=\"1\" class=\"dataframe\">\n",
       "  <thead>\n",
       "    <tr style=\"text-align: right;\">\n",
       "      <th></th>\n",
       "      <th>0</th>\n",
       "    </tr>\n",
       "  </thead>\n",
       "  <tbody>\n",
       "    <tr>\n",
       "      <th>0</th>\n",
       "      <td>a</td>\n",
       "    </tr>\n",
       "    <tr>\n",
       "      <th>1</th>\n",
       "      <td>1</td>\n",
       "    </tr>\n",
       "    <tr>\n",
       "      <th>2</th>\n",
       "      <td>b</td>\n",
       "    </tr>\n",
       "    <tr>\n",
       "      <th>3</th>\n",
       "      <td>2</td>\n",
       "    </tr>\n",
       "  </tbody>\n",
       "</table>\n",
       "</div><br><label><b>dtype:</b> object</label>"
      ],
      "text/plain": [
       "0    a\n",
       "1    1\n",
       "2    b\n",
       "3    2\n",
       "dtype: object"
      ]
     },
     "execution_count": 23,
     "metadata": {},
     "output_type": "execute_result"
    }
   ],
   "source": [
    "data = ['a', 1, 'b', 2]\n",
    "pd.Series(data)"
   ]
  },
  {
   "cell_type": "code",
   "execution_count": 24,
   "metadata": {
    "colab": {
     "base_uri": "https://localhost:8080/",
     "height": 147
    },
    "executionInfo": {
     "elapsed": 69,
     "status": "ok",
     "timestamp": 1724128178413,
     "user": {
      "displayName": "Risdan Kristori",
      "userId": "02736671686515832267"
     },
     "user_tz": -420
    },
    "id": "EZ9naG4J8kV0",
    "outputId": "d429426f-3dbd-4b8f-bcac-337a3a2db1ea"
   },
   "outputs": [
    {
     "data": {
      "text/html": [
       "<div>\n",
       "<style scoped>\n",
       "    .dataframe tbody tr th:only-of-type {\n",
       "        vertical-align: middle;\n",
       "    }\n",
       "\n",
       "    .dataframe tbody tr th {\n",
       "        vertical-align: top;\n",
       "    }\n",
       "\n",
       "    .dataframe thead th {\n",
       "        text-align: right;\n",
       "    }\n",
       "</style>\n",
       "<table border=\"1\" class=\"dataframe\">\n",
       "  <thead>\n",
       "    <tr style=\"text-align: right;\">\n",
       "      <th></th>\n",
       "      <th>0</th>\n",
       "    </tr>\n",
       "  </thead>\n",
       "  <tbody>\n",
       "    <tr>\n",
       "      <th>0</th>\n",
       "      <td>[1, 2]</td>\n",
       "    </tr>\n",
       "    <tr>\n",
       "      <th>1</th>\n",
       "      <td>[3, 4]</td>\n",
       "    </tr>\n",
       "  </tbody>\n",
       "</table>\n",
       "</div><br><label><b>dtype:</b> object</label>"
      ],
      "text/plain": [
       "0    [1, 2]\n",
       "1    [3, 4]\n",
       "dtype: object"
      ]
     },
     "execution_count": 24,
     "metadata": {},
     "output_type": "execute_result"
    }
   ],
   "source": [
    "data = [[1,2], [3,4]]\n",
    "pd.Series(data)"
   ]
  },
  {
   "cell_type": "code",
   "execution_count": 25,
   "metadata": {
    "colab": {
     "base_uri": "https://localhost:8080/",
     "height": 147
    },
    "executionInfo": {
     "elapsed": 66,
     "status": "ok",
     "timestamp": 1724128178413,
     "user": {
      "displayName": "Risdan Kristori",
      "userId": "02736671686515832267"
     },
     "user_tz": -420
    },
    "id": "wjjletO08oxR",
    "outputId": "c12be482-dca0-469a-f0be-b67400b58409"
   },
   "outputs": [
    {
     "data": {
      "text/html": [
       "<div>\n",
       "<style scoped>\n",
       "    .dataframe tbody tr th:only-of-type {\n",
       "        vertical-align: middle;\n",
       "    }\n",
       "\n",
       "    .dataframe tbody tr th {\n",
       "        vertical-align: top;\n",
       "    }\n",
       "\n",
       "    .dataframe thead th {\n",
       "        text-align: right;\n",
       "    }\n",
       "</style>\n",
       "<table border=\"1\" class=\"dataframe\">\n",
       "  <thead>\n",
       "    <tr style=\"text-align: right;\">\n",
       "      <th></th>\n",
       "      <th>0</th>\n",
       "    </tr>\n",
       "  </thead>\n",
       "  <tbody>\n",
       "    <tr>\n",
       "      <th>0</th>\n",
       "      <td>&lt;built-in function print&gt;</td>\n",
       "    </tr>\n",
       "    <tr>\n",
       "      <th>1</th>\n",
       "      <td>&lt;built-in function len&gt;</td>\n",
       "    </tr>\n",
       "  </tbody>\n",
       "</table>\n",
       "</div><br><label><b>dtype:</b> object</label>"
      ],
      "text/plain": [
       "0    <built-in function print>\n",
       "1      <built-in function len>\n",
       "dtype: object"
      ]
     },
     "execution_count": 25,
     "metadata": {},
     "output_type": "execute_result"
    }
   ],
   "source": [
    "data = [print, len]\n",
    "pd.Series(data)"
   ]
  },
  {
   "cell_type": "markdown",
   "metadata": {
    "id": "zobKQCL598lI"
   },
   "source": [
    "#### Dari Dictionary"
   ]
  },
  {
   "cell_type": "code",
   "execution_count": 26,
   "metadata": {
    "colab": {
     "base_uri": "https://localhost:8080/",
     "height": 178
    },
    "executionInfo": {
     "elapsed": 64,
     "status": "ok",
     "timestamp": 1724128178413,
     "user": {
      "displayName": "Risdan Kristori",
      "userId": "02736671686515832267"
     },
     "user_tz": -420
    },
    "id": "0Kd5qAnXqK4T",
    "outputId": "a91c1d79-6839-4189-c9a6-eb56bfa8518d"
   },
   "outputs": [
    {
     "data": {
      "text/html": [
       "<div>\n",
       "<style scoped>\n",
       "    .dataframe tbody tr th:only-of-type {\n",
       "        vertical-align: middle;\n",
       "    }\n",
       "\n",
       "    .dataframe tbody tr th {\n",
       "        vertical-align: top;\n",
       "    }\n",
       "\n",
       "    .dataframe thead th {\n",
       "        text-align: right;\n",
       "    }\n",
       "</style>\n",
       "<table border=\"1\" class=\"dataframe\">\n",
       "  <thead>\n",
       "    <tr style=\"text-align: right;\">\n",
       "      <th></th>\n",
       "      <th>0</th>\n",
       "    </tr>\n",
       "  </thead>\n",
       "  <tbody>\n",
       "    <tr>\n",
       "      <th>motor</th>\n",
       "      <td>Beat</td>\n",
       "    </tr>\n",
       "    <tr>\n",
       "      <th>mobil</th>\n",
       "      <td>Pajero</td>\n",
       "    </tr>\n",
       "    <tr>\n",
       "      <th>pesawat</th>\n",
       "      <td>Airbus</td>\n",
       "    </tr>\n",
       "  </tbody>\n",
       "</table>\n",
       "</div><br><label><b>dtype:</b> object</label>"
      ],
      "text/plain": [
       "motor        Beat\n",
       "mobil      Pajero\n",
       "pesawat    Airbus\n",
       "dtype: object"
      ]
     },
     "execution_count": 26,
     "metadata": {},
     "output_type": "execute_result"
    }
   ],
   "source": [
    "kendaraan = {\n",
    "    'motor': 'Beat',\n",
    "    'mobil': 'Pajero',\n",
    "    'pesawat': 'Airbus'\n",
    "}\n",
    "pd.Series(kendaraan)"
   ]
  },
  {
   "cell_type": "markdown",
   "metadata": {
    "id": "4y8WbRlu95VU"
   },
   "source": [
    "#### Dari Array"
   ]
  },
  {
   "cell_type": "code",
   "execution_count": 27,
   "metadata": {
    "executionInfo": {
     "elapsed": 63,
     "status": "ok",
     "timestamp": 1724128178413,
     "user": {
      "displayName": "Risdan Kristori",
      "userId": "02736671686515832267"
     },
     "user_tz": -420
    },
    "id": "DnwRNMkvqa_b"
   },
   "outputs": [],
   "source": [
    "import numpy as np"
   ]
  },
  {
   "cell_type": "code",
   "execution_count": 28,
   "metadata": {
    "colab": {
     "base_uri": "https://localhost:8080/",
     "height": 209
    },
    "executionInfo": {
     "elapsed": 64,
     "status": "ok",
     "timestamp": 1724128178414,
     "user": {
      "displayName": "Risdan Kristori",
      "userId": "02736671686515832267"
     },
     "user_tz": -420
    },
    "id": "9B88pxLBqc9T",
    "outputId": "86d5a20b-bd4e-4323-a1ca-e93d66127397"
   },
   "outputs": [
    {
     "data": {
      "text/html": [
       "<div>\n",
       "<style scoped>\n",
       "    .dataframe tbody tr th:only-of-type {\n",
       "        vertical-align: middle;\n",
       "    }\n",
       "\n",
       "    .dataframe tbody tr th {\n",
       "        vertical-align: top;\n",
       "    }\n",
       "\n",
       "    .dataframe thead th {\n",
       "        text-align: right;\n",
       "    }\n",
       "</style>\n",
       "<table border=\"1\" class=\"dataframe\">\n",
       "  <thead>\n",
       "    <tr style=\"text-align: right;\">\n",
       "      <th></th>\n",
       "      <th>0</th>\n",
       "    </tr>\n",
       "  </thead>\n",
       "  <tbody>\n",
       "    <tr>\n",
       "      <th>0</th>\n",
       "      <td>1</td>\n",
       "    </tr>\n",
       "    <tr>\n",
       "      <th>1</th>\n",
       "      <td>2</td>\n",
       "    </tr>\n",
       "    <tr>\n",
       "      <th>2</th>\n",
       "      <td>3</td>\n",
       "    </tr>\n",
       "    <tr>\n",
       "      <th>3</th>\n",
       "      <td>4</td>\n",
       "    </tr>\n",
       "  </tbody>\n",
       "</table>\n",
       "</div><br><label><b>dtype:</b> int64</label>"
      ],
      "text/plain": [
       "0    1\n",
       "1    2\n",
       "2    3\n",
       "3    4\n",
       "dtype: int64"
      ]
     },
     "execution_count": 28,
     "metadata": {},
     "output_type": "execute_result"
    }
   ],
   "source": [
    "arr = np.array([1,2,3,4])\n",
    "pd.Series(arr)"
   ]
  },
  {
   "cell_type": "markdown",
   "metadata": {
    "id": "c0X4entQ2FLi"
   },
   "source": [
    "### 2. Indexing dan Slicing Series"
   ]
  },
  {
   "cell_type": "code",
   "execution_count": 29,
   "metadata": {
    "colab": {
     "base_uri": "https://localhost:8080/",
     "height": 209
    },
    "executionInfo": {
     "elapsed": 62,
     "status": "ok",
     "timestamp": 1724128178414,
     "user": {
      "displayName": "Risdan Kristori",
      "userId": "02736671686515832267"
     },
     "user_tz": -420
    },
    "id": "wJpWvq_rC5nv",
    "outputId": "098e4fd0-d7aa-4c03-c204-f269219d3b96"
   },
   "outputs": [
    {
     "data": {
      "text/html": [
       "<div>\n",
       "<style scoped>\n",
       "    .dataframe tbody tr th:only-of-type {\n",
       "        vertical-align: middle;\n",
       "    }\n",
       "\n",
       "    .dataframe tbody tr th {\n",
       "        vertical-align: top;\n",
       "    }\n",
       "\n",
       "    .dataframe thead th {\n",
       "        text-align: right;\n",
       "    }\n",
       "</style>\n",
       "<table border=\"1\" class=\"dataframe\">\n",
       "  <thead>\n",
       "    <tr style=\"text-align: right;\">\n",
       "      <th></th>\n",
       "      <th>0</th>\n",
       "    </tr>\n",
       "  </thead>\n",
       "  <tbody>\n",
       "    <tr>\n",
       "      <th>0</th>\n",
       "      <td>10</td>\n",
       "    </tr>\n",
       "    <tr>\n",
       "      <th>1</th>\n",
       "      <td>20</td>\n",
       "    </tr>\n",
       "    <tr>\n",
       "      <th>2</th>\n",
       "      <td>30</td>\n",
       "    </tr>\n",
       "    <tr>\n",
       "      <th>3</th>\n",
       "      <td>40</td>\n",
       "    </tr>\n",
       "  </tbody>\n",
       "</table>\n",
       "</div><br><label><b>dtype:</b> int64</label>"
      ],
      "text/plain": [
       "0    10\n",
       "1    20\n",
       "2    30\n",
       "3    40\n",
       "dtype: int64"
      ]
     },
     "execution_count": 29,
     "metadata": {},
     "output_type": "execute_result"
    }
   ],
   "source": [
    "arr = np.array([10,20,30,40])\n",
    "ser = pd.Series(arr)\n",
    "ser"
   ]
  },
  {
   "cell_type": "code",
   "execution_count": 30,
   "metadata": {
    "colab": {
     "base_uri": "https://localhost:8080/",
     "height": 303
    },
    "executionInfo": {
     "elapsed": 59,
     "status": "ok",
     "timestamp": 1724128178414,
     "user": {
      "displayName": "Risdan Kristori",
      "userId": "02736671686515832267"
     },
     "user_tz": -420
    },
    "id": "gzGtKS9m2Jze",
    "outputId": "29e9d50f-802f-4c33-dfb8-13653364c32f"
   },
   "outputs": [
    {
     "data": {
      "text/html": [
       "<div>\n",
       "<style scoped>\n",
       "    .dataframe tbody tr th:only-of-type {\n",
       "        vertical-align: middle;\n",
       "    }\n",
       "\n",
       "    .dataframe tbody tr th {\n",
       "        vertical-align: top;\n",
       "    }\n",
       "\n",
       "    .dataframe thead th {\n",
       "        text-align: right;\n",
       "    }\n",
       "</style>\n",
       "<table border=\"1\" class=\"dataframe\">\n",
       "  <thead>\n",
       "    <tr style=\"text-align: right;\">\n",
       "      <th></th>\n",
       "      <th>0</th>\n",
       "    </tr>\n",
       "  </thead>\n",
       "  <tbody>\n",
       "    <tr>\n",
       "      <th>pertama</th>\n",
       "      <td>Soekarno</td>\n",
       "    </tr>\n",
       "    <tr>\n",
       "      <th>kedua</th>\n",
       "      <td>Suharto</td>\n",
       "    </tr>\n",
       "    <tr>\n",
       "      <th>ketiga</th>\n",
       "      <td>Bacharuddin Jusuf Habibie</td>\n",
       "    </tr>\n",
       "    <tr>\n",
       "      <th>keempat</th>\n",
       "      <td>Abdurrahman Wahid</td>\n",
       "    </tr>\n",
       "    <tr>\n",
       "      <th>kelima</th>\n",
       "      <td>Megawati Soekarnoputri</td>\n",
       "    </tr>\n",
       "    <tr>\n",
       "      <th>keenam</th>\n",
       "      <td>Susilo Bambang Yudhoyono</td>\n",
       "    </tr>\n",
       "    <tr>\n",
       "      <th>ketujuh</th>\n",
       "      <td>Joko Widodo</td>\n",
       "    </tr>\n",
       "  </tbody>\n",
       "</table>\n",
       "</div><br><label><b>dtype:</b> object</label>"
      ],
      "text/plain": [
       "pertama                     Soekarno\n",
       "kedua                        Suharto\n",
       "ketiga     Bacharuddin Jusuf Habibie\n",
       "keempat            Abdurrahman Wahid\n",
       "kelima        Megawati Soekarnoputri\n",
       "keenam      Susilo Bambang Yudhoyono\n",
       "ketujuh                  Joko Widodo\n",
       "dtype: object"
      ]
     },
     "execution_count": 30,
     "metadata": {},
     "output_type": "execute_result"
    }
   ],
   "source": [
    "presidents_indonesia = {\n",
    "    'pertama': \"Soekarno\",\n",
    "    'kedua': \"Suharto\",\n",
    "    'ketiga': \"Bacharuddin Jusuf Habibie\",\n",
    "    'keempat': \"Abdurrahman Wahid\",\n",
    "    'kelima': \"Megawati Soekarnoputri\",\n",
    "    'keenam': \"Susilo Bambang Yudhoyono\",\n",
    "    'ketujuh': \"Joko Widodo\"\n",
    "}\n",
    "ser_presiden = pd.Series(presidents_indonesia)\n",
    "ser_presiden"
   ]
  },
  {
   "cell_type": "markdown",
   "metadata": {
    "id": "ll-MMJYy3Zd8"
   },
   "source": [
    "#### Indexing"
   ]
  },
  {
   "cell_type": "code",
   "execution_count": 31,
   "metadata": {
    "colab": {
     "base_uri": "https://localhost:8080/"
    },
    "executionInfo": {
     "elapsed": 57,
     "status": "ok",
     "timestamp": 1724128178414,
     "user": {
      "displayName": "Risdan Kristori",
      "userId": "02736671686515832267"
     },
     "user_tz": -420
    },
    "id": "Rfm28HU1C-xN",
    "outputId": "b77e9c8a-d8be-4300-eb36-7f879e5a9b39"
   },
   "outputs": [
    {
     "data": {
      "text/plain": [
       "10"
      ]
     },
     "execution_count": 31,
     "metadata": {},
     "output_type": "execute_result"
    }
   ],
   "source": [
    "ser[0]"
   ]
  },
  {
   "cell_type": "code",
   "execution_count": 32,
   "metadata": {
    "colab": {
     "base_uri": "https://localhost:8080/",
     "height": 36
    },
    "executionInfo": {
     "elapsed": 53,
     "status": "ok",
     "timestamp": 1724128178415,
     "user": {
      "displayName": "Risdan Kristori",
      "userId": "02736671686515832267"
     },
     "user_tz": -420
    },
    "id": "bJtOLfr82hjN",
    "outputId": "4c968a08-ac2f-4e35-9695-9a9fa316523f"
   },
   "outputs": [
    {
     "data": {
      "application/vnd.google.colaboratory.intrinsic+json": {
       "type": "string"
      },
      "text/plain": [
       "'Soekarno'"
      ]
     },
     "execution_count": 32,
     "metadata": {},
     "output_type": "execute_result"
    }
   ],
   "source": [
    "ser_presiden['pertama']"
   ]
  },
  {
   "cell_type": "markdown",
   "metadata": {
    "id": "GQfTZh3w2pMG"
   },
   "source": [
    "#### Slicing"
   ]
  },
  {
   "cell_type": "code",
   "execution_count": 33,
   "metadata": {
    "colab": {
     "base_uri": "https://localhost:8080/",
     "height": 147
    },
    "executionInfo": {
     "elapsed": 51,
     "status": "ok",
     "timestamp": 1724128178415,
     "user": {
      "displayName": "Risdan Kristori",
      "userId": "02736671686515832267"
     },
     "user_tz": -420
    },
    "id": "FqmBLVrXDAnP",
    "outputId": "de6f4f9f-e9d6-4845-b386-ab5400fe3578"
   },
   "outputs": [
    {
     "data": {
      "text/html": [
       "<div>\n",
       "<style scoped>\n",
       "    .dataframe tbody tr th:only-of-type {\n",
       "        vertical-align: middle;\n",
       "    }\n",
       "\n",
       "    .dataframe tbody tr th {\n",
       "        vertical-align: top;\n",
       "    }\n",
       "\n",
       "    .dataframe thead th {\n",
       "        text-align: right;\n",
       "    }\n",
       "</style>\n",
       "<table border=\"1\" class=\"dataframe\">\n",
       "  <thead>\n",
       "    <tr style=\"text-align: right;\">\n",
       "      <th></th>\n",
       "      <th>0</th>\n",
       "    </tr>\n",
       "  </thead>\n",
       "  <tbody>\n",
       "    <tr>\n",
       "      <th>1</th>\n",
       "      <td>20</td>\n",
       "    </tr>\n",
       "    <tr>\n",
       "      <th>2</th>\n",
       "      <td>30</td>\n",
       "    </tr>\n",
       "  </tbody>\n",
       "</table>\n",
       "</div><br><label><b>dtype:</b> int64</label>"
      ],
      "text/plain": [
       "1    20\n",
       "2    30\n",
       "dtype: int64"
      ]
     },
     "execution_count": 33,
     "metadata": {},
     "output_type": "execute_result"
    }
   ],
   "source": [
    "ser[1:3]"
   ]
  },
  {
   "cell_type": "code",
   "execution_count": 34,
   "metadata": {
    "colab": {
     "base_uri": "https://localhost:8080/",
     "height": 178
    },
    "executionInfo": {
     "elapsed": 48,
     "status": "ok",
     "timestamp": 1724128178415,
     "user": {
      "displayName": "Risdan Kristori",
      "userId": "02736671686515832267"
     },
     "user_tz": -420
    },
    "id": "ia2bofuB3grJ",
    "outputId": "e88e61ae-dd16-4efb-ccce-0defc243ea53"
   },
   "outputs": [
    {
     "data": {
      "text/html": [
       "<div>\n",
       "<style scoped>\n",
       "    .dataframe tbody tr th:only-of-type {\n",
       "        vertical-align: middle;\n",
       "    }\n",
       "\n",
       "    .dataframe tbody tr th {\n",
       "        vertical-align: top;\n",
       "    }\n",
       "\n",
       "    .dataframe thead th {\n",
       "        text-align: right;\n",
       "    }\n",
       "</style>\n",
       "<table border=\"1\" class=\"dataframe\">\n",
       "  <thead>\n",
       "    <tr style=\"text-align: right;\">\n",
       "      <th></th>\n",
       "      <th>0</th>\n",
       "    </tr>\n",
       "  </thead>\n",
       "  <tbody>\n",
       "    <tr>\n",
       "      <th>pertama</th>\n",
       "      <td>Soekarno</td>\n",
       "    </tr>\n",
       "    <tr>\n",
       "      <th>kedua</th>\n",
       "      <td>Suharto</td>\n",
       "    </tr>\n",
       "    <tr>\n",
       "      <th>ketiga</th>\n",
       "      <td>Bacharuddin Jusuf Habibie</td>\n",
       "    </tr>\n",
       "  </tbody>\n",
       "</table>\n",
       "</div><br><label><b>dtype:</b> object</label>"
      ],
      "text/plain": [
       "pertama                     Soekarno\n",
       "kedua                        Suharto\n",
       "ketiga     Bacharuddin Jusuf Habibie\n",
       "dtype: object"
      ]
     },
     "execution_count": 34,
     "metadata": {},
     "output_type": "execute_result"
    }
   ],
   "source": [
    "ser_presiden[0:3]"
   ]
  },
  {
   "cell_type": "code",
   "execution_count": 35,
   "metadata": {
    "colab": {
     "base_uri": "https://localhost:8080/",
     "height": 178
    },
    "executionInfo": {
     "elapsed": 47,
     "status": "ok",
     "timestamp": 1724128178416,
     "user": {
      "displayName": "Risdan Kristori",
      "userId": "02736671686515832267"
     },
     "user_tz": -420
    },
    "id": "bbmB6IHk3jtQ",
    "outputId": "86066655-48b3-4ec3-d232-0fe7b55bf96b"
   },
   "outputs": [
    {
     "data": {
      "text/html": [
       "<div>\n",
       "<style scoped>\n",
       "    .dataframe tbody tr th:only-of-type {\n",
       "        vertical-align: middle;\n",
       "    }\n",
       "\n",
       "    .dataframe tbody tr th {\n",
       "        vertical-align: top;\n",
       "    }\n",
       "\n",
       "    .dataframe thead th {\n",
       "        text-align: right;\n",
       "    }\n",
       "</style>\n",
       "<table border=\"1\" class=\"dataframe\">\n",
       "  <thead>\n",
       "    <tr style=\"text-align: right;\">\n",
       "      <th></th>\n",
       "      <th>0</th>\n",
       "    </tr>\n",
       "  </thead>\n",
       "  <tbody>\n",
       "    <tr>\n",
       "      <th>pertama</th>\n",
       "      <td>Soekarno</td>\n",
       "    </tr>\n",
       "    <tr>\n",
       "      <th>kedua</th>\n",
       "      <td>Suharto</td>\n",
       "    </tr>\n",
       "    <tr>\n",
       "      <th>ketiga</th>\n",
       "      <td>Bacharuddin Jusuf Habibie</td>\n",
       "    </tr>\n",
       "  </tbody>\n",
       "</table>\n",
       "</div><br><label><b>dtype:</b> object</label>"
      ],
      "text/plain": [
       "pertama                     Soekarno\n",
       "kedua                        Suharto\n",
       "ketiga     Bacharuddin Jusuf Habibie\n",
       "dtype: object"
      ]
     },
     "execution_count": 35,
     "metadata": {},
     "output_type": "execute_result"
    }
   ],
   "source": [
    "ser_presiden['pertama':'ketiga']"
   ]
  },
  {
   "cell_type": "markdown",
   "metadata": {
    "id": "Cu1xdMNJ32_r"
   },
   "source": [
    "### 3. Operasi dan Fungsi pada Series"
   ]
  },
  {
   "cell_type": "code",
   "execution_count": 36,
   "metadata": {
    "executionInfo": {
     "elapsed": 538,
     "status": "ok",
     "timestamp": 1724128178909,
     "user": {
      "displayName": "Risdan Kristori",
      "userId": "02736671686515832267"
     },
     "user_tz": -420
    },
    "id": "cnnjdEVi7bj5"
   },
   "outputs": [],
   "source": [
    "ser_1 = pd.Series([1,2,3,4])\n",
    "ser_2 = pd.Series([5,6,7,8])"
   ]
  },
  {
   "cell_type": "markdown",
   "metadata": {
    "id": "--1-DGXt7eUy"
   },
   "source": [
    "#### Operasi Aritmetika"
   ]
  },
  {
   "cell_type": "code",
   "execution_count": 37,
   "metadata": {
    "colab": {
     "base_uri": "https://localhost:8080/",
     "height": 209
    },
    "executionInfo": {
     "elapsed": 31,
     "status": "ok",
     "timestamp": 1724128178910,
     "user": {
      "displayName": "Risdan Kristori",
      "userId": "02736671686515832267"
     },
     "user_tz": -420
    },
    "id": "s5bZ6uL_7hWW",
    "outputId": "5ca22f55-3b0e-4f4f-ae00-b5c982641517"
   },
   "outputs": [
    {
     "data": {
      "text/html": [
       "<div>\n",
       "<style scoped>\n",
       "    .dataframe tbody tr th:only-of-type {\n",
       "        vertical-align: middle;\n",
       "    }\n",
       "\n",
       "    .dataframe tbody tr th {\n",
       "        vertical-align: top;\n",
       "    }\n",
       "\n",
       "    .dataframe thead th {\n",
       "        text-align: right;\n",
       "    }\n",
       "</style>\n",
       "<table border=\"1\" class=\"dataframe\">\n",
       "  <thead>\n",
       "    <tr style=\"text-align: right;\">\n",
       "      <th></th>\n",
       "      <th>0</th>\n",
       "    </tr>\n",
       "  </thead>\n",
       "  <tbody>\n",
       "    <tr>\n",
       "      <th>0</th>\n",
       "      <td>6</td>\n",
       "    </tr>\n",
       "    <tr>\n",
       "      <th>1</th>\n",
       "      <td>8</td>\n",
       "    </tr>\n",
       "    <tr>\n",
       "      <th>2</th>\n",
       "      <td>10</td>\n",
       "    </tr>\n",
       "    <tr>\n",
       "      <th>3</th>\n",
       "      <td>12</td>\n",
       "    </tr>\n",
       "  </tbody>\n",
       "</table>\n",
       "</div><br><label><b>dtype:</b> int64</label>"
      ],
      "text/plain": [
       "0     6\n",
       "1     8\n",
       "2    10\n",
       "3    12\n",
       "dtype: int64"
      ]
     },
     "execution_count": 37,
     "metadata": {},
     "output_type": "execute_result"
    }
   ],
   "source": [
    "ser_1 + ser_2"
   ]
  },
  {
   "cell_type": "code",
   "execution_count": 38,
   "metadata": {
    "colab": {
     "base_uri": "https://localhost:8080/",
     "height": 209
    },
    "executionInfo": {
     "elapsed": 28,
     "status": "ok",
     "timestamp": 1724128178910,
     "user": {
      "displayName": "Risdan Kristori",
      "userId": "02736671686515832267"
     },
     "user_tz": -420
    },
    "id": "6-3PSkFZ7icg",
    "outputId": "6990eddf-64f5-47a9-8730-a7ea7a360c88"
   },
   "outputs": [
    {
     "data": {
      "text/html": [
       "<div>\n",
       "<style scoped>\n",
       "    .dataframe tbody tr th:only-of-type {\n",
       "        vertical-align: middle;\n",
       "    }\n",
       "\n",
       "    .dataframe tbody tr th {\n",
       "        vertical-align: top;\n",
       "    }\n",
       "\n",
       "    .dataframe thead th {\n",
       "        text-align: right;\n",
       "    }\n",
       "</style>\n",
       "<table border=\"1\" class=\"dataframe\">\n",
       "  <thead>\n",
       "    <tr style=\"text-align: right;\">\n",
       "      <th></th>\n",
       "      <th>0</th>\n",
       "    </tr>\n",
       "  </thead>\n",
       "  <tbody>\n",
       "    <tr>\n",
       "      <th>0</th>\n",
       "      <td>5</td>\n",
       "    </tr>\n",
       "    <tr>\n",
       "      <th>1</th>\n",
       "      <td>12</td>\n",
       "    </tr>\n",
       "    <tr>\n",
       "      <th>2</th>\n",
       "      <td>21</td>\n",
       "    </tr>\n",
       "    <tr>\n",
       "      <th>3</th>\n",
       "      <td>32</td>\n",
       "    </tr>\n",
       "  </tbody>\n",
       "</table>\n",
       "</div><br><label><b>dtype:</b> int64</label>"
      ],
      "text/plain": [
       "0     5\n",
       "1    12\n",
       "2    21\n",
       "3    32\n",
       "dtype: int64"
      ]
     },
     "execution_count": 38,
     "metadata": {},
     "output_type": "execute_result"
    }
   ],
   "source": [
    "ser_1 * ser_2"
   ]
  },
  {
   "cell_type": "markdown",
   "metadata": {
    "id": "GMWDojhj7jPS"
   },
   "source": [
    "#### Fungsi/Menthod/Attribue\n",
    "https://pandas.pydata.org/docs/reference/series.html"
   ]
  },
  {
   "cell_type": "code",
   "execution_count": 39,
   "metadata": {
    "colab": {
     "base_uri": "https://localhost:8080/"
    },
    "executionInfo": {
     "elapsed": 26,
     "status": "ok",
     "timestamp": 1724128178910,
     "user": {
      "displayName": "Risdan Kristori",
      "userId": "02736671686515832267"
     },
     "user_tz": -420
    },
    "id": "Td-xdj_o75W2",
    "outputId": "45834cf5-b088-44ea-f3cb-ac4e823063c5"
   },
   "outputs": [
    {
     "data": {
      "text/plain": [
       "10"
      ]
     },
     "execution_count": 39,
     "metadata": {},
     "output_type": "execute_result"
    }
   ],
   "source": [
    "ser_1.sum()"
   ]
  },
  {
   "cell_type": "code",
   "execution_count": 40,
   "metadata": {
    "colab": {
     "base_uri": "https://localhost:8080/"
    },
    "executionInfo": {
     "elapsed": 17,
     "status": "ok",
     "timestamp": 1724128178910,
     "user": {
      "displayName": "Risdan Kristori",
      "userId": "02736671686515832267"
     },
     "user_tz": -420
    },
    "id": "B-cZJDbK77X9",
    "outputId": "c22a56f6-8368-4d39-f8e3-9ecd43e230d8"
   },
   "outputs": [
    {
     "data": {
      "text/plain": [
       "2.5"
      ]
     },
     "execution_count": 40,
     "metadata": {},
     "output_type": "execute_result"
    }
   ],
   "source": [
    "ser_1.mean()"
   ]
  },
  {
   "cell_type": "code",
   "execution_count": 40,
   "metadata": {
    "executionInfo": {
     "elapsed": 13,
     "status": "ok",
     "timestamp": 1724128178910,
     "user": {
      "displayName": "Risdan Kristori",
      "userId": "02736671686515832267"
     },
     "user_tz": -420
    },
    "id": "YqcJd3vw79SP"
   },
   "outputs": [],
   "source": []
  }
 ],
 "metadata": {
  "colab": {
   "authorship_tag": "ABX9TyPwIPaupnOQ7q79ax7MSjxo",
   "provenance": [],
   "toc_visible": true
  },
  "kernelspec": {
   "display_name": "Python 3",
   "name": "python3"
  },
  "language_info": {
   "name": "python"
  }
 },
 "nbformat": 4,
 "nbformat_minor": 0
}
