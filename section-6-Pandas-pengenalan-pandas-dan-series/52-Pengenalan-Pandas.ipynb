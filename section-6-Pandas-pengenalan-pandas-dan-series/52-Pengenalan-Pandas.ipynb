{
 "cells": [
  {
   "cell_type": "markdown",
   "id": "1d1a1136",
   "metadata": {},
   "source": [
    "## Pandas\n",
    "  * Pandas adalah library open source python yang berguna dalam manipulasi dan analisis data. pandas sangat berguna untuk tugas-tugas seperti eksplorasi data, persiapan data untuk pemodelan, dan analisis data secara umum\n",
    "\n",
    "  * Sejarah pandas\n",
    "    * Pandas pertama kali dikembangkan oleh Wes McKinney pada tahun 2008. Wes McKinney mengembangkan Pandas ketika bekerja di AQR Capital management untuk memenuhi kebutuhan manipulasi data dan analisis keuangan.\n",
    "\n",
    "  * Fitur pandas\n",
    "    * Struktur Data Series dan Data Frame (dibuat berdasarkan array dan memiliki label)\n",
    "    * Operasi, manipulasi, dan Plotting data (Method pandas)\n",
    "    * Input / output secara mudah (bisa input dari excel, csv, dan export ke format tertentu)\n",
    "\n",
    "  * Referensi\n",
    "    * Github: https://github.com/pandas-dev/pandas\n",
    "    * Web : https://pandas.pydata.org/pandas-docs/stable/\n",
    "      * di dokumentasi web pandas bisa lihat ke user guide dan API reference untuk melihat method dan cara pakai nya\n",
    "\n"
   ]
  }
 ],
 "metadata": {
  "language_info": {
   "name": "python"
  }
 },
 "nbformat": 4,
 "nbformat_minor": 5
}
