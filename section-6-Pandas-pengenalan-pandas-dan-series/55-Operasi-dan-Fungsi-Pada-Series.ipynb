{
 "cells": [
  {
   "cell_type": "markdown",
   "id": "8a8e5bc0",
   "metadata": {},
   "source": [
    "### 3. Operasi dan Fungsi pada Series\n",
    "  Kita akan belajar melakukan operasi matematika dan method pada structur pada series"
   ]
  },
  {
   "cell_type": "code",
   "execution_count": 1,
   "id": "9207e414",
   "metadata": {},
   "outputs": [],
   "source": [
    "import pandas as pd\n",
    "import numpy as np\n",
    "\n",
    "ser_1 = pd.Series([1,2,3,4])\n",
    "ser_2 = pd.Series([5,6,7,8])"
   ]
  },
  {
   "cell_type": "markdown",
   "id": "ecbf05bc",
   "metadata": {},
   "source": [
    "#### Operasi Matematika"
   ]
  },
  {
   "cell_type": "code",
   "execution_count": 2,
   "id": "30f9093f",
   "metadata": {},
   "outputs": [
    {
     "data": {
      "text/plain": [
       "0     6\n",
       "1     8\n",
       "2    10\n",
       "3    12\n",
       "dtype: int64"
      ]
     },
     "execution_count": 2,
     "metadata": {},
     "output_type": "execute_result"
    }
   ],
   "source": [
    "#  Pertambahan\n",
    "ser_1 + ser_2"
   ]
  },
  {
   "cell_type": "code",
   "execution_count": 3,
   "id": "0f1e95c3",
   "metadata": {},
   "outputs": [
    {
     "data": {
      "text/plain": [
       "0     5\n",
       "1    12\n",
       "2    21\n",
       "3    32\n",
       "dtype: int64"
      ]
     },
     "execution_count": 3,
     "metadata": {},
     "output_type": "execute_result"
    }
   ],
   "source": [
    "# Perkalian\n",
    "ser_1 * ser_2"
   ]
  },
  {
   "cell_type": "markdown",
   "id": "19afdfe2",
   "metadata": {},
   "source": [
    "#### Fungsi/Method/Attribute\n",
    "  https://pandas.pydata.org/docs/reference/series.html"
   ]
  },
  {
   "cell_type": "code",
   "execution_count": 4,
   "id": "f01a71df",
   "metadata": {},
   "outputs": [
    {
     "name": "stdout",
     "output_type": "stream",
     "text": [
      "(4,)\n",
      "int64\n",
      "2.5\n",
      "4\n"
     ]
    }
   ],
   "source": [
    "# mengetahui jumlah dan dimension\n",
    "print(ser_1.shape)\n",
    "# cari tau type nya\n",
    "print(ser_1.dtype)\n",
    "# mean\n",
    "print(ser_1.mean())\n",
    "# max\n",
    "print(ser_1.max())"
   ]
  }
 ],
 "metadata": {
  "kernelspec": {
   "display_name": "Python 3",
   "language": "python",
   "name": "python3"
  },
  "language_info": {
   "codemirror_mode": {
    "name": "ipython",
    "version": 3
   },
   "file_extension": ".py",
   "mimetype": "text/x-python",
   "name": "python",
   "nbconvert_exporter": "python",
   "pygments_lexer": "ipython3",
   "version": "3.13.5"
  }
 },
 "nbformat": 4,
 "nbformat_minor": 5
}
