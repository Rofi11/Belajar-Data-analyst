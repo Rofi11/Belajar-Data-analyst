{
 "cells": [
  {
   "cell_type": "markdown",
   "id": "e28d9f65",
   "metadata": {},
   "source": [
    "## Pengertian Series\n",
    "  Series adalah struktur data satu dimension yang mirip dengan array di Numpy, namun lebih kaya karena dilengkapi dengan indeks. Setiap elemen dalam series memiliki label (indeks) yang memungkinkan akses data dengan label tersebut."
   ]
  },
  {
   "cell_type": "code",
   "execution_count": null,
   "id": "3e0e89dd",
   "metadata": {},
   "outputs": [
    {
     "data": {
      "text/plain": [
       "'2.3.1'"
      ]
     },
     "execution_count": 2,
     "metadata": {},
     "output_type": "execute_result"
    }
   ],
   "source": [
    "# import pandas terlebih dahulu\n",
    "import pandas as pd\n",
    "\n",
    "# cara cek version\n",
    "# pd.__version__\n"
   ]
  },
  {
   "cell_type": "markdown",
   "id": "69a3e6bf",
   "metadata": {},
   "source": [
    "### 1. Membuat Series"
   ]
  },
  {
   "cell_type": "markdown",
   "id": "8b4ede74",
   "metadata": {},
   "source": [
    "#### Dari List"
   ]
  },
  {
   "cell_type": "code",
   "execution_count": 3,
   "id": "e69b031a",
   "metadata": {},
   "outputs": [
    {
     "data": {
      "text/plain": [
       "0    10\n",
       "1    20\n",
       "2    30\n",
       "3    40\n",
       "dtype: int64"
      ]
     },
     "execution_count": 3,
     "metadata": {},
     "output_type": "execute_result"
    }
   ],
   "source": [
    "# Dari List integer\n",
    "dataList = [10,20,30,40]\n",
    "pd.Series(dataList)"
   ]
  },
  {
   "cell_type": "code",
   "execution_count": 4,
   "id": "20e384ef",
   "metadata": {},
   "outputs": [
    {
     "data": {
      "text/plain": [
       "0    kucing\n",
       "1    anjing\n",
       "2     macan\n",
       "3      ayam\n",
       "dtype: object"
      ]
     },
     "execution_count": 4,
     "metadata": {},
     "output_type": "execute_result"
    }
   ],
   "source": [
    "# Dari List string\n",
    "hewan = ['kucing', 'anjing', 'macan', 'ayam']\n",
    "pd.Series(hewan)"
   ]
  },
  {
   "cell_type": "code",
   "execution_count": 5,
   "id": "15f4fa46",
   "metadata": {},
   "outputs": [
    {
     "data": {
      "text/plain": [
       "0    a\n",
       "1    1\n",
       "2    b\n",
       "3    2\n",
       "dtype: object"
      ]
     },
     "execution_count": 5,
     "metadata": {},
     "output_type": "execute_result"
    }
   ],
   "source": [
    "# data campuran\n",
    "dataListCampuran = ['a', 1, 'b', 2]\n",
    "pd.Series(dataListCampuran) # data akan di anggap semua menjadi object"
   ]
  },
  {
   "cell_type": "code",
   "execution_count": 6,
   "id": "e19c72a0",
   "metadata": {},
   "outputs": [
    {
     "data": {
      "text/plain": [
       "0    [1, 2]\n",
       "1    [3, 4]\n",
       "dtype: object"
      ]
     },
     "execution_count": 6,
     "metadata": {},
     "output_type": "execute_result"
    }
   ],
   "source": [
    "# data nested list\n",
    "dataNestedList = [\n",
    "    [1,2],\n",
    "    [3,4],\n",
    "]\n",
    "pd.Series(dataNestedList)"
   ]
  },
  {
   "cell_type": "code",
   "execution_count": 7,
   "id": "f1ca6144",
   "metadata": {},
   "outputs": [
    {
     "data": {
      "text/plain": [
       "0    <built-in function print>\n",
       "1      <built-in function len>\n",
       "dtype: object"
      ]
     },
     "execution_count": 7,
     "metadata": {},
     "output_type": "execute_result"
    }
   ],
   "source": [
    "# data function ke dalam list\n",
    "dataFunction = [print, len]\n",
    "pd.Series(dataFunction)"
   ]
  },
  {
   "cell_type": "markdown",
   "id": "38ab41d4",
   "metadata": {},
   "source": [
    "#### Dari Dictionary"
   ]
  },
  {
   "cell_type": "code",
   "execution_count": 8,
   "id": "12c26b31",
   "metadata": {},
   "outputs": [
    {
     "data": {
      "text/plain": [
       "motor        Beat\n",
       "mobil      Pajero\n",
       "pesawat    Airbus\n",
       "dtype: object"
      ]
     },
     "execution_count": 8,
     "metadata": {},
     "output_type": "execute_result"
    }
   ],
   "source": [
    "# Data Dictionary\n",
    "kendaraan = {\n",
    "    'motor': 'Beat',\n",
    "    'mobil': 'Pajero',\n",
    "    'pesawat': 'Airbus'\n",
    "}\n",
    "pd.Series(kendaraan)"
   ]
  },
  {
   "cell_type": "markdown",
   "id": "a6ac5286",
   "metadata": {},
   "source": [
    "#### Dari Array\n"
   ]
  },
  {
   "cell_type": "code",
   "execution_count": 9,
   "id": "cc173992",
   "metadata": {},
   "outputs": [
    {
     "data": {
      "text/plain": [
       "0    1\n",
       "1    2\n",
       "2    3\n",
       "3    4\n",
       "dtype: int64"
      ]
     },
     "execution_count": 9,
     "metadata": {},
     "output_type": "execute_result"
    }
   ],
   "source": [
    "# Data Array dari numpy\n",
    "import numpy as np\n",
    "arr = np.array([1,2,3,4])\n",
    "\n",
    "pd.Series(arr)"
   ]
  }
 ],
 "metadata": {
  "kernelspec": {
   "display_name": "Python 3",
   "language": "python",
   "name": "python3"
  },
  "language_info": {
   "codemirror_mode": {
    "name": "ipython",
    "version": 3
   },
   "file_extension": ".py",
   "mimetype": "text/x-python",
   "name": "python",
   "nbconvert_exporter": "python",
   "pygments_lexer": "ipython3",
   "version": "3.13.5"
  }
 },
 "nbformat": 4,
 "nbformat_minor": 5
}
