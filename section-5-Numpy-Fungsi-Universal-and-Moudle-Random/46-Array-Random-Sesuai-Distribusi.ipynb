{
 "cells": [
  {
   "cell_type": "markdown",
   "id": "95a97105",
   "metadata": {},
   "source": [
    "### 2. Membuat Angka Random sesuai Distribusi\n",
    "    # disini kita akan belajar mengatur parameter distribusi sesuai kebutuhan kita (lanjutan vidio 45)\n",
    "    * nama_distribusi ==> keterangan parameter dalam distribusi\n",
    "    * .uniform => low = angka rentang bawah, high = angka rentang atas nya, size = jumlah data dan dimension didalam array, bisa pakai tuples\n",
    "    * .normal => loc = mean/rata2, scale = variasi nya, size = jumlah data dan dimensionn\n",
    "    * .binomial => n = jumlah percobaan, p = probabilitas, size\n",
    "    * .poisson => lambda , size\n"
   ]
  },
  {
   "cell_type": "code",
   "execution_count": 1,
   "id": "8291e219",
   "metadata": {},
   "outputs": [
    {
     "data": {
      "text/plain": [
       "array([7.52483322, 5.16356185, 9.50488099, 5.00003939, 1.7559182 ,\n",
       "       5.12870023, 5.60609782, 8.02229106, 5.03532386, 1.38544002])"
      ]
     },
     "execution_count": 1,
     "metadata": {},
     "output_type": "execute_result"
    }
   ],
   "source": [
    "import numpy as np\n",
    "# .uniform\n",
    "np.random.uniform(0, 10, 10)"
   ]
  },
  {
   "cell_type": "code",
   "execution_count": 2,
   "id": "95d9732e",
   "metadata": {},
   "outputs": [
    {
     "data": {
      "text/plain": [
       "array([[ 1.65813676, 10.3125754 , 13.77803508, 14.52042621],\n",
       "       [ 4.67025838, 10.33741762,  7.70383662, 11.11881414],\n",
       "       [23.43132826,  8.25266156, 10.84101387, 21.19038978],\n",
       "       [11.78178847, 34.74767558, 17.56322987,  2.69473209]])"
      ]
     },
     "execution_count": 2,
     "metadata": {},
     "output_type": "execute_result"
    }
   ],
   "source": [
    "# .normal\n",
    "np.random.normal(loc=10, scale=10, size=(4,4))"
   ]
  },
  {
   "cell_type": "code",
   "execution_count": 3,
   "id": "a7d101b1",
   "metadata": {},
   "outputs": [
    {
     "data": {
      "text/plain": [
       "array([44, 44, 49, 49, 51], dtype=int32)"
      ]
     },
     "execution_count": 3,
     "metadata": {},
     "output_type": "execute_result"
    }
   ],
   "source": [
    "# .binomial\n",
    "np.random.binomial(100, 0.5, 5)"
   ]
  },
  {
   "cell_type": "code",
   "execution_count": 4,
   "id": "c15bdaf9",
   "metadata": {},
   "outputs": [
    {
     "data": {
      "text/plain": [
       "array([30, 40, 55, 37, 38, 41, 32, 44, 43, 33], dtype=int32)"
      ]
     },
     "execution_count": 4,
     "metadata": {},
     "output_type": "execute_result"
    }
   ],
   "source": [
    "# .poisson\n",
    "np.random.poisson(40, 10)"
   ]
  }
 ],
 "metadata": {
  "kernelspec": {
   "display_name": "Python 3",
   "language": "python",
   "name": "python3"
  },
  "language_info": {
   "codemirror_mode": {
    "name": "ipython",
    "version": 3
   },
   "file_extension": ".py",
   "mimetype": "text/x-python",
   "name": "python",
   "nbconvert_exporter": "python",
   "pygments_lexer": "ipython3",
   "version": "3.13.5"
  }
 },
 "nbformat": 4,
 "nbformat_minor": 5
}
