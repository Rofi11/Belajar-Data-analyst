{
 "cells": [
  {
   "cell_type": "markdown",
   "id": "c6cbbb79",
   "metadata": {},
   "source": [
    "## Catatan pribadi"
   ]
  },
  {
   "cell_type": "markdown",
   "id": "6983d1d9",
   "metadata": {},
   "source": [
    "## Fungsi Universal Pada Numpy\n",
    "Numpy menyediakan Berbagai fungsi universal (ufuncs) yang melakukan operasi pada array. Fungsi-fungsi ini mencakup operasi \n",
    "  1. aritmatika, \n",
    "  2. trigonometri (berhubungan dng sudut, menghitung sudut --> sin, cos, tan), \n",
    "  3. logaritma (operasi matematika yang merupakan kebalikan dari eksponen (perpangkatan). Dalam kata lain, logaritma mencari nilai pangkat dari suatu bilangan pokok yang menghasilkan bilangan tertentu), \n",
    "  4. eksponensial ( Eksponen menunjukkan berapa kali suatu bilangan (disebut basis) dikalikan dengan dirinya sendir).\n",
    "  5. dan banyak lagi bisa di cek di file nya di folder section 5 : 41.fungsi universal numpy"
   ]
  },
  {
   "cell_type": "code",
   "execution_count": 1,
   "id": "8da756c0",
   "metadata": {},
   "outputs": [],
   "source": [
    "import numpy as np\n",
    "\n",
    "arr_a = np.array([1,2,3])\n",
    "arr_b = np.array([4,5,6])"
   ]
  },
  {
   "cell_type": "code",
   "execution_count": 2,
   "id": "28c202a2",
   "metadata": {},
   "outputs": [
    {
     "name": "stdout",
     "output_type": "stream",
     "text": [
      "3.3333333333333335\n",
      "3.5\n",
      "1.4907119849998598\n"
     ]
    }
   ],
   "source": [
    "# Fungsi statistik dalam numpy\n",
    "arr_c = np.array([1,2,3,4,5,5])\n",
    "# mean (rata - rata)\n",
    "print(np.mean(arr_c))\n",
    "#  median (nilai tengah)\n",
    "print(np.median(arr_c))\n",
    "# std (standar devisiasi) --> ukuran statistik yang menunjukkan seberapa tersebar atau bervariasinya suatu data dari nilai rata-ratanya (mean). Semakin kecil standar deviasi, semakin dekat data individu dengan nilai rata-rata, dan semakin homogen data tersebut.\n",
    "print(np.std(arr_c))"
   ]
  },
  {
   "cell_type": "code",
   "execution_count": 3,
   "id": "bd70d869",
   "metadata": {},
   "outputs": [
    {
     "data": {
      "text/plain": [
       "array([0.        , 0.69314718, 1.09861229, 1.38629436, 1.60943791,\n",
       "       1.60943791])"
      ]
     },
     "execution_count": 3,
     "metadata": {},
     "output_type": "execute_result"
    }
   ],
   "source": [
    "# logaritma\n",
    "np.log(arr_c)"
   ]
  },
  {
   "cell_type": "code",
   "execution_count": 4,
   "id": "84d30fe1",
   "metadata": {},
   "outputs": [
    {
     "data": {
      "text/plain": [
       "array([  2.71828183,   7.3890561 ,  20.08553692,  54.59815003,\n",
       "       148.4131591 , 148.4131591 ])"
      ]
     },
     "execution_count": 4,
     "metadata": {},
     "output_type": "execute_result"
    }
   ],
   "source": [
    "# eksponensial\n",
    "np.exp(arr_c)"
   ]
  },
  {
   "cell_type": "code",
   "execution_count": 5,
   "id": "8a00184e",
   "metadata": {},
   "outputs": [
    {
     "data": {
      "text/plain": [
       "array([ 0.84147098,  0.90929743,  0.14112001, -0.7568025 , -0.95892427,\n",
       "       -0.95892427])"
      ]
     },
     "execution_count": 5,
     "metadata": {},
     "output_type": "execute_result"
    }
   ],
   "source": [
    "# trigonometri\n",
    "np.sin(arr_c)"
   ]
  }
 ],
 "metadata": {
  "kernelspec": {
   "display_name": "Python 3",
   "language": "python",
   "name": "python3"
  },
  "language_info": {
   "codemirror_mode": {
    "name": "ipython",
    "version": 3
   },
   "file_extension": ".py",
   "mimetype": "text/x-python",
   "name": "python",
   "nbconvert_exporter": "python",
   "pygments_lexer": "ipython3",
   "version": "3.13.5"
  }
 },
 "nbformat": 4,
 "nbformat_minor": 5
}
