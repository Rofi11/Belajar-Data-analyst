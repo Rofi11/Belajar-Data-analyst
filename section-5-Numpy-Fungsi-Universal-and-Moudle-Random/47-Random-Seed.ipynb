{
 "cells": [
  {
   "cell_type": "markdown",
   "id": "7c99c6b5",
   "metadata": {},
   "source": [
    "### 3. Random Seed (lanjutan video 45&46)\n",
    "  * Dengan Random seed untuk mengunci angka random agar tidak berubah"
   ]
  },
  {
   "cell_type": "code",
   "execution_count": 1,
   "id": "2dc339b6",
   "metadata": {},
   "outputs": [
    {
     "data": {
      "text/plain": [
       "array([[6, 9, 6],\n",
       "       [1, 1, 2],\n",
       "       [8, 7, 3]], dtype=int32)"
      ]
     },
     "execution_count": 1,
     "metadata": {},
     "output_type": "execute_result"
    }
   ],
   "source": [
    "import numpy as np\n",
    "# 1. buat random seed untuk mengunci angka random\n",
    "np.random.seed(1)\n",
    "# 2. buat angka random nya menggunakan distrbusi yang diinginkan -> ini akan otomatis terkunci sesuai seed number nya\n",
    "np.random.randint(1,10,(3,3))"
   ]
  },
  {
   "cell_type": "code",
   "execution_count": 2,
   "id": "db8201b4",
   "metadata": {},
   "outputs": [
    {
     "data": {
      "text/plain": [
       "array([[9, 9, 7],\n",
       "       [3, 9, 8],\n",
       "       [3, 2, 6]], dtype=int32)"
      ]
     },
     "execution_count": 2,
     "metadata": {},
     "output_type": "execute_result"
    }
   ],
   "source": [
    "import numpy as np\n",
    "# 1. buat random seed untuk mengunci angka random\n",
    "np.random.seed(2)\n",
    "# 2. buat angka random nya menggunakan distrbusi yang diinginkan -> ini akan otomatis terkunci sesuai seed number nya\n",
    "np.random.randint(1,10,(3,3))"
   ]
  },
  {
   "cell_type": "code",
   "execution_count": 3,
   "id": "e2b6e6a2",
   "metadata": {},
   "outputs": [
    {
     "data": {
      "text/plain": [
       "array([[48, 69, 26, 68],\n",
       "       [84, 24, 93, 58],\n",
       "       [15, 24, 73, 90],\n",
       "       [43, 91,  9, 40]], dtype=int32)"
      ]
     },
     "execution_count": 3,
     "metadata": {},
     "output_type": "execute_result"
    }
   ],
   "source": [
    "# Tugas mencari sesuai video dengan dimension 4x4, dan terkunci di random seed\n",
    "np.random.seed(7)\n",
    "np.random.randint(1,100,(4,4))"
   ]
  }
 ],
 "metadata": {
  "kernelspec": {
   "display_name": "Python 3",
   "language": "python",
   "name": "python3"
  },
  "language_info": {
   "codemirror_mode": {
    "name": "ipython",
    "version": 3
   },
   "file_extension": ".py",
   "mimetype": "text/x-python",
   "name": "python",
   "nbconvert_exporter": "python",
   "pygments_lexer": "ipython3",
   "version": "3.13.5"
  }
 },
 "nbformat": 4,
 "nbformat_minor": 5
}
