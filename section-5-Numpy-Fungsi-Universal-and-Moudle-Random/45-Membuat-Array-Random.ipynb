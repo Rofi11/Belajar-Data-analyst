{
 "cells": [
  {
   "cell_type": "markdown",
   "id": "d39e6037",
   "metadata": {},
   "source": [
    "## Module Random\n",
    "Numpy menyediakan modul numpy.random untuk menhasilkan angka acak. Modul ini sangat berguna dalam berbagai aplikasi seperti simulasi, statistik, machine learning dan lainya."
   ]
  },
  {
   "cell_type": "code",
   "execution_count": 1,
   "id": "46ecb832",
   "metadata": {},
   "outputs": [],
   "source": [
    "import numpy as np"
   ]
  },
  {
   "cell_type": "markdown",
   "id": "9b5be675",
   "metadata": {},
   "source": [
    "### 1. Membuat angka random\n",
    "    * .rand() = buat random dari 0 sampai 1 yang terdistirbusi uniform/seragam\n",
    "    * .randn() = buat random yang terdistribusi normal, dengan rentang 0 - 1\n",
    "    * .randint() = fungsi random yang bisa membuat angka random integer\n"
   ]
  },
  {
   "cell_type": "code",
   "execution_count": 2,
   "id": "314e1a64",
   "metadata": {},
   "outputs": [
    {
     "name": "stdout",
     "output_type": "stream",
     "text": [
      "1 dimension [0.004655   0.99881462 0.33738895]\n",
      "2 dimension [[0.43391218 0.80780817 0.92211197]\n",
      " [0.82002006 0.16384213 0.05016975]]\n",
      "3 dimension [[[0.22669873 0.02175329 0.12257427 0.07830093 0.61668645]\n",
      "  [0.06470667 0.86522759 0.51796062 0.19588859 0.79020021]\n",
      "  [0.33775974 0.46731462 0.66243497 0.23067106 0.43682707]]\n",
      "\n",
      " [[0.02553518 0.20168305 0.52711326 0.69525518 0.51437114]\n",
      "  [0.36562188 0.05961802 0.89505305 0.75789361 0.1065082 ]\n",
      "  [0.98551539 0.46067616 0.68973967 0.57138036 0.18784143]]\n",
      "\n",
      " [[0.69254125 0.25035838 0.77797833 0.39170996 0.25650875]\n",
      "  [0.45934674 0.28965871 0.24841708 0.71822762 0.66992075]\n",
      "  [0.38263639 0.82446908 0.41014168 0.97138687 0.46699607]]\n",
      "\n",
      " [[0.46052307 0.00586899 0.24980364 0.25776601 0.58407356]\n",
      "  [0.95440323 0.77120505 0.00109834 0.49809566 0.85868264]\n",
      "  [0.04044552 0.74306356 0.02302878 0.66936251 0.76825213]]]\n"
     ]
    }
   ],
   "source": [
    "# 1. .rand()\n",
    "# 1 Dimension\n",
    "print(\"1 dimension\", np.random.rand(3)) # 3 = jumlah data\n",
    "# 2 Dimension\n",
    "print(\"2 dimension\", np.random.rand(2,3)) # 2 = baris, 3 = jumlah data\n",
    "# 3 Dimension\n",
    "print(\"3 dimension\", np.random.rand(4,3,5)) # 4 = baris, 3 = kolom, 5 = jumlah data"
   ]
  },
  {
   "cell_type": "code",
   "execution_count": 3,
   "id": "73abca15",
   "metadata": {},
   "outputs": [
    {
     "data": {
      "text/plain": [
       "array([ 0.40801831, -0.80419414,  0.40717621])"
      ]
     },
     "execution_count": 3,
     "metadata": {},
     "output_type": "execute_result"
    }
   ],
   "source": [
    "# 2. .randn()\n",
    "# utk buat dimension nya sama seperti di rand di atas\n",
    "np.random.randn(3)"
   ]
  },
  {
   "cell_type": "code",
   "execution_count": 4,
   "id": "93362405",
   "metadata": {},
   "outputs": [
    {
     "data": {
      "text/plain": [
       "array([34, 15, 18, 62, 35, 95,  7, 69, 90, 14, 84, 86, 98, 76, 37, 88, 60,\n",
       "       28, 29, 52], dtype=int32)"
      ]
     },
     "execution_count": 4,
     "metadata": {},
     "output_type": "execute_result"
    }
   ],
   "source": [
    "#3. .randint()\n",
    "np.random.randint(1, 100, 20) #1 = angka start, 100 = angka terakhir, 20 = size -> jumlah data array"
   ]
  },
  {
   "cell_type": "code",
   "execution_count": 5,
   "id": "5343c11c",
   "metadata": {},
   "outputs": [
    {
     "data": {
      "text/plain": [
       "array([[26, 69, 24],\n",
       "       [84, 14,  3],\n",
       "       [18, 83, 28]], dtype=int32)"
      ]
     },
     "execution_count": 5,
     "metadata": {},
     "output_type": "execute_result"
    }
   ],
   "source": [
    "# Tugas\n",
    "# bagaimana cara nya utk membuat angka random dengan dimension 2 dalam bentuk array 3x3 dari 1 - 100\n",
    "np.random.randint(1,100, size=[3,3]) # cara 1\n",
    "np.random.randint(1,100, (3,3)) # cara 2 dengan dibuat tuples\n",
    "# np.random.randint?"
   ]
  }
 ],
 "metadata": {
  "kernelspec": {
   "display_name": "Python 3",
   "language": "python",
   "name": "python3"
  },
  "language_info": {
   "codemirror_mode": {
    "name": "ipython",
    "version": 3
   },
   "file_extension": ".py",
   "mimetype": "text/x-python",
   "name": "python",
   "nbconvert_exporter": "python",
   "pygments_lexer": "ipython3",
   "version": "3.13.5"
  }
 },
 "nbformat": 4,
 "nbformat_minor": 5
}
