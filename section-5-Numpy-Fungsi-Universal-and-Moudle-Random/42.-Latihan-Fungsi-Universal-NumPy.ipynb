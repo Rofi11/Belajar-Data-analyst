{
 "cells": [
  {
   "cell_type": "markdown",
   "metadata": {
    "id": "UnPXn2lYREay"
   },
   "source": [
    "# Latihan Fungsi Universal Numpy"
   ]
  },
  {
   "cell_type": "code",
   "execution_count": 2,
   "metadata": {
    "id": "iq6VLWhDRitC"
   },
   "outputs": [],
   "source": [
    "import numpy as np"
   ]
  },
  {
   "cell_type": "code",
   "execution_count": 3,
   "metadata": {
    "id": "Az3gl9qyRj-_"
   },
   "outputs": [],
   "source": [
    "# Perhatikan array berikut:\n",
    "arr_a = np.array([2,3,2,1,5])\n",
    "arr_b = np.array([2,5,5,7,9])"
   ]
  },
  {
   "cell_type": "markdown",
   "metadata": {
    "id": "XBD_WVF_SKpD"
   },
   "source": [
    "### 1. Dengan menggunakan fungsi universal, tampilkan hasil perkalian antara arr_a dan arr_b?"
   ]
  },
  {
   "cell_type": "code",
   "execution_count": 4,
   "metadata": {
    "id": "U4dh4XjhVd7L"
   },
   "outputs": [
    {
     "data": {
      "text/plain": [
       "array([ 4, 15, 10,  7, 45])"
      ]
     },
     "execution_count": 4,
     "metadata": {},
     "output_type": "execute_result"
    }
   ],
   "source": [
    "# ketik kode kalian di dalam cel ini\n",
    "np.multiply(arr_a, arr_b)"
   ]
  },
  {
   "cell_type": "code",
   "execution_count": null,
   "metadata": {
    "colab": {
     "base_uri": "https://localhost:8080/"
    },
    "executionInfo": {
     "elapsed": 371,
     "status": "ok",
     "timestamp": 1718948034617,
     "user": {
      "displayName": "Risdan Kristori",
      "userId": "02736671686515832267"
     },
     "user_tz": -420
    },
    "id": "8DySu1CiSVcL",
    "outputId": "ace41633-5137-415a-bfdc-0c23d8af97f1"
   },
   "outputs": [
    {
     "data": {
      "text/plain": [
       "array([ 4, 15, 10,  7, 45])"
      ]
     },
     "execution_count": 3,
     "metadata": {},
     "output_type": "execute_result"
    }
   ],
   "source": [
    "# hasil output yang diinginkan:"
   ]
  },
  {
   "cell_type": "markdown",
   "metadata": {
    "id": "CxPj_8G1SXSD"
   },
   "source": [
    "### 2. Berapakan selisih rata-rata antara arr_a dan arr_b?"
   ]
  },
  {
   "cell_type": "code",
   "execution_count": 5,
   "metadata": {
    "id": "0lKryHk7Vow6"
   },
   "outputs": [
    {
     "name": "stdout",
     "output_type": "stream",
     "text": [
      "-2.9999999999999996\n"
     ]
    }
   ],
   "source": [
    "# ketik kode kalian di dalam cel ini\n",
    "#  1. rata rata kan setiap array dan masukan kedalam variabel\n",
    "rata2_a = np.mean(arr_a)\n",
    "rata2_b = np.mean(arr_b)\n",
    "\n",
    "# 2. Kurangi hasil rata2 utk mencari selisih\n",
    "hasil = rata2_a - rata2_b\n",
    "#  3. panggil hasil\n",
    "print(hasil)"
   ]
  },
  {
   "cell_type": "code",
   "execution_count": null,
   "metadata": {
    "colab": {
     "base_uri": "https://localhost:8080/"
    },
    "executionInfo": {
     "elapsed": 389,
     "status": "ok",
     "timestamp": 1718948110116,
     "user": {
      "displayName": "Risdan Kristori",
      "userId": "02736671686515832267"
     },
     "user_tz": -420
    },
    "id": "enXf4cwHSmTr",
    "outputId": "ba7cf8f3-0e5d-49b7-8737-8dc6d47ccef0"
   },
   "outputs": [
    {
     "data": {
      "text/plain": [
       "-2.9999999999999996"
      ]
     },
     "execution_count": 4,
     "metadata": {},
     "output_type": "execute_result"
    }
   ],
   "source": [
    "# hasil output yang diinginkan:"
   ]
  },
  {
   "cell_type": "markdown",
   "metadata": {
    "id": "cEabhXzNS6iw"
   },
   "source": [
    "### 3. Berapakah selisih jumlah antara arr_a dan arr_b?"
   ]
  },
  {
   "cell_type": "code",
   "execution_count": 6,
   "metadata": {
    "id": "wF3cSTiYVqgQ"
   },
   "outputs": [
    {
     "name": "stdout",
     "output_type": "stream",
     "text": [
      "-15\n"
     ]
    }
   ],
   "source": [
    "# ketik kode kalian di dalam cel ini\n",
    "# 1. Sum setiap array\n",
    "jumlah_a = np.sum(arr_a)\n",
    "jumlah_b = np.sum(arr_b)\n",
    "\n",
    "# 2. kurangi jumlah \n",
    "selisih_jumlah = jumlah_a - jumlah_b\n",
    "# 3. panggil selisi jumlah\n",
    "print(selisih_jumlah)"
   ]
  },
  {
   "cell_type": "code",
   "execution_count": null,
   "metadata": {
    "colab": {
     "base_uri": "https://localhost:8080/"
    },
    "executionInfo": {
     "elapsed": 380,
     "status": "ok",
     "timestamp": 1718948174550,
     "user": {
      "displayName": "Risdan Kristori",
      "userId": "02736671686515832267"
     },
     "user_tz": -420
    },
    "id": "k3TWnZIzSptQ",
    "outputId": "2da1e398-6363-4cdd-bfd4-f7c98c29c4d3"
   },
   "outputs": [
    {
     "data": {
      "text/plain": [
       "-15"
      ]
     },
     "execution_count": 5,
     "metadata": {},
     "output_type": "execute_result"
    }
   ],
   "source": [
    "# hasil output yang diinginkan:"
   ]
  },
  {
   "cell_type": "code",
   "execution_count": 7,
   "metadata": {
    "colab": {
     "base_uri": "https://localhost:8080/"
    },
    "executionInfo": {
     "elapsed": 6,
     "status": "ok",
     "timestamp": 1718948464739,
     "user": {
      "displayName": "Risdan Kristori",
      "userId": "02736671686515832267"
     },
     "user_tz": -420
    },
    "id": "WdgZzni_TsVa",
    "outputId": "df73fc13-0701-4bd1-d059-1b5cc6b728be"
   },
   "outputs": [
    {
     "data": {
      "text/plain": [
       "array([[70, 45, 56, 66],\n",
       "       [86, 50, 60, 90],\n",
       "       [90, 75, 84, 93],\n",
       "       [30, 55, 89, 65]])"
      ]
     },
     "execution_count": 7,
     "metadata": {},
     "output_type": "execute_result"
    }
   ],
   "source": [
    "# Perhatikan array berikut\n",
    "nilai = [[70,45,56,66],[86,50,60,90],[90,75,84,93],[30,55,89,65]]\n",
    "arr_nilai = np.array(nilai)\n",
    "arr_nilai"
   ]
  },
  {
   "cell_type": "markdown",
   "metadata": {
    "id": "dwgLgTeeTXnb"
   },
   "source": [
    "### 4. Berapa nilai eksponential dari arr_nilai di baris ke 4 dan kolom ke 2?"
   ]
  },
  {
   "cell_type": "code",
   "execution_count": 8,
   "metadata": {
    "id": "K888ZePBVuZL"
   },
   "outputs": [
    {
     "name": "stdout",
     "output_type": "stream",
     "text": [
      "7.694785265142018e+23\n"
     ]
    }
   ],
   "source": [
    "# ketik kode kalian di dalam cel ini\n",
    "print(np.exp(arr_nilai[3,1]))"
   ]
  },
  {
   "cell_type": "code",
   "execution_count": null,
   "metadata": {
    "colab": {
     "base_uri": "https://localhost:8080/"
    },
    "executionInfo": {
     "elapsed": 446,
     "status": "ok",
     "timestamp": 1718948512954,
     "user": {
      "displayName": "Risdan Kristori",
      "userId": "02736671686515832267"
     },
     "user_tz": -420
    },
    "id": "hDta3Y_lS5cm",
    "outputId": "bf14542a-adf5-4d51-9010-86bad4c462b1"
   },
   "outputs": [
    {
     "data": {
      "text/plain": [
       "7.694785265142018e+23"
      ]
     },
     "execution_count": 10,
     "metadata": {},
     "output_type": "execute_result"
    }
   ],
   "source": [
    "# hasil output yang diinginkan:"
   ]
  },
  {
   "cell_type": "markdown",
   "metadata": {
    "id": "_xp5AHVQTVTr"
   },
   "source": [
    "### 5. Berapa nilai selisih sinus dari total baris pertama dan cosinus dari total kolom pertama arr_nilai?"
   ]
  },
  {
   "cell_type": "code",
   "execution_count": 9,
   "metadata": {
    "id": "6EeC02xIWNxX"
   },
   "outputs": [
    {
     "name": "stdout",
     "output_type": "stream",
     "text": [
      "237\n"
     ]
    }
   ],
   "source": [
    "# ketik kode kalian di dalam cel ini\n",
    "# question = selisis sinus dari total bari pertama (index o) - consinus total kolom pertama\n",
    "# 1. cari total baris pertama\n",
    "baris_1 = np.sum(arr_nilai,1)[0] #ini akan menjumlah secara horizontal karena axis nya 1\n",
    "print(baris_1)\n"
   ]
  },
  {
   "cell_type": "code",
   "execution_count": null,
   "metadata": {
    "colab": {
     "base_uri": "https://localhost:8080/"
    },
    "executionInfo": {
     "elapsed": 654,
     "status": "ok",
     "timestamp": 1718948772438,
     "user": {
      "displayName": "Risdan Kristori",
      "userId": "02736671686515832267"
     },
     "user_tz": -420
    },
    "id": "bhrrN3e6UtZb",
    "outputId": "8a35a6fc-61dd-4da5-d10d-236c2e6f2698"
   },
   "outputs": [
    {
     "data": {
      "text/plain": [
       "237"
      ]
     },
     "execution_count": 20,
     "metadata": {},
     "output_type": "execute_result"
    }
   ],
   "source": [
    "# Total nilai baris pertama arr_nilai\n",
    "# hasil output yang diinginkan:"
   ]
  },
  {
   "cell_type": "code",
   "execution_count": 10,
   "metadata": {
    "id": "So97FseTWR75"
   },
   "outputs": [
    {
     "name": "stdout",
     "output_type": "stream",
     "text": [
      "276\n"
     ]
    }
   ],
   "source": [
    "# ketik kode kalian di dalam cel ini\n",
    "# 2. cari total kolom pertama\n",
    "kolom_1 = np.sum(arr_nilai, 0)[0] # ini akan menjumlah secara vertikal karena axis nya 0\n",
    "print(kolom_1)"
   ]
  },
  {
   "cell_type": "code",
   "execution_count": null,
   "metadata": {
    "colab": {
     "base_uri": "https://localhost:8080/"
    },
    "executionInfo": {
     "elapsed": 726,
     "status": "ok",
     "timestamp": 1718948788426,
     "user": {
      "displayName": "Risdan Kristori",
      "userId": "02736671686515832267"
     },
     "user_tz": -420
    },
    "id": "pETuDlxFU33R",
    "outputId": "029b8f9d-71d6-45c1-f9f3-50e38659bf85"
   },
   "outputs": [
    {
     "data": {
      "text/plain": [
       "276"
      ]
     },
     "execution_count": 22,
     "metadata": {},
     "output_type": "execute_result"
    }
   ],
   "source": [
    "# Total nilai kolom pertama arr_nilai\n",
    "# hasil output yang diinginkan:"
   ]
  },
  {
   "cell_type": "code",
   "execution_count": 12,
   "metadata": {
    "id": "5IFh-R1nWUzn"
   },
   "outputs": [
    {
     "name": "stdout",
     "output_type": "stream",
     "text": [
      "-1.8779422036551292\n"
     ]
    }
   ],
   "source": [
    "# ketik kode kalian di dalam cel ini\n",
    "# 3. cari sin x sebagai sumbu x dari baris_1 sebagai garis hotizontal\n",
    "data_sin = np.sin(baris_1)\n",
    "# print(data_sin)\n",
    "# 4. cari cosinus y sebagai sumbu y dari kolom_1 sebagai garis vertikal\n",
    "data_cos = np.cos(kolom_1)\n",
    "# print(data_cos)\n",
    "\n",
    "total = data_sin - data_cos\n",
    "print(total)"
   ]
  },
  {
   "cell_type": "code",
   "execution_count": null,
   "metadata": {
    "colab": {
     "base_uri": "https://localhost:8080/"
    },
    "executionInfo": {
     "elapsed": 3,
     "status": "ok",
     "timestamp": 1718948803459,
     "user": {
      "displayName": "Risdan Kristori",
      "userId": "02736671686515832267"
     },
     "user_tz": -420
    },
    "id": "LF_06w4PUc_6",
    "outputId": "450dd4d7-f0b6-4a32-9d91-34704942b779"
   },
   "outputs": [
    {
     "data": {
      "text/plain": [
       "-1.8779422036551292"
      ]
     },
     "execution_count": 23,
     "metadata": {},
     "output_type": "execute_result"
    }
   ],
   "source": [
    "# Selisih sinus x dan cosinus y\n",
    "# hasil output yang diinginkan:"
   ]
  }
 ],
 "metadata": {
  "colab": {
   "authorship_tag": "ABX9TyMN4RDQyUUBuhlQ64l3bDzL",
   "provenance": [],
   "toc_visible": true
  },
  "kernelspec": {
   "display_name": "Python 3",
   "name": "python3"
  },
  "language_info": {
   "codemirror_mode": {
    "name": "ipython",
    "version": 3
   },
   "file_extension": ".py",
   "mimetype": "text/x-python",
   "name": "python",
   "nbconvert_exporter": "python",
   "pygments_lexer": "ipython3",
   "version": "3.13.5"
  }
 },
 "nbformat": 4,
 "nbformat_minor": 0
}
