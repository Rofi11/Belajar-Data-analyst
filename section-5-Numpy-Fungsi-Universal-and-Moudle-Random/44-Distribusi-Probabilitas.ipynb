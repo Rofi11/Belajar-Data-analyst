{
 "cells": [
  {
   "cell_type": "markdown",
   "id": "b2440d33",
   "metadata": {},
   "source": [
    "## Distribusi Probabilitas (Penjelasan intuitive)\n",
    "  ### Apa itu Distribusi Probabilitas\n",
    "  * Distribusi probabilitas digunakan untuk menggambarkan bagaimana nilai dari suatu variabel acak didistribusikan.\n",
    "  * Variabel acak adalah suatu nilai yang dihasilkan dari eksperimen acak, seperti lemparan dadu, hasil ujian, atau tinggi badan dalam populasi tertentu.\n",
    "\n",
    "  ### 1. Distribusi Uniform\n",
    "    * Distribusi Uniform adalah distribusi dimana semua hasil yang mungkin dari suatu variabel acak memiliki probabilitas yang sama\n",
    "    * cth = lemparan dadu karena semua memiliki probabilitas 1/6\n",
    "\n",
    "  ### 2. Distribusi Normal\n",
    "    * Distribusi Normal, juga dikenal sebagai distribusi Gaussian, adalah salah satu distribusi paling penting dalam statistik. Distribusi ini berbentuk seperti lonceng (bell curve) dan simetris terhadap mean (rata-rata)\n",
    "    * nilai yang mendekati rata-rata nya memiliki nilai fequensi yang paling besar\n",
    "\n",
    "  ### 3. Distribusi Binomial\n",
    "    * Distribusi Binomial adalah distribusi diskrit yang menggambarkan jumlah sukses dalam sejumlah percobaan independen yang hanya memiliki DUA HASIL (misalnya sukses atau gagal)\n",
    "    * Parameter pada distribusi binomial:\n",
    "        * n = jumlah percobaan\n",
    "        * p = probabilitas sukses dalam satu percobaan\n",
    "        * cth : koin ada 2 wajah dalam 1 koin = 1/2 = 0.5 setiap wajah utk probabilitas nya, jadi p = 0.5\n",
    "        * n = 100 kali\n",
    "        * 0.5 x 100 = 50, kemungkinan wajah akan keluar\n",
    "\n",
    "  ### 4. Distribusi Poisson\n",
    "    * Distribusi Poission adalah distribusi diskrit yang digunakan untuk memodelkan jumlah kejadian dalam interval waktu atau ruang tertentu ketika kejadian-kejadian tersebut terjadi independen dengan rata-rata konstan.\n",
    "    * Parameter pada distribusi poisson:\n",
    "        * ^ (lambda) = rata - rata jumlah kejadian dalam satu interval\n",
    "        * cth : salam 1 bulan berapa kali terjadi kecelakaaan, misalkan 2, nah 2 INI AKAN MENJADI LAMBDA NYA.\n",
    "    * muncul kejadian tertentu dalam satu interval"
   ]
  }
 ],
 "metadata": {
  "language_info": {
   "name": "python"
  }
 },
 "nbformat": 4,
 "nbformat_minor": 5
}
