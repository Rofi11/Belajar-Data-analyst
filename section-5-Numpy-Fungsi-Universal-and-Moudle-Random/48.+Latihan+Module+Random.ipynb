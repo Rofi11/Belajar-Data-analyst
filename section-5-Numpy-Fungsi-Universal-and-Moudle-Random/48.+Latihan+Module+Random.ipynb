{
 "cells": [
  {
   "cell_type": "markdown",
   "metadata": {
    "id": "qT4BuavmVvlw"
   },
   "source": [
    "# Latihan Module Random Numpy"
   ]
  },
  {
   "cell_type": "code",
   "execution_count": 1,
   "metadata": {
    "id": "Rz3Btb3cXySo"
   },
   "outputs": [],
   "source": [
    "import numpy as np"
   ]
  },
  {
   "cell_type": "markdown",
   "metadata": {
    "id": "uogHKGg4V3hO"
   },
   "source": [
    "### 1. Buatkan array dengan bilangan random integer ukuran 3x3 (nilai elemen tidak harus sesuai dengan solusi)"
   ]
  },
  {
   "cell_type": "markdown",
   "metadata": {
    "id": "RomNXK6kYgqE"
   },
   "source": []
  },
  {
   "cell_type": "code",
   "execution_count": 2,
   "metadata": {
    "id": "WZgMcSqedWEq"
   },
   "outputs": [
    {
     "data": {
      "text/plain": [
       "array([[46, 32, 37],\n",
       "       [37, 70, 41],\n",
       "       [32, 78,  1]], dtype=int32)"
      ]
     },
     "execution_count": 2,
     "metadata": {},
     "output_type": "execute_result"
    }
   ],
   "source": [
    "# ketik kode kalian di dalam cel ini\n",
    "np.random.randint(1,100,(3,3))"
   ]
  },
  {
   "cell_type": "code",
   "execution_count": null,
   "metadata": {
    "colab": {
     "base_uri": "https://localhost:8080/"
    },
    "executionInfo": {
     "elapsed": 439,
     "status": "ok",
     "timestamp": 1718949500729,
     "user": {
      "displayName": "Risdan Kristori",
      "userId": "02736671686515832267"
     },
     "user_tz": -420
    },
    "id": "fGtR-AGFXlGL",
    "outputId": "2ace9988-ca90-468f-c162-f88595ec0854"
   },
   "outputs": [
    {
     "data": {
      "text/plain": [
       "array([[ 1, 65, 33],\n",
       "       [ 3, 18, 18],\n",
       "       [63,  4, 31]])"
      ]
     },
     "execution_count": 5,
     "metadata": {},
     "output_type": "execute_result"
    }
   ],
   "source": [
    "# hasil output yang diinginkan:"
   ]
  },
  {
   "cell_type": "markdown",
   "metadata": {
    "id": "h7RotOdNXqBo"
   },
   "source": [
    "### 2. Buatkan array dengan bilangan random terdistribusi normal, dengan mean=4 dan variance=10, dan ukuran 3x3 (nilai elemen tidak harus sesuai dengan solusi)"
   ]
  },
  {
   "cell_type": "code",
   "execution_count": 3,
   "metadata": {
    "id": "Yh3wPv8ldaMc"
   },
   "outputs": [
    {
     "data": {
      "text/plain": [
       "array([[ -2.79869682, -10.58617175, -17.52459792],\n",
       "       [  3.21590951,  -2.83027987,   5.51398691],\n",
       "       [ 23.25477382,  -1.33783169,  -3.13406994]])"
      ]
     },
     "execution_count": 3,
     "metadata": {},
     "output_type": "execute_result"
    }
   ],
   "source": [
    "# ketik kode kalian di dalam cel ini\n",
    "np.random.normal(loc=4, scale=10, size=(3,3))"
   ]
  },
  {
   "cell_type": "code",
   "execution_count": null,
   "metadata": {
    "colab": {
     "base_uri": "https://localhost:8080/"
    },
    "executionInfo": {
     "elapsed": 425,
     "status": "ok",
     "timestamp": 1718949707734,
     "user": {
      "displayName": "Risdan Kristori",
      "userId": "02736671686515832267"
     },
     "user_tz": -420
    },
    "id": "9zp9XySYXmzl",
    "outputId": "269a70f7-644b-46d3-8bc0-d9100e347e03"
   },
   "outputs": [
    {
     "data": {
      "text/plain": [
       "array([[ 31.06849839,  10.28132709,  13.07969446],\n",
       "       [  9.03825754,  10.51117948,   0.80681955],\n",
       "       [ -4.48076983,  10.05965349, -16.18168244]])"
      ]
     },
     "execution_count": 7,
     "metadata": {},
     "output_type": "execute_result"
    }
   ],
   "source": [
    "# hasil output yang diinginkan:"
   ]
  },
  {
   "cell_type": "markdown",
   "metadata": {
    "id": "grKMeUDzYT6Y"
   },
   "source": [
    "### 3. Dengan seed = 101, buatkan angka random sesuai dengan solusi di soal no. 2"
   ]
  },
  {
   "cell_type": "code",
   "execution_count": 4,
   "metadata": {
    "id": "7pA_rETiddu5"
   },
   "outputs": [
    {
     "data": {
      "text/plain": [
       "array([[ 31.06849839,  10.28132709,  13.07969446],\n",
       "       [  9.03825754,  10.51117948,   0.80681955],\n",
       "       [ -4.48076983,  10.05965349, -16.18168244]])"
      ]
     },
     "execution_count": 4,
     "metadata": {},
     "output_type": "execute_result"
    }
   ],
   "source": [
    "# ketik kode kalian di dalam cel ini\n",
    "# 1. buat random seed untuk mengunci data\n",
    "np.random.seed(101)\n",
    "# buat angka random sesuai nomor 2\n",
    "np.random.normal(loc=4, scale=10, size=(3,3))"
   ]
  },
  {
   "cell_type": "code",
   "execution_count": null,
   "metadata": {
    "colab": {
     "base_uri": "https://localhost:8080/"
    },
    "executionInfo": {
     "elapsed": 413,
     "status": "ok",
     "timestamp": 1718949720501,
     "user": {
      "displayName": "Risdan Kristori",
      "userId": "02736671686515832267"
     },
     "user_tz": -420
    },
    "id": "F4UmFZXnYyN8",
    "outputId": "6e7a9acc-882c-4418-844b-bf54088464be"
   },
   "outputs": [
    {
     "data": {
      "text/plain": [
       "array([[ 31.06849839,  10.28132709,  13.07969446],\n",
       "       [  9.03825754,  10.51117948,   0.80681955],\n",
       "       [ -4.48076983,  10.05965349, -16.18168244]])"
      ]
     },
     "execution_count": 8,
     "metadata": {},
     "output_type": "execute_result"
    }
   ],
   "source": [
    "# hasil output yang diinginkan:"
   ]
  },
  {
   "cell_type": "code",
   "execution_count": null,
   "metadata": {
    "id": "fH7SKjxOYy3F"
   },
   "outputs": [],
   "source": []
  }
 ],
 "metadata": {
  "colab": {
   "authorship_tag": "ABX9TyOpisl66GXKAOYyd1Ylbnxm",
   "provenance": []
  },
  "kernelspec": {
   "display_name": "Python 3",
   "name": "python3"
  },
  "language_info": {
   "codemirror_mode": {
    "name": "ipython",
    "version": 3
   },
   "file_extension": ".py",
   "mimetype": "text/x-python",
   "name": "python",
   "nbconvert_exporter": "python",
   "pygments_lexer": "ipython3",
   "version": "3.13.5"
  }
 },
 "nbformat": 4,
 "nbformat_minor": 0
}
