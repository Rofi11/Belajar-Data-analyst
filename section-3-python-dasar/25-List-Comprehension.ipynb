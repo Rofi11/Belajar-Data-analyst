{
 "cells": [
  {
   "cell_type": "markdown",
   "id": "7be1494a",
   "metadata": {},
   "source": [
    "## List Comprehension\n",
    "    Cara sederhana membuat list dengan pengulangan for\n",
    "    * kita membuat list dengan satu baris\n",
    "    * bisa menambahkan if juga\n",
    "    * dimulai dengan expression nya dulu, baru loop nya\n",
    "    * [expression, looping, if (optional) ]\n",
    "    * cth 1 : test1 = [item**2 for item in a if item > 2]\n",
    "    * cth 2 : list_baru = [item*2 for item in a]"
   ]
  },
  {
   "cell_type": "code",
   "execution_count": null,
   "id": "2229de89",
   "metadata": {},
   "outputs": [],
   "source": [
    "from ast import comprehension\n",
    "a = [1,2,3,4,5]\n",
    "\n",
    "b = []\n",
    "\n",
    "for item in a:\n",
    "  # con = item * 2\n",
    "  b.append(item * 2)\n",
    "\n",
    "print(b)\n",
    "\n",
    "# cara yang lebih sederhana di list comprehension\n",
    "  # dengan satu baris\n",
    "list_baru = [item*2 for item in a]\n",
    "print(list_baru)\n",
    "\n",
    "  # dengan menggabungkan if conditional\n",
    "test1 = [item**2 for item in a if item > 2]\n",
    "print(test1)\n",
    "\n",
    "test2 = [item **2 for item in a if item % 2 == 0]\n",
    "print(test2)"
   ]
  }
 ],
 "metadata": {
  "language_info": {
   "name": "python"
  }
 },
 "nbformat": 4,
 "nbformat_minor": 5
}
