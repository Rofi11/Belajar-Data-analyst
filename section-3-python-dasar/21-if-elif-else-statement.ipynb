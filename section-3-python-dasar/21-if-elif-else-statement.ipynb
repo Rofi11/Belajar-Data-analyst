{
 "cells": [
  {
   "cell_type": "markdown",
   "id": "0a1d0607",
   "metadata": {},
   "source": [
    "## if-elif-else statement\n",
    "* Digunakan untuk menjalankan blok kode python dalam kondisi tertentu\n",
    "* untuk mencari True dan False bisa dengan operator perbandingan\n",
    "* kunci nya ada di statement true/false nya\n",
    "* if adalah pengecekan ke satu\n",
    "* elif bisa lebih dari 1\n",
    "* else adalah nilai default jika semua kondisi tidak terpenuhi"
   ]
  },
  {
   "cell_type": "code",
   "execution_count": null,
   "id": "22252468",
   "metadata": {},
   "outputs": [],
   "source": [
    "# cara membuat if else\n",
    "if True:\n",
    "  print(\"Berhasil\")\n",
    "\n",
    "var = 8\n",
    "if var > 5:\n",
    "  print(\"Operator perbandingan Berhasil\")\n",
    "\n",
    "num = 3\n",
    "if num == 3:\n",
    "  print(f\"ini bagian if --> {num}\")\n",
    "elif num == 5:\n",
    "  print(f\"ini bagian elif --> {num}\")\n",
    "else:\n",
    "  print(f\"selain num yang ada {num}\")"
   ]
  }
 ],
 "metadata": {
  "language_info": {
   "name": "python"
  }
 },
 "nbformat": 4,
 "nbformat_minor": 5
}
