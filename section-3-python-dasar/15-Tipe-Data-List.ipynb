{
 "cells": [
  {
   "cell_type": "markdown",
   "id": "a353336e",
   "metadata": {},
   "source": [
    "## Tipe Data list\n",
    "\n",
    "* dibentuk dengan [] --> kurung kotak, seperti array di JS\n",
    "* bisa dimasukan tipe data apapun, satu jenis atau campuran\n",
    "* didalam nya bisa ada list juga (nested list)\n",
    "* kita bisa indexing (dari depan start o, belankang -1) dan slicing\n",
    "* Method built-in function\n"
   ]
  },
  {
   "cell_type": "code",
   "execution_count": null,
   "id": "8115809b",
   "metadata": {},
   "outputs": [],
   "source": [
    "# Tiep data list\n",
    "[1, 2, 3] #list angka\n",
    "['a', 'b', 'c']\n",
    "#campuran tipe data\n",
    "[1, 3.14, 'a', [1,2,3]] # nested list "
   ]
  },
  {
   "cell_type": "code",
   "execution_count": null,
   "id": "527c298e",
   "metadata": {},
   "outputs": [],
   "source": [
    "# Tiep data list\n",
    "[1, 2, 3] #list angka\n",
    "['a', 'b', 'c']\n",
    "#campuran tipe data\n",
    "[1, 3.14, 'a', [1,2,3]] # nested list "
   ]
  },
  {
   "cell_type": "code",
   "execution_count": null,
   "id": "4d38af91",
   "metadata": {},
   "outputs": [],
   "source": [
    "# Tiep data list\n",
    "[1, 2, 3] #list angka\n",
    "['a', 'b', 'c']\n",
    "#campuran tipe data\n",
    "[1, 3.14, 'a', [1,2,3]] # nested list "
   ]
  },
  {
   "cell_type": "code",
   "execution_count": null,
   "id": "5ecef5b8",
   "metadata": {},
   "outputs": [],
   "source": [
    "# method built-function\n",
    "# kembalikan dulu var menjadi a, b, c\n",
    "var = ['a', 'b', 'c']\n",
    "\n",
    "# menambah\n",
    "var.append('d')\n",
    "\n",
    "# menghapus\n",
    "var.remove('b') #masukan nilai nya\n",
    "var.pop(2) # yang di masukan index nya, dan punya nilai return nya"
   ]
  }
 ],
 "metadata": {
  "language_info": {
   "name": "python"
  }
 },
 "nbformat": 4,
 "nbformat_minor": 5
}
