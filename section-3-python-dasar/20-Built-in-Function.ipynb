{
 "cells": [
  {
   "cell_type": "markdown",
   "id": "4493b606",
   "metadata": {},
   "source": [
    "## Built-in fucntion\n",
    "  Macam built-in function bisa dilihat di https://docs.python.org/3/library/functions.html\n",
    "  * type() --> utk tau type data\n",
    "  * len() --> utk mengetahui panjang karakter sequential\n",
    "  * int() --> mengkonversi nilai ke integer\n",
    "  * float() --> mengkonversi nilai ke float\n",
    "  * str() --> mengkonversi ke dalam string\n",
    "  * list() --> mengkonversi menjadi list\n",
    "  * set() --> mengkonversi menjadi Set\n",
    "  * Tuple() --> mengkonversi menjadi Tuple\n",
    "  * dict() --> mengkonversi menjadi dictionary (key : value)\n",
    "  * bool() --> mencari tau berniali True atau False\n",
    "\n",
    "Note : sisa nya bisa baca dokumentasi"
   ]
  },
  {
   "cell_type": "code",
   "execution_count": null,
   "id": "8138d64a",
   "metadata": {},
   "outputs": [],
   "source": [
    "# pengkonversian\n",
    "# List\n",
    "list_text = 'halo'\n",
    "k_list_text = list(list_text)\n",
    "print(k_list_text) # jadi list ['h', 'a', 'l', 'o']\n",
    "\n",
    "# Set\n",
    "set_text = 'halo ola'\n",
    "k_set_text = set(set_text)\n",
    "print(k_set_text) # jadi {'o', 'h', 'a', ' ', 'l'}, karena memunculkan yang unique dan tidak mengulang\n",
    "\n",
    "# Dictionary\n",
    "dictionary_text = 'halo'\n",
    "dictionary_nilai = [90, 60]\n",
    "k_set_dictionary = dict(\n",
    "    nama = dictionary_text,\n",
    "    nilai = dictionary_nilai,\n",
    "    dictionary_text = dictionary_nilai )\n",
    "print(k_set_dictionary)"
   ]
  }
 ],
 "metadata": {
  "language_info": {
   "name": "python"
  }
 },
 "nbformat": 4,
 "nbformat_minor": 5
}
