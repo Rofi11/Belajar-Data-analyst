{
 "cells": [
  {
   "cell_type": "markdown",
   "id": "e84b8bcb",
   "metadata": {},
   "source": [
    "## Tipe Data String\n",
    "*   Ini seperti Text / Varchart\n",
    "*   menggunakan '', atau \"\" untuk membuat tipe data string\n",
    "* hati2 dalam penggunaan petik nya, bisa terjadi error jika ada string yang sama menggunakan dalam penulisan\n",
    "\n",
    "* dalam tipe data string ada indexing dan slicing\n",
    "* indexing dalam python start dari 0 (dari depan), dan -1 (kalo dari belakang)\n",
    "* Slicing mengambil sebagian data  dengan cara --> (start index : akhir index), cth : var = \"STRING\" --> var[0:3] --> hasilnya \"STR\", yang di ambil index ke 2\n"
   ]
  },
  {
   "cell_type": "code",
   "execution_count": null,
   "id": "6641b10e",
   "metadata": {},
   "outputs": [],
   "source": [
    "petik1 = 'halo'\n",
    "petik2 = \"halo\"\n",
    "var = \"STRING\"\n",
    "# print(petik1)\n",
    "# print(petik2)\n",
    "\n",
    "# indexing\n",
    "indexing1 = var[-2]\n",
    "print(indexing1) ## hasil N karena mengambil index ke -2 dari belakang\n",
    "# slicing\n",
    "slicing1 = var[0:3] ## hasil nya \"STR\" karena 0 sebagai start index, 3 sebagai ujung nya, yang di ambil index ke 2\n",
    "slicing2 = var[1:] ## akan mengambil dari index ke 1 sampai ke akhiran\n",
    "print(slicing1)\n",
    "print(slicing2)"
   ]
  }
 ],
 "metadata": {
  "kernelspec": {
   "display_name": "Python 3",
   "language": "python",
   "name": "python3"
  },
  "language_info": {
   "codemirror_mode": {
    "name": "ipython",
    "version": 3
   },
   "file_extension": ".py",
   "mimetype": "text/x-python",
   "name": "python",
   "nbconvert_exporter": "python",
   "pygments_lexer": "ipython3",
   "version": "3.13.5"
  }
 },
 "nbformat": 4,
 "nbformat_minor": 5
}
