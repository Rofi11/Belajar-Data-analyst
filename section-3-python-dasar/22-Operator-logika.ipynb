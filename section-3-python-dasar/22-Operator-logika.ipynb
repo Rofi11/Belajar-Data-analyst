{
 "cells": [
  {
   "cell_type": "markdown",
   "id": "ce9f9b52",
   "metadata": {},
   "source": [
    "## Operator Logika -> and, or dan not\n",
    "### and\n",
    "  * akan bernilai true jika ke 2 nya true\n",
    "      * True and True --> True\n",
    "      * True and False --> False\n",
    "\n",
    "### or\n",
    "  * akan bernilai true jika salah 1 nya true\n",
    "      * True or True --> True\n",
    "      * True or False --> True\n",
    "      * False or False --> False\n",
    "\n",
    "### not\n",
    "  * akan membalikan nilai awal\n",
    "      * not True --> False\n",
    "      * not False --> True"
   ]
  },
  {
   "cell_type": "code",
   "execution_count": null,
   "id": "2fa3c285",
   "metadata": {},
   "outputs": [],
   "source": [
    "#  Penerapan Operator logika\n",
    "x = 0\n",
    "y = 4\n",
    "\n",
    "if x == 0 and y == 4:\n",
    "  print(\"Anda hebat\")\n",
    "else:\n",
    "  print(\"coba lagi\")"
   ]
  }
 ],
 "metadata": {
  "language_info": {
   "name": "python"
  }
 },
 "nbformat": 4,
 "nbformat_minor": 5
}
