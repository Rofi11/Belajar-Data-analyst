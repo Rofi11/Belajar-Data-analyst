{
 "cells": [
  {
   "cell_type": "markdown",
   "id": "c2e4055e",
   "metadata": {},
   "source": [
    "## Tipe Data Boolean dan Operator perbandingan\n",
    "  * Boolean -> nilai True dan False\n",
    "  * Operator perbandingan mencakup banyak hal yang akhir nya akan menghasilkan True or False\n",
    "  * bisa dimasukan kedalam variabel\n",
    "  \n",
    "        1. == (sama dengan) -> type nya harus sama jika ingin true\n",
    "        2. != (tidak sama dengan)\n",
    "        3. > (lebih besar)\n",
    "        4. < (lebih kecil)\n",
    "        5. >= (lebih besar dan sama dengan)\n",
    "        6. <= (lebih kecil dan sama dengan)"
   ]
  },
  {
   "cell_type": "code",
   "execution_count": null,
   "id": "5baf8419",
   "metadata": {},
   "outputs": [],
   "source": [
    "# Operator Perbandingan\n",
    "print(4 > 2)\n",
    "print(4 < 2)\n",
    "print(4 == 4)\n",
    "print(4 == '4')\n",
    "print(3 >= 3)\n",
    "print(4 <= 5)\n",
    "print(4 != 5)\n",
    "\n",
    "tesst = 8\n",
    "print('dalam variabel --> ', tesst > 5)"
   ]
  },
  {
   "cell_type": "markdown",
   "id": "5b321303",
   "metadata": {},
   "source": []
  }
 ],
 "metadata": {
  "language_info": {
   "name": "python"
  }
 },
 "nbformat": 4,
 "nbformat_minor": 5
}
