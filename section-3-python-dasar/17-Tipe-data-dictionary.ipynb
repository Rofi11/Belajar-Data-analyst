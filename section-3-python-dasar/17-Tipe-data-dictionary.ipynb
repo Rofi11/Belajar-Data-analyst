{
 "cells": [
  {
   "cell_type": "markdown",
   "id": "db01ed2e",
   "metadata": {},
   "source": [
    "## Tipe Data Dictionary\n",
    "* dibuat dengan {} --> kurung kurawal\n",
    "* dibentuk dengan key : value\n",
    "* key disini digunakan utk mengakses value nya\n",
    "* nilai value memiliki sifat mutable (bisa di ubah value nya)\n",
    "* bisa memasukan berbagai macam tipe data\n",
    "* mencari data di dictionary panggil key nya dalam kurung siku []\n",
    "* menambahkan element baru, panggil dictionary nya lalu tulis key dan value nya -> data_siswa['kelas'] = 12"
   ]
  },
  {
   "cell_type": "code",
   "execution_count": 1,
   "id": "2276e48b",
   "metadata": {},
   "outputs": [
    {
     "name": "stdout",
     "output_type": "stream",
     "text": [
      "1\n",
      "{'k1': 5, 'k2': 2, 'k3': 3}\n"
     ]
    }
   ],
   "source": [
    "# Tipe data dictionary\n",
    "type_dictionary = {'k1' : 1, 'k2' : 2, 'k3' : 3}\n",
    "\n",
    "# cara memanggil nya\n",
    "print(type_dictionary['k1'])\n",
    "\n",
    "# value bersifat mutable dapat diubah\n",
    "type_dictionary['k1'] = 5 # kita ubah value nya\n",
    "print(type_dictionary)"
   ]
  },
  {
   "cell_type": "code",
   "execution_count": null,
   "id": "43b9a27e",
   "metadata": {},
   "outputs": [
    {
     "name": "stdout",
     "output_type": "stream",
     "text": [
      "[100, 98, 97, 80]\n",
      "100\n",
      "main bola\n",
      "{'nama': 'Rofi', 'nomor_induk': 13134, 'nilai': [100, 98, 97, 80], 'lainya': {'hobi': 'main bola', 'eskul': 'badminton'}, 'kelas': 12}\n"
     ]
    }
   ],
   "source": [
    "#  tipe dictionary campur\n",
    "data_siswa = {'nama': 'Rofi',\n",
    "              'nomor_induk' : 13134, \n",
    "              'nilai' : [100,98,97,80], \n",
    "              'lainya' : {'hobi' : 'main bola' , 'eskul' : 'badminton'} # nested dictionary \n",
    "              }\n",
    "\n",
    "print(data_siswa['nilai'])\n",
    "# mencari data di list\n",
    "print(data_siswa['nilai'][0])\n",
    "# mencari data di dictionary panggil key nya\n",
    "print(data_siswa['lainya']['hobi'])\n",
    "\n",
    "# cara menambahkan element\n",
    "    # panngil dictionary nya masukan key baru dan  value nya\n",
    "data_siswa['kelas'] = 12\n",
    "print(data_siswa)"
   ]
  }
 ],
 "metadata": {
  "kernelspec": {
   "display_name": "Python 3",
   "language": "python",
   "name": "python3"
  },
  "language_info": {
   "codemirror_mode": {
    "name": "ipython",
    "version": 3
   },
   "file_extension": ".py",
   "mimetype": "text/x-python",
   "name": "python",
   "nbconvert_exporter": "python",
   "pygments_lexer": "ipython3",
   "version": "3.13.5"
  }
 },
 "nbformat": 4,
 "nbformat_minor": 5
}
