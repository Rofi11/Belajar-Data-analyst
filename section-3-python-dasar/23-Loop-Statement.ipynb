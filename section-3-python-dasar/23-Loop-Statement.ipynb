{
 "cells": [
  {
   "cell_type": "markdown",
   "id": "ce311693",
   "metadata": {},
   "source": [
    "## Pengulangan (Loop Statement)\n",
    " Stuktur kode pyhon yang memungkinkan kita mengulang blok kode hingga setiap elemennya habis atau tercapai kondisi tertentu, ada 2 yagn biasa digunakan :\n",
    " 1. For loop : mengulang blok kode dengan Object Sequential\n",
    "    * cth : list, string, tuple\n",
    " 2. while loop : mengulang blok kode sampai kondisi tertentu tercapai\n",
    "    * di hentikan dengan increment/decrement\n",
    "    * dihentikan dengan loop control statement : break"
   ]
  },
  {
   "cell_type": "code",
   "execution_count": null,
   "id": "0edd68bb",
   "metadata": {},
   "outputs": [],
   "source": [
    "# For loop\n",
    "\n",
    "variabel = [1,2,3,4,5]\n",
    "\n",
    "for item in variabel:\n",
    "  print(item)\n",
    "\n",
    "# While loop\n",
    "\n",
    "i = 4\n",
    "\n",
    "while i > 0 :\n",
    "  print(i, \"ini yang while loop\")\n",
    "  # reassigment dng decrement, agar tidak terjadi infinite loop\n",
    "  i -= 1\n",
    "\n",
    "#  Loop control statement : break\n",
    "s = 5\n",
    "\n",
    "while True:\n",
    "  print(\"Halo\")\n",
    "  s -= 1\n",
    "  print(s)\n",
    "  if s == 0:\n",
    "    break"
   ]
  }
 ],
 "metadata": {
  "language_info": {
   "name": "python"
  }
 },
 "nbformat": 4,
 "nbformat_minor": 5
}
