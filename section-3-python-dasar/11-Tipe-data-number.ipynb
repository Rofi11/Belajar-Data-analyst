{
 "cells": [
  {
   "cell_type": "markdown",
   "id": "8e38a632",
   "metadata": {},
   "source": [
    "# Python Dasar\n",
    "Note : Materi python dasar berikut ini tidka mencakup pembelajaran bahasa pemograman python secara keseluruhan, tetapi disusun agar dapat mengikuti kelas analisis data dan visualisasi data (Bootcamp Data Analyst) Python, jika ingin belajar bahasa python secara lebih lengkap bisa mengikuti kelas lain, atau buka web dokumentasi python."
   ]
  },
  {
   "cell_type": "markdown",
   "id": "c30f98b0",
   "metadata": {},
   "source": [
    "## Tipe Data Number"
   ]
  },
  {
   "cell_type": "code",
   "execution_count": null,
   "id": "83e8aab3",
   "metadata": {},
   "outputs": [],
   "source": [
    "# interger / bilangan bulat\n",
    "# baik positive atau negative semua termasuk ke interger\n",
    "1,2,3,4,5,-1,-2,-3"
   ]
  },
  {
   "cell_type": "code",
   "execution_count": null,
   "id": "0662fbce",
   "metadata": {},
   "outputs": [],
   "source": [
    "# float/ bilangan desimal\n",
    "# semua yang ada titik kalo di pemograman\n",
    "3.14"
   ]
  },
  {
   "cell_type": "markdown",
   "id": "02394db4",
   "metadata": {},
   "source": [
    "## Operasi Aritmatika\n",
    "*   Pertambahan (addiction)\n",
    "*   Pengurangan (substriction)\n",
    "*   Perkalian (multiplication)\n",
    "*   Pembagian (division)\n",
    "*   Modulus (sisa bagi)\n",
    "*   perpangkatan\n",
    "*   increment\n",
    "*   decrement\n",
    "*   Rumus utama aritmatika (kukabataku --> kurung, kali, bagi, tambah, kurang)"
   ]
  },
  {
   "cell_type": "code",
   "execution_count": null,
   "id": "7d653245",
   "metadata": {},
   "outputs": [],
   "source": [
    "# pertambahan\n",
    "34 + 12"
   ]
  },
  {
   "cell_type": "code",
   "execution_count": null,
   "id": "b711f4c7",
   "metadata": {},
   "outputs": [],
   "source": [
    "# pengurangan\n",
    "12-10"
   ]
  },
  {
   "cell_type": "code",
   "execution_count": null,
   "id": "b59daab2",
   "metadata": {},
   "outputs": [],
   "source": [
    "# perkalian\n",
    "2*3"
   ]
  },
  {
   "cell_type": "code",
   "execution_count": null,
   "id": "727ce745",
   "metadata": {},
   "outputs": [],
   "source": [
    "# pembagian\n",
    "10/2"
   ]
  },
  {
   "cell_type": "code",
   "execution_count": null,
   "id": "9e1b46b0",
   "metadata": {},
   "outputs": [],
   "source": [
    "# perpangkatan\n",
    "2**3 #2x2x2 --> 2 pangkat3 = 8"
   ]
  },
  {
   "cell_type": "code",
   "execution_count": null,
   "id": "c62be08e",
   "metadata": {},
   "outputs": [],
   "source": [
    "# perpangkatan\n",
    "2**3 #2x2x2 --> 2 pangkat3 = 8"
   ]
  },
  {
   "cell_type": "code",
   "execution_count": null,
   "id": "d891c989",
   "metadata": {},
   "outputs": [],
   "source": [
    "# floor division --> membulatkan ke bawah\n",
    "3//2 # hasilnya 1, kenapa karena asalnya 1.5 dibulatkan kebawah"
   ]
  }
 ],
 "metadata": {
  "kernelspec": {
   "display_name": "Python 3",
   "language": "python",
   "name": "python3"
  },
  "language_info": {
   "codemirror_mode": {
    "name": "ipython",
    "version": 3
   },
   "file_extension": ".py",
   "mimetype": "text/x-python",
   "name": "python",
   "nbconvert_exporter": "python",
   "pygments_lexer": "ipython3",
   "version": "3.13.5"
  }
 },
 "nbformat": 4,
 "nbformat_minor": 5
}
