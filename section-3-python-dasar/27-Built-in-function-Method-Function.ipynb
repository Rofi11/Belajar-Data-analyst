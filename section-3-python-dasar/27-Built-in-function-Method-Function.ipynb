{
 "cells": [
  {
   "cell_type": "markdown",
   "id": "0db5e5f1",
   "metadata": {},
   "source": [
    "## Built-in Function, Method, dan fungsi\n",
    "  * Built-in function adalah fungsi-fungsi bawaan dari python\n",
    "  * Method adalah function yang berada dalam object python\n",
    "      * setiap object python memiliki method yang berbeda-beda\n",
    "      * seperti append yang berada dalam list\n",
    "  * fungsi adalah fungsi yang kita buat sendiri dengan algoritma yang kita mau\n",
    "  * cara utk mengetahui dokuemntasi di jupyter tentang method dan built-in function pakai ?\n",
    "        * cth : var = [1,2,3]\n",
    "            var.append?\n",
    "            print?"
   ]
  }
 ],
 "metadata": {
  "kernelspec": {
   "display_name": "Python 3",
   "language": "python",
   "name": "python3"
  },
  "language_info": {
   "codemirror_mode": {
    "name": "ipython",
    "version": 3
   },
   "file_extension": ".py",
   "mimetype": "text/x-python",
   "name": "python",
   "nbconvert_exporter": "python",
   "pygments_lexer": "ipython3",
   "version": "3.13.5"
  }
 },
 "nbformat": 4,
 "nbformat_minor": 5
}
