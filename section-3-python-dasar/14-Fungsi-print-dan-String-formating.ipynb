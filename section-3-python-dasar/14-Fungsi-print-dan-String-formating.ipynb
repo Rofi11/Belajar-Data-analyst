{
 "cells": [
  {
   "cell_type": "markdown",
   "id": "99aa3d50",
   "metadata": {},
   "source": [
    "## Fungsi Print dan String Formatting\n",
    "\n",
    "\n",
    "*   untuk mencetak ke dalam console\n",
    "*   jikabekerja dalam IDE utk melihat hasil harus dimasukan kedalam print\n",
    "\n",
    "### String Formating\n",
    "\n",
    "\n",
    "*   Penulisan dengan variabel-variabel tertentu\n",
    "*   salah satunya adalah fstring --> yang populer dipakai\n",
    "*   dan modulo string\n"
   ]
  },
  {
   "cell_type": "code",
   "execution_count": 2,
   "id": "395108dc",
   "metadata": {},
   "outputs": [],
   "source": [
    "# initiate variabel\n",
    "nama = \"Rofi\"\n",
    "umur = 20"
   ]
  },
  {
   "cell_type": "code",
   "execution_count": 3,
   "id": "2a47f67d",
   "metadata": {},
   "outputs": [
    {
     "name": "stdout",
     "output_type": "stream",
     "text": [
      "Nama saya adalah Rofi. umur saya 20 Tahun\n"
     ]
    }
   ],
   "source": [
    "# string formating fstring --> yang populer dipakai saat ini\n",
    "\n",
    "print(f\"Nama saya adalah {nama}. umur saya {umur} Tahun\")"
   ]
  },
  {
   "cell_type": "code",
   "execution_count": 4,
   "id": "016c3aa2",
   "metadata": {},
   "outputs": [
    {
     "data": {
      "text/plain": [
       "'Nilai matematika yang sudah di ubah 90.12'"
      ]
     },
     "execution_count": 4,
     "metadata": {},
     "output_type": "execute_result"
    }
   ],
   "source": [
    "#  string formating untuk float\n",
    "matematika = 90.1234\n",
    "f\"Nilai matematika saya adalah {matematika}\"\n",
    "# width = utk lebar aja (yang didepan titik --> biasanya di kosongkan)\n",
    "# .2f = berapa angka di belakang titik\n",
    "f\"Nilai matematika yang sudah di ubah {matematika:4.2f}\" #4 = width, .2f = ambil 2 angka float"
   ]
  },
  {
   "cell_type": "code",
   "execution_count": 5,
   "id": "1a966109",
   "metadata": {},
   "outputs": [
    {
     "name": "stdout",
     "output_type": "stream",
     "text": [
      "nama saya adalah Rofi. Nilai matematika saya adalah 90.12\n"
     ]
    }
   ],
   "source": [
    "# formating string modulo --> tehnik menyiapkan penampung pentarget \n",
    "print(\"nama saya adalah %s. Nilai matematika saya adalah %.2f\"%(nama, matematika)) #jangan lupa memasukan variabel yg perlu di panggil\n",
    "# %s --> untuk string\n",
    "# %.2f --> utk float"
   ]
  }
 ],
 "metadata": {
  "kernelspec": {
   "display_name": "Python 3",
   "language": "python",
   "name": "python3"
  },
  "language_info": {
   "codemirror_mode": {
    "name": "ipython",
    "version": 3
   },
   "file_extension": ".py",
   "mimetype": "text/x-python",
   "name": "python",
   "nbconvert_exporter": "python",
   "pygments_lexer": "ipython3",
   "version": "3.13.5"
  }
 },
 "nbformat": 4,
 "nbformat_minor": 5
}
