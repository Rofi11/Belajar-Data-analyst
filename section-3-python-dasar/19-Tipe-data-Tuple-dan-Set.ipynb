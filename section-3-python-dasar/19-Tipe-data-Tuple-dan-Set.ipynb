{
 "cells": [
  {
   "cell_type": "markdown",
   "id": "22957b69",
   "metadata": {},
   "source": [
    "## Tipe Data Tuple dan Set\n",
    "    ### Tipe data Tuple\n",
    "      * Tuple bersifat immutable dan di bentuk pakai ()\n",
    "      * bisa dimasukan bebreapa tipe data berbeda\n",
    "      * tidak memiliki method data menambah dan menghapus\n",
    "\n",
    "    ### Tipe data set\n",
    "      * Set bersifat Mutable dan di bentuk pakai kurung kurawal {}\n",
    "      * element-element nya akan bersifat unique, element yang sama akan di tampilkan hanya satu kali saja\n",
    "      * method untuk menambah apakai add\n",
    "      * method menghapus memakai remove"
   ]
  },
  {
   "cell_type": "code",
   "execution_count": null,
   "id": "4479af65",
   "metadata": {},
   "outputs": [],
   "source": [
    "# Tipe data Tuple\n",
    "t = (1,2,3)\n",
    "# panggil\n",
    "print(t[0])\n",
    "\n",
    "# Tuple dengan banyak data\n",
    "t1 = (1,2,3, 'halo', True)\n",
    "print(t1)"
   ]
  },
  {
   "cell_type": "code",
   "execution_count": null,
   "id": "dc25a339",
   "metadata": {},
   "outputs": [],
   "source": [
    "# Tipe data set\n",
    "s = {1,1,1,2,2,2,3,'a','a','b'}\n",
    "print(s) # hasilnya akan {1, 2, 3, 'b', 'a'} --> karena yang akan di tampilkan akan data unique\n",
    "\n",
    "# method menambah\n",
    "s.add(4)\n",
    "print(s)\n",
    "\n",
    "# method menghapus\n",
    "s.remove(2)\n",
    "print(s)"
   ]
  }
 ],
 "metadata": {
  "language_info": {
   "name": "python"
  }
 },
 "nbformat": 4,
 "nbformat_minor": 5
}
