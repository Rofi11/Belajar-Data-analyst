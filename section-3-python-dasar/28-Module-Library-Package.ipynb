{
 "cells": [
  {
   "cell_type": "markdown",
   "id": "ec5ec9ef",
   "metadata": {},
   "source": [
    "## Module/Library/Package\n",
    "  ### Module\n",
    "    * Module adalah file yang berisi code-code python, biasanya variable, function, class, yagn didalam nya ada object python\n",
    "    * biasanya digunakan untuk tujuan-tujuan tertentu seperti pandas utk data analis\n",
    "\n",
    "  ### Library\n",
    "    * Kumpulan Module\n",
    "\n",
    "  ### Package\n",
    "    * package adalah kumpulan Library\n",
    "\n",
    "  ### untuk mengecek module/ dan install\n",
    "    * pip list --> akan menunjukan yang module yang sudah terinstal\n",
    "    * pip install nama_module --> instal moudle yang belum ada\n",
    "\n",
    "  ### cara menggunakan module\n",
    "    * import nama_module\n",
    "    * cth : import pandas\n",
    "    * umum nya suka di buat alias (as) utk memudahkan"
   ]
  },
  {
   "cell_type": "code",
   "execution_count": null,
   "id": "d4e81087",
   "metadata": {},
   "outputs": [],
   "source": [
    "# pip list\n",
    "import pandas as pd\n",
    "\n",
    "pd.DataFrame"
   ]
  }
 ],
 "metadata": {
  "language_info": {
   "name": "python"
  }
 },
 "nbformat": 4,
 "nbformat_minor": 5
}
