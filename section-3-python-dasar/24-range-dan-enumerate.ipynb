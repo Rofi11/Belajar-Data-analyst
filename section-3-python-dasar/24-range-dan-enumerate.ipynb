{
 "cells": [
  {
   "cell_type": "markdown",
   "id": "933a07a3",
   "metadata": {},
   "source": [
    "## Fungsi range() dan enumerate()\n",
    "Built-in function python yang digunakan untuk urutan angka\n",
    "  * range()\n",
    "      * membuat urutan angka\n",
    "  * enumerate()\n",
    "      * membuat urutan angka\n",
    "      * pembedanya adalah yang di masukan object sequential (list, string, tuple)"
   ]
  },
  {
   "cell_type": "code",
   "execution_count": null,
   "id": "56c13bf1",
   "metadata": {},
   "outputs": [],
   "source": [
    "# range\n",
    "for i in range(1, 11):\n",
    "  print(i)\n",
    "\n",
    "# enumerate\n",
    "murid = [\n",
    "    \"Andi\",\n",
    "    \"Ani\",\n",
    "    \"Riska\",\n",
    "    \"Budi\"\n",
    "]\n",
    "#  i = index, item = satuan di list murid, start = utk mengatur start nomor index\n",
    "for i, item in enumerate(murid, start=1):\n",
    "  print(f\"Murid no. {i} adalah {item}\")"
   ]
  }
 ],
 "metadata": {
  "kernelspec": {
   "display_name": "Python 3",
   "language": "python",
   "name": "python3"
  },
  "language_info": {
   "codemirror_mode": {
    "name": "ipython",
    "version": 3
   },
   "file_extension": ".py",
   "mimetype": "text/x-python",
   "name": "python",
   "nbconvert_exporter": "python",
   "pygments_lexer": "ipython3",
   "version": "3.13.5"
  }
 },
 "nbformat": 4,
 "nbformat_minor": 5
}
