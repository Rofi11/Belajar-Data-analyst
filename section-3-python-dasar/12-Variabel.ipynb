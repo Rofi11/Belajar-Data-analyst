{
 "cells": [
  {
   "cell_type": "markdown",
   "id": "389c9e67",
   "metadata": {},
   "source": [
    "## Variabel\n",
    "  \n",
    "\n",
    "*   tujuan variabel adalah untuk menyimpan data sementara\n",
    "*   kita perlu mendeklarasikan tipe data terlebih dahulu sebagai penampung\n",
    "*   kita bisa menyimpan banyak tipe data kedalam variable baik primitif atau object, array\n",
    "*  nilai variabel selalu di ambil dariyang terakhir karena global scope\n",
    "\n",
    "### penamaan variabel\n",
    "\n",
    "\n",
    "1. tidak boleh ada spasi\n",
    "2. tidak boleh dimulai ada angka\n",
    "3. umum nya di python menggunakan snake case (nama_singkat)\n",
    "4. tidak boleh dimulai dengan symbol\n",
    "5. variabel bisa di ubah (reassigment)"
   ]
  },
  {
   "cell_type": "code",
   "execution_count": null,
   "id": "9cfd8d32",
   "metadata": {},
   "outputs": [],
   "source": [
    "# menyimpan dan membuat logika dengan variabel\n",
    "y = 5\n",
    "x = 3\n",
    "name_singkat = \"rofi\"\n",
    "\n",
    "z = y - x\n",
    "print(z)\n",
    "print(name_singkat)"
   ]
  }
 ],
 "metadata": {
  "language_info": {
   "name": "python"
  }
 },
 "nbformat": 4,
 "nbformat_minor": 5
}
