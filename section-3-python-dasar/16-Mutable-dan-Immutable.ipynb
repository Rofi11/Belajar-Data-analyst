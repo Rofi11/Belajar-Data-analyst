{
 "cells": [
  {
   "cell_type": "markdown",
   "id": "6fa14f9e",
   "metadata": {},
   "source": [
    "## Mutable dan Immutable\n",
    "\n",
    "* Object Mutable adalah suatu object **YANG DAPAT DIUBAH setelah di buat** \n",
    "\n",
    "  1.   List\n",
    "  2.   Dictionary\n",
    "  3.   Set\n",
    "\n",
    "* Object Immutable adalah suatu object **YANG TIDAK DAPAT DI UBAH setelah dibuat** --> reassignment tidak termasuk, dimasukan ke rubah satuan, yang tidak bisa itu merubah data perindex\n",
    "  1. String\n",
    "  2. integer\n",
    "  3. boolean\n",
    "  4. float\n",
    "  4. Tuple"
   ]
  },
  {
   "cell_type": "code",
   "execution_count": null,
   "id": "df0a0270",
   "metadata": {},
   "outputs": [],
   "source": [
    "# mutable dan immutable\n",
    "string = \"halo\"\n",
    "type_list = ['h','a','l','o']"
   ]
  },
  {
   "cell_type": "code",
   "execution_count": null,
   "id": "c354ccf9",
   "metadata": {},
   "outputs": [],
   "source": [
    "# Immutable\n",
    "string[1] = 'o' # error karena immutable, tidak bisa dipaksakan ngubah\n",
    "# menggunakan index nya jika reassigment isi keseluruhan mah masih bisa \n",
    "# yang dimasuk mengubah data per index"
   ]
  },
  {
   "cell_type": "code",
   "execution_count": null,
   "id": "2d1ab4d8",
   "metadata": {},
   "outputs": [],
   "source": [
    "# mutable\n",
    "type_list[1] = '0'\n",
    "print(type_list)"
   ]
  }
 ],
 "metadata": {
  "language_info": {
   "name": "python"
  }
 },
 "nbformat": 4,
 "nbformat_minor": 5
}
