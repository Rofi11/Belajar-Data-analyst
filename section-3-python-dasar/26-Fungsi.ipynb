{
 "cells": [
  {
   "cell_type": "markdown",
   "id": "9ea840a2",
   "metadata": {},
   "source": [
    "## Fungsi\n",
    "* keyword def --> utk membuat fungsi itu sendiri\n",
    "* Memanggil fungsi\n",
    "* Parameter\n",
    "    * parameter bisa lebih dari 1\n",
    "* Default parameter --> utk memberika nilai bawaan\n",
    "* return statement --> utk mengeluarkan hasil dari fungsi"
   ]
  },
  {
   "cell_type": "code",
   "execution_count": null,
   "id": "de9d67ef",
   "metadata": {},
   "outputs": [],
   "source": [
    "# Membuat fungsi\n",
    "def katakan_halo():\n",
    "  print(\"Hello world\")\n",
    "\n",
    "#  funsgi dan parameter, dan ada default parameter\n",
    "def name(name, umur = 0):\n",
    "  print(f\"Halo nama saya {name}, umur saya {umur}\")\n",
    "\n",
    "# memanggil fungsi\n",
    "katakan_halo()\n",
    "name(\"rofi\", 30) # wajib memasukan argument\n",
    "name(\"test\")\n",
    "\n",
    "# Return statement\n",
    "def penjumlahan(a, b):\n",
    "  hasil = a + b\n",
    "  return hasil\n",
    "\n",
    "hasil1 = penjumlahan(10, 5)\n",
    "print(hasil1)"
   ]
  }
 ],
 "metadata": {
  "language_info": {
   "name": "python"
  }
 },
 "nbformat": 4,
 "nbformat_minor": 5
}
