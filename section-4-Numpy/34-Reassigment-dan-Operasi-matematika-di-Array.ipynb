{
 "cells": [
  {
   "cell_type": "markdown",
   "id": "6a52521c",
   "metadata": {},
   "source": [
    "## Reassignment dan Operasi Matematika pada Array\n",
    "Mengubah Nilai/Data yang terdapat pada array\n",
    " 1. Operasi matematika pada array tidak perlu selalu memiliki jumlah index yang sama / dimension yang sama\n",
    " 2. manipulasi data bisa dilakukan karena array adalah mutable\n",
    " 3. untuk reassignment perlu mencari index data / index array nya utk mengubah data"
   ]
  },
  {
   "cell_type": "code",
   "execution_count": null,
   "id": "3f8b5843",
   "metadata": {},
   "outputs": [],
   "source": [
    "import numpy as np\n",
    "arr_contoh = np.array([\n",
    "    [1,2,3],\n",
    "    [4,5,6],\n",
    "    [7,8,9]\n",
    "])\n",
    "\n",
    "arr_duplicate = arr_contoh.copy()\n",
    "\n",
    "# Reassignemnt data pada array\n",
    "  # ambil index nya, lalu uabha data nya\n",
    "arr_duplicate[0,0] = 100\n",
    "print(arr_duplicate[0,0])\n",
    "\n",
    "# Reassignment beberapa data\n",
    "arr_duplicate[1] = 200\n",
    "print(arr_duplicate)\n",
    "\n",
    "print(\"yang contoh\", arr_contoh)"
   ]
  },
  {
   "cell_type": "code",
   "execution_count": null,
   "id": "9b763a98",
   "metadata": {},
   "outputs": [],
   "source": [
    "import numpy as np\n",
    "# Operasi Matematika dalam Array\n",
    "# 1. perkalian\n",
    "arr_perkalian = arr_contoh * 2\n",
    "print(arr_perkalian)\n",
    "\n",
    "# 2. pembagian\n",
    "arr_pembagian = arr_contoh / 2\n",
    "print(arr_pembagian)\n",
    "\n",
    "# 3. pertambahan\n",
    "arr_pertambahan = arr_contoh + 10\n",
    "print(arr_pertambahan)\n",
    "\n",
    "#  4. Pertambahan dengan sesama array\n",
    "arr_contoh2 = np.array([\n",
    "    [10,20,30],\n",
    "    [40,50,60],\n",
    "    [70,80,90]\n",
    "])\n",
    "\n",
    "arr_pertambahan_array = arr_contoh + arr_contoh2\n",
    "print(arr_pertambahan_array)"
   ]
  },
  {
   "cell_type": "code",
   "execution_count": null,
   "id": "4eb2cb4d",
   "metadata": {},
   "outputs": [],
   "source": [
    "# Tugas\n",
    "# arr_contoh akan ditambahkan 1, 2, 3 dari arr_contoh[0], di tiap index sesuai urutan\n",
    "  # hasil yang di harapkan : \n",
    "  # [[ 2  4  6]\n",
    "  #  [ 5  7  9]\n",
    "  #  [ 8 10 12]]\n",
    "\n",
    "\n",
    "# penyelesaian bisa dengan 2 cara\n",
    "# cara 1 dengan mengbail data dari dalam nya\n",
    "arr_tugas1 = arr_contoh + arr_contoh[0]\n",
    "print(arr_tugas1)\n",
    "\n",
    "# cara 2 dengan membuat array baru\n",
    "  # cara ini membuktikan operasi matematika bisa berbeda dimension juga\n",
    "import numpy as np\n",
    "arr_1_dimension = np.array([1,2,3])\n",
    "arr_tugas_2 = arr_contoh + arr_1_dimension\n",
    "print(arr_tugas_2)\n"
   ]
  }
 ],
 "metadata": {
  "language_info": {
   "name": "python"
  }
 },
 "nbformat": 4,
 "nbformat_minor": 5
}
