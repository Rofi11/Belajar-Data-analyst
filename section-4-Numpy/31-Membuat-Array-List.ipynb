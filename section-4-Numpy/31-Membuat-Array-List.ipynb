{
 "cells": [
  {
   "cell_type": "markdown",
   "id": "e9cd99f4",
   "metadata": {},
   "source": [
    "## Numpy Array\n",
    "  Array multidimensi adalah konsep inti dalam NumPy, yang memungkinkan penyimpanan dan manipulasi data dalam lebih dari satu dimensi,\n",
    "  Array umumnya menyimpan data hanya dalam satu tipe data saja (integers, string, dll)\n",
    "  * umumnya cara menggunakan as np\n",
    "  * cek np version : np.__version__\n",
    "  * returns nya sendiri akan array multidimension\n",
    "  * ada beberapa array dimension dari 1D, 2D, 3D"
   ]
  },
  {
   "cell_type": "code",
   "execution_count": null,
   "id": "8ae94115",
   "metadata": {},
   "outputs": [],
   "source": [
    "import numpy as np\n",
    "\n",
    "# cara cek version numpy\n",
    "# np.__version__\n",
    "\n",
    "# cara buat array nya\n",
    "np.array\n",
    "# array dalam list\n",
    "a = [1,2,3,4] #ini data nya utk buat array 1D\n",
    "b = [\n",
    "    [1,2],\n",
    "    [3,4]\n",
    "] #ini data utk buat array 2D\n",
    "c = [b,b] # ini utk buat nested list, ini data utk buat array 3D\n",
    "\n",
    "\n",
    "# cara buat array satu dimensi/1 D\n",
    "np.array(a) # ini adalah hasil nya array([1, 2, 3, 4])\n",
    "# np.array(a).shape # ini untuk mencari tau jumlah data dalam setiap array data\n",
    "\n",
    "# cara buat array 2 dimensi/2 D\n",
    "np.array(b)\n",
    "\n",
    "# cara buat array 3 dimensi/3 D\n",
    "np.array(c)\n",
    "# np.array(c).shape\n"
   ]
  }
 ],
 "metadata": {
  "language_info": {
   "name": "python"
  }
 },
 "nbformat": 4,
 "nbformat_minor": 5
}
