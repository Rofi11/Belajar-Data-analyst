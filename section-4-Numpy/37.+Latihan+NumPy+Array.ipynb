{
 "cells": [
  {
   "cell_type": "markdown",
   "metadata": {
    "id": "yTql7J1lt_iY"
   },
   "source": [
    "# Latihan NumPy Array"
   ]
  },
  {
   "cell_type": "markdown",
   "metadata": {
    "id": "F2w-nNG7slai"
   },
   "source": [
    "### 1. import numpy"
   ]
  },
  {
   "cell_type": "code",
   "execution_count": 1,
   "metadata": {
    "executionInfo": {
     "elapsed": 558,
     "status": "ok",
     "timestamp": 1723886072994,
     "user": {
      "displayName": "Risdan Kristori",
      "userId": "02736671686515832267"
     },
     "user_tz": -420
    },
    "id": "ai2sxpwothGs"
   },
   "outputs": [],
   "source": [
    "# ketik kode kalian di dalam cel ini\n",
    "import numpy as np"
   ]
  },
  {
   "cell_type": "markdown",
   "metadata": {
    "id": "ed0Vaf9ftf8W"
   },
   "source": [
    "### 2. Buatkan array dari 1 sampai 4"
   ]
  },
  {
   "cell_type": "code",
   "execution_count": 2,
   "metadata": {
    "colab": {
     "base_uri": "https://localhost:8080/"
    },
    "executionInfo": {
     "elapsed": 610,
     "status": "ok",
     "timestamp": 1723886090731,
     "user": {
      "displayName": "Risdan Kristori",
      "userId": "02736671686515832267"
     },
     "user_tz": -420
    },
    "id": "vmqFgYulhOJ_",
    "outputId": "b9dd6651-7121-48d4-ecca-90a7450297c4"
   },
   "outputs": [
    {
     "data": {
      "text/plain": [
       "array([1, 2, 3, 4])"
      ]
     },
     "execution_count": 2,
     "metadata": {},
     "output_type": "execute_result"
    }
   ],
   "source": [
    "# ketik kode kalian di dalam cel ini\n",
    "np.array([1,2,3,4])"
   ]
  },
  {
   "cell_type": "code",
   "execution_count": null,
   "metadata": {
    "colab": {
     "base_uri": "https://localhost:8080/"
    },
    "executionInfo": {
     "elapsed": 389,
     "status": "ok",
     "timestamp": 1718939875133,
     "user": {
      "displayName": "Risdan Kristori",
      "userId": "02736671686515832267"
     },
     "user_tz": -420
    },
    "id": "5IPjIYy4ttJo",
    "outputId": "5fcd61f8-2f29-4320-d229-6a5b422e8e8a"
   },
   "outputs": [
    {
     "data": {
      "text/plain": [
       "array([1, 2, 3, 4])"
      ]
     },
     "execution_count": 6,
     "metadata": {},
     "output_type": "execute_result"
    }
   ],
   "source": [
    "# hasil output yang diinginkan:"
   ]
  },
  {
   "cell_type": "markdown",
   "metadata": {
    "id": "FB3mVoYYtvQC"
   },
   "source": [
    "### 3. Buatkan array dengan 10 elemen bernilai 0"
   ]
  },
  {
   "cell_type": "code",
   "execution_count": 3,
   "metadata": {
    "id": "bJweTcvehXlz"
   },
   "outputs": [
    {
     "data": {
      "text/plain": [
       "array([0., 0., 0., 0., 0., 0., 0., 0., 0., 0.])"
      ]
     },
     "execution_count": 3,
     "metadata": {},
     "output_type": "execute_result"
    }
   ],
   "source": [
    "# ketik kode kalian di dalam cel ini\n",
    "np.zeros(10)"
   ]
  },
  {
   "cell_type": "code",
   "execution_count": null,
   "metadata": {
    "colab": {
     "base_uri": "https://localhost:8080/"
    },
    "executionInfo": {
     "elapsed": 10,
     "status": "ok",
     "timestamp": 1718939784050,
     "user": {
      "displayName": "Risdan Kristori",
      "userId": "02736671686515832267"
     },
     "user_tz": -420
    },
    "id": "c5RdBcgJy3kx",
    "outputId": "2210ebd0-c28b-46c2-b2aa-6e94d4324553"
   },
   "outputs": [
    {
     "data": {
      "text/plain": [
       "array([0., 0., 0., 0., 0., 0., 0., 0., 0., 0.])"
      ]
     },
     "execution_count": 3,
     "metadata": {},
     "output_type": "execute_result"
    }
   ],
   "source": [
    "# hasil output yang diinginkan:"
   ]
  },
  {
   "cell_type": "markdown",
   "metadata": {
    "id": "qSoltoEyy4--"
   },
   "source": [
    "### 4. Buatkan array dengan ukuran 5x5 bernilai 1 semua"
   ]
  },
  {
   "cell_type": "code",
   "execution_count": 4,
   "metadata": {
    "id": "vQCYrfUCh11W"
   },
   "outputs": [
    {
     "data": {
      "text/plain": [
       "array([[1., 1., 1., 1., 1.],\n",
       "       [1., 1., 1., 1., 1.],\n",
       "       [1., 1., 1., 1., 1.],\n",
       "       [1., 1., 1., 1., 1.],\n",
       "       [1., 1., 1., 1., 1.]])"
      ]
     },
     "execution_count": 4,
     "metadata": {},
     "output_type": "execute_result"
    }
   ],
   "source": [
    "# ketik kode kalian di dalam cel ini\n",
    "np.ones((5,5))"
   ]
  },
  {
   "cell_type": "code",
   "execution_count": null,
   "metadata": {
    "colab": {
     "base_uri": "https://localhost:8080/"
    },
    "executionInfo": {
     "elapsed": 640,
     "status": "ok",
     "timestamp": 1718946265689,
     "user": {
      "displayName": "Risdan Kristori",
      "userId": "02736671686515832267"
     },
     "user_tz": -420
    },
    "id": "HEIuygXLy71z",
    "outputId": "8ca893c7-929b-4e07-9a1e-59e8486dc841"
   },
   "outputs": [
    {
     "data": {
      "text/plain": [
       "array([[1., 1., 1., 1., 1.],\n",
       "       [1., 1., 1., 1., 1.],\n",
       "       [1., 1., 1., 1., 1.],\n",
       "       [1., 1., 1., 1., 1.],\n",
       "       [1., 1., 1., 1., 1.]])"
      ]
     },
     "execution_count": 8,
     "metadata": {},
     "output_type": "execute_result"
    }
   ],
   "source": [
    "# hasil output yang diinginkan:"
   ]
  },
  {
   "cell_type": "markdown",
   "metadata": {
    "id": "FD-HliHjzMgh"
   },
   "source": [
    "### 5. Buatkan array dengan ukuran 10x20 bernilai 24"
   ]
  },
  {
   "cell_type": "code",
   "execution_count": null,
   "metadata": {
    "id": "oqB-_YEIh8Uo"
   },
   "outputs": [
    {
     "data": {
      "text/plain": [
       "array([[20., 20., 20., 20., 20., 20., 20., 20., 20., 20., 20., 20., 20.,\n",
       "        20., 20., 20., 20., 20., 20., 20.],\n",
       "       [20., 20., 20., 20., 20., 20., 20., 20., 20., 20., 20., 20., 20.,\n",
       "        20., 20., 20., 20., 20., 20., 20.],\n",
       "       [20., 20., 20., 20., 20., 20., 20., 20., 20., 20., 20., 20., 20.,\n",
       "        20., 20., 20., 20., 20., 20., 20.],\n",
       "       [20., 20., 20., 20., 20., 20., 20., 20., 20., 20., 20., 20., 20.,\n",
       "        20., 20., 20., 20., 20., 20., 20.],\n",
       "       [20., 20., 20., 20., 20., 20., 20., 20., 20., 20., 20., 20., 20.,\n",
       "        20., 20., 20., 20., 20., 20., 20.],\n",
       "       [20., 20., 20., 20., 20., 20., 20., 20., 20., 20., 20., 20., 20.,\n",
       "        20., 20., 20., 20., 20., 20., 20.],\n",
       "       [20., 20., 20., 20., 20., 20., 20., 20., 20., 20., 20., 20., 20.,\n",
       "        20., 20., 20., 20., 20., 20., 20.],\n",
       "       [20., 20., 20., 20., 20., 20., 20., 20., 20., 20., 20., 20., 20.,\n",
       "        20., 20., 20., 20., 20., 20., 20.],\n",
       "       [20., 20., 20., 20., 20., 20., 20., 20., 20., 20., 20., 20., 20.,\n",
       "        20., 20., 20., 20., 20., 20., 20.],\n",
       "       [20., 20., 20., 20., 20., 20., 20., 20., 20., 20., 20., 20., 20.,\n",
       "        20., 20., 20., 20., 20., 20., 20.]])"
      ]
     },
     "execution_count": 5,
     "metadata": {},
     "output_type": "execute_result"
    }
   ],
   "source": [
    "# ketik kode kalian di dalam cel ini\n",
    "    # pakai np.ones lalu dikali 20 yang membuat semua data jadi 20\n",
    "arr = np.ones((10,20))*20\n",
    "# call arr nya\n",
    "arr"
   ]
  },
  {
   "cell_type": "code",
   "execution_count": null,
   "metadata": {
    "colab": {
     "base_uri": "https://localhost:8080/"
    },
    "executionInfo": {
     "elapsed": 511,
     "status": "ok",
     "timestamp": 1718946297659,
     "user": {
      "displayName": "Risdan Kristori",
      "userId": "02736671686515832267"
     },
     "user_tz": -420
    },
    "id": "YVW9yM5AzZxX",
    "outputId": "9395ab79-b36a-429b-fafc-fb9fe530d108"
   },
   "outputs": [
    {
     "data": {
      "text/plain": [
       "array([[20., 20., 20., 20., 20., 20., 20., 20., 20., 20., 20., 20., 20.,\n",
       "        20., 20., 20., 20., 20., 20., 20.],\n",
       "       [20., 20., 20., 20., 20., 20., 20., 20., 20., 20., 20., 20., 20.,\n",
       "        20., 20., 20., 20., 20., 20., 20.],\n",
       "       [20., 20., 20., 20., 20., 20., 20., 20., 20., 20., 20., 20., 20.,\n",
       "        20., 20., 20., 20., 20., 20., 20.],\n",
       "       [20., 20., 20., 20., 20., 20., 20., 20., 20., 20., 20., 20., 20.,\n",
       "        20., 20., 20., 20., 20., 20., 20.],\n",
       "       [20., 20., 20., 20., 20., 20., 20., 20., 20., 20., 20., 20., 20.,\n",
       "        20., 20., 20., 20., 20., 20., 20.],\n",
       "       [20., 20., 20., 20., 20., 20., 20., 20., 20., 20., 20., 20., 20.,\n",
       "        20., 20., 20., 20., 20., 20., 20.],\n",
       "       [20., 20., 20., 20., 20., 20., 20., 20., 20., 20., 20., 20., 20.,\n",
       "        20., 20., 20., 20., 20., 20., 20.],\n",
       "       [20., 20., 20., 20., 20., 20., 20., 20., 20., 20., 20., 20., 20.,\n",
       "        20., 20., 20., 20., 20., 20., 20.],\n",
       "       [20., 20., 20., 20., 20., 20., 20., 20., 20., 20., 20., 20., 20.,\n",
       "        20., 20., 20., 20., 20., 20., 20.],\n",
       "       [20., 20., 20., 20., 20., 20., 20., 20., 20., 20., 20., 20., 20.,\n",
       "        20., 20., 20., 20., 20., 20., 20.]])"
      ]
     },
     "execution_count": 9,
     "metadata": {},
     "output_type": "execute_result"
    }
   ],
   "source": [
    "# hasil output yang diinginkan:"
   ]
  },
  {
   "cell_type": "markdown",
   "metadata": {
    "id": "Oby-0RIjzbhp"
   },
   "source": [
    "### 6. Buatkan array dengan elemen bilangan genap dari 1 sampai 100 (100 tidak termasuk)"
   ]
  },
  {
   "cell_type": "code",
   "execution_count": 23,
   "metadata": {
    "id": "ZzbCXjwRiCTj"
   },
   "outputs": [
    {
     "data": {
      "text/plain": [
       "array([ 2,  4,  6,  8, 10, 12, 14, 16, 18, 20, 22, 24, 26, 28, 30, 32, 34,\n",
       "       36, 38, 40, 42, 44, 46, 48, 50, 52, 54, 56, 58, 60, 62, 64, 66, 68,\n",
       "       70, 72, 74, 76, 78, 80, 82, 84, 86, 88, 90, 92, 94, 96, 98])"
      ]
     },
     "execution_count": 23,
     "metadata": {},
     "output_type": "execute_result"
    }
   ],
   "source": [
    "# ketik kode kalian di dalam cel ini\n",
    "np.arange(2,100,2)"
   ]
  },
  {
   "cell_type": "code",
   "execution_count": null,
   "metadata": {
    "colab": {
     "base_uri": "https://localhost:8080/"
    },
    "executionInfo": {
     "elapsed": 606,
     "status": "ok",
     "timestamp": 1718946412294,
     "user": {
      "displayName": "Risdan Kristori",
      "userId": "02736671686515832267"
     },
     "user_tz": -420
    },
    "id": "JvPNe0v7MFhW",
    "outputId": "421debad-2207-4869-8df6-0499e7b6cbaa"
   },
   "outputs": [
    {
     "data": {
      "text/plain": [
       "array([ 2,  4,  6,  8, 10, 12, 14, 16, 18, 20, 22, 24, 26, 28, 30, 32, 34,\n",
       "       36, 38, 40, 42, 44, 46, 48, 50, 52, 54, 56, 58, 60, 62, 64, 66, 68,\n",
       "       70, 72, 74, 76, 78, 80, 82, 84, 86, 88, 90, 92, 94, 96, 98])"
      ]
     },
     "execution_count": 24,
     "metadata": {},
     "output_type": "execute_result"
    }
   ],
   "source": [
    "# hasil output yang diinginkan:"
   ]
  },
  {
   "cell_type": "code",
   "execution_count": 8,
   "metadata": {
    "colab": {
     "base_uri": "https://localhost:8080/"
    },
    "executionInfo": {
     "elapsed": 417,
     "status": "ok",
     "timestamp": 1718946558233,
     "user": {
      "displayName": "Risdan Kristori",
      "userId": "02736671686515832267"
     },
     "user_tz": -420
    },
    "id": "Zr4oggDnMHLT",
    "outputId": "ed54ce1a-5c51-4028-8f92-81d34f8919aa"
   },
   "outputs": [
    {
     "data": {
      "text/plain": [
       "array([[ 1,  2,  3,  4,  5,  6],\n",
       "       [ 7,  8,  9, 10, 11, 12],\n",
       "       [13, 14, 15, 16, 17, 18],\n",
       "       [19, 20, 21, 22, 23, 24],\n",
       "       [25, 26, 27, 28, 29, 30],\n",
       "       [31, 32, 33, 34, 35, 36]])"
      ]
     },
     "execution_count": 8,
     "metadata": {},
     "output_type": "execute_result"
    }
   ],
   "source": [
    "# Perhatikan array berikut ini\n",
    "arr_latihan = np.arange(1,37).reshape(6,6)\n",
    "arr_latihan"
   ]
  },
  {
   "cell_type": "markdown",
   "metadata": {
    "id": "8eZudyHpMtHD"
   },
   "source": [
    "### 7. Berdasarkan arr_latihan, lakukan indexing sehingga mendapatkan hasil berikut ini:"
   ]
  },
  {
   "cell_type": "code",
   "execution_count": 9,
   "metadata": {
    "id": "2X0nvJVxiLIS"
   },
   "outputs": [
    {
     "name": "stdout",
     "output_type": "stream",
     "text": [
      "24\n"
     ]
    }
   ],
   "source": [
    "# ketik kode kalian di dalam cel ini\n",
    "print(arr_latihan[3,-1])"
   ]
  },
  {
   "cell_type": "code",
   "execution_count": null,
   "metadata": {
    "colab": {
     "base_uri": "https://localhost:8080/"
    },
    "executionInfo": {
     "elapsed": 411,
     "status": "ok",
     "timestamp": 1718946639033,
     "user": {
      "displayName": "Risdan Kristori",
      "userId": "02736671686515832267"
     },
     "user_tz": -420
    },
    "id": "8wy6EDZkM61D",
    "outputId": "33905dba-9e67-4fb1-b344-b41740b1d457"
   },
   "outputs": [
    {
     "data": {
      "text/plain": [
       "24"
      ]
     },
     "execution_count": 17,
     "metadata": {},
     "output_type": "execute_result"
    }
   ],
   "source": [
    "# hasil output yang diinginkan:"
   ]
  },
  {
   "cell_type": "code",
   "execution_count": 10,
   "metadata": {
    "id": "RRvYUcvNiQLl"
   },
   "outputs": [
    {
     "name": "stdout",
     "output_type": "stream",
     "text": [
      "18\n"
     ]
    }
   ],
   "source": [
    "# ketik kode kalian di dalam cel ini\n",
    "print(arr_latihan[2,-1])"
   ]
  },
  {
   "cell_type": "code",
   "execution_count": null,
   "metadata": {
    "colab": {
     "base_uri": "https://localhost:8080/"
    },
    "executionInfo": {
     "elapsed": 415,
     "status": "ok",
     "timestamp": 1718946663894,
     "user": {
      "displayName": "Risdan Kristori",
      "userId": "02736671686515832267"
     },
     "user_tz": -420
    },
    "id": "qEW_I3zaM_-0",
    "outputId": "7c5cba43-dde0-4bed-a55c-197504866dba"
   },
   "outputs": [
    {
     "data": {
      "text/plain": [
       "18"
      ]
     },
     "execution_count": 19,
     "metadata": {},
     "output_type": "execute_result"
    }
   ],
   "source": [
    "# hasil output yang diinginkan:"
   ]
  },
  {
   "cell_type": "markdown",
   "metadata": {
    "id": "N8sALLODNHZY"
   },
   "source": [
    "### 8. Berdasarkan arr_latihan, lakukan slicing sehingga mendapatkan hasil berikut ini:"
   ]
  },
  {
   "cell_type": "code",
   "execution_count": 11,
   "metadata": {
    "id": "r-CszmShiTCr"
   },
   "outputs": [
    {
     "data": {
      "text/plain": [
       "array([13, 14, 15, 16, 17, 18])"
      ]
     },
     "execution_count": 11,
     "metadata": {},
     "output_type": "execute_result"
    }
   ],
   "source": [
    "# ketik kode kalian di dalam cel ini\n",
    "arr_latihan[2]"
   ]
  },
  {
   "cell_type": "code",
   "execution_count": null,
   "metadata": {
    "colab": {
     "base_uri": "https://localhost:8080/"
    },
    "executionInfo": {
     "elapsed": 440,
     "status": "ok",
     "timestamp": 1718946826114,
     "user": {
      "displayName": "Risdan Kristori",
      "userId": "02736671686515832267"
     },
     "user_tz": -420
    },
    "id": "rJ3-dwb8Nla7",
    "outputId": "3ba9fc30-fd3d-4d61-998c-7f404d756d0b"
   },
   "outputs": [
    {
     "data": {
      "text/plain": [
       "array([13, 14, 15, 16, 17, 18])"
      ]
     },
     "execution_count": 21,
     "metadata": {},
     "output_type": "execute_result"
    }
   ],
   "source": [
    "# hasil output yang diinginkan:"
   ]
  },
  {
   "cell_type": "code",
   "execution_count": 12,
   "metadata": {
    "id": "wOp_-9sPiYLN"
   },
   "outputs": [
    {
     "data": {
      "text/plain": [
       "array([[13, 14, 15, 16, 17, 18],\n",
       "       [19, 20, 21, 22, 23, 24]])"
      ]
     },
     "execution_count": 12,
     "metadata": {},
     "output_type": "execute_result"
    }
   ],
   "source": [
    "# ketik kode kalian di dalam cel ini\n",
    "arr_latihan[2:4]"
   ]
  },
  {
   "cell_type": "code",
   "execution_count": null,
   "metadata": {
    "colab": {
     "base_uri": "https://localhost:8080/"
    },
    "executionInfo": {
     "elapsed": 467,
     "status": "ok",
     "timestamp": 1718946854985,
     "user": {
      "displayName": "Risdan Kristori",
      "userId": "02736671686515832267"
     },
     "user_tz": -420
    },
    "id": "lbuY5yM7Nqmm",
    "outputId": "6d198498-7c47-4444-a851-2a6f7a00c99e"
   },
   "outputs": [
    {
     "data": {
      "text/plain": [
       "array([[13, 14, 15, 16, 17, 18],\n",
       "       [19, 20, 21, 22, 23, 24]])"
      ]
     },
     "execution_count": 24,
     "metadata": {},
     "output_type": "execute_result"
    }
   ],
   "source": [
    "# hasil output yang diinginkan:"
   ]
  },
  {
   "cell_type": "code",
   "execution_count": 13,
   "metadata": {
    "id": "IAjXntjsicqs"
   },
   "outputs": [
    {
     "data": {
      "text/plain": [
       "array([[22, 23],\n",
       "       [28, 29]])"
      ]
     },
     "execution_count": 13,
     "metadata": {},
     "output_type": "execute_result"
    }
   ],
   "source": [
    "# ketik kode kalian di dalam cel ini\n",
    "  # cari index array nya dulu (3:5), baru index data nya (3:5)\n",
    "arr_latihan[3:5, 3:5]"
   ]
  },
  {
   "cell_type": "code",
   "execution_count": null,
   "metadata": {
    "colab": {
     "base_uri": "https://localhost:8080/"
    },
    "executionInfo": {
     "elapsed": 639,
     "status": "ok",
     "timestamp": 1718946882037,
     "user": {
      "displayName": "Risdan Kristori",
      "userId": "02736671686515832267"
     },
     "user_tz": -420
    },
    "id": "LxLU_CoxNz_a",
    "outputId": "89ed6efb-7376-4d72-f5c0-b70463905afd"
   },
   "outputs": [
    {
     "data": {
      "text/plain": [
       "array([[22, 23],\n",
       "       [28, 29]])"
      ]
     },
     "execution_count": 26,
     "metadata": {},
     "output_type": "execute_result"
    }
   ],
   "source": [
    "# hasil output yang diinginkan:"
   ]
  },
  {
   "cell_type": "markdown",
   "metadata": {
    "id": "Gn923KcQN7dU"
   },
   "source": [
    "### 9. Ubah ukuran arr_latihan menjadi 1x36 dan 36x1"
   ]
  },
  {
   "cell_type": "code",
   "execution_count": 14,
   "metadata": {
    "id": "kFJoPDlTilUh"
   },
   "outputs": [
    {
     "data": {
      "text/plain": [
       "array([[ 1,  2,  3,  4,  5,  6,  7,  8,  9, 10, 11, 12, 13, 14, 15, 16,\n",
       "        17, 18, 19, 20, 21, 22, 23, 24, 25, 26, 27, 28, 29, 30, 31, 32,\n",
       "        33, 34, 35, 36]])"
      ]
     },
     "execution_count": 14,
     "metadata": {},
     "output_type": "execute_result"
    }
   ],
   "source": [
    "# ketik kode kalian di dalam cel ini\n",
    "arr_latihan.reshape(1,36)"
   ]
  },
  {
   "cell_type": "code",
   "execution_count": null,
   "metadata": {
    "colab": {
     "base_uri": "https://localhost:8080/"
    },
    "executionInfo": {
     "elapsed": 393,
     "status": "ok",
     "timestamp": 1718947025725,
     "user": {
      "displayName": "Risdan Kristori",
      "userId": "02736671686515832267"
     },
     "user_tz": -420
    },
    "id": "yGPx9nJkOdM3",
    "outputId": "0eba5f58-9ee8-4ba2-9b34-eed84707d72d"
   },
   "outputs": [
    {
     "data": {
      "text/plain": [
       "array([[ 1,  2,  3,  4,  5,  6,  7,  8,  9, 10, 11, 12, 13, 14, 15, 16,\n",
       "        17, 18, 19, 20, 21, 22, 23, 24, 25, 26, 27, 28, 29, 30, 31, 32,\n",
       "        33, 34, 35, 36]])"
      ]
     },
     "execution_count": 27,
     "metadata": {},
     "output_type": "execute_result"
    }
   ],
   "source": [
    "# hasil output yang diinginkan:"
   ]
  },
  {
   "cell_type": "code",
   "execution_count": 15,
   "metadata": {
    "id": "WnOenWmviros"
   },
   "outputs": [
    {
     "data": {
      "text/plain": [
       "array([[ 1],\n",
       "       [ 2],\n",
       "       [ 3],\n",
       "       [ 4],\n",
       "       [ 5],\n",
       "       [ 6],\n",
       "       [ 7],\n",
       "       [ 8],\n",
       "       [ 9],\n",
       "       [10],\n",
       "       [11],\n",
       "       [12],\n",
       "       [13],\n",
       "       [14],\n",
       "       [15],\n",
       "       [16],\n",
       "       [17],\n",
       "       [18],\n",
       "       [19],\n",
       "       [20],\n",
       "       [21],\n",
       "       [22],\n",
       "       [23],\n",
       "       [24],\n",
       "       [25],\n",
       "       [26],\n",
       "       [27],\n",
       "       [28],\n",
       "       [29],\n",
       "       [30],\n",
       "       [31],\n",
       "       [32],\n",
       "       [33],\n",
       "       [34],\n",
       "       [35],\n",
       "       [36]])"
      ]
     },
     "execution_count": 15,
     "metadata": {},
     "output_type": "execute_result"
    }
   ],
   "source": [
    "# ketik kode kalian di dalam cel ini\n",
    "arr_latihan.reshape(36,1)"
   ]
  },
  {
   "cell_type": "code",
   "execution_count": null,
   "metadata": {
    "colab": {
     "base_uri": "https://localhost:8080/"
    },
    "executionInfo": {
     "elapsed": 391,
     "status": "ok",
     "timestamp": 1718947032115,
     "user": {
      "displayName": "Risdan Kristori",
      "userId": "02736671686515832267"
     },
     "user_tz": -420
    },
    "id": "_c9mzVfoOg9n",
    "outputId": "b1d7c48e-1007-4f0e-bd9f-35ae3033205a"
   },
   "outputs": [
    {
     "data": {
      "text/plain": [
       "array([[ 1],\n",
       "       [ 2],\n",
       "       [ 3],\n",
       "       [ 4],\n",
       "       [ 5],\n",
       "       [ 6],\n",
       "       [ 7],\n",
       "       [ 8],\n",
       "       [ 9],\n",
       "       [10],\n",
       "       [11],\n",
       "       [12],\n",
       "       [13],\n",
       "       [14],\n",
       "       [15],\n",
       "       [16],\n",
       "       [17],\n",
       "       [18],\n",
       "       [19],\n",
       "       [20],\n",
       "       [21],\n",
       "       [22],\n",
       "       [23],\n",
       "       [24],\n",
       "       [25],\n",
       "       [26],\n",
       "       [27],\n",
       "       [28],\n",
       "       [29],\n",
       "       [30],\n",
       "       [31],\n",
       "       [32],\n",
       "       [33],\n",
       "       [34],\n",
       "       [35],\n",
       "       [36]])"
      ]
     },
     "execution_count": 28,
     "metadata": {},
     "output_type": "execute_result"
    }
   ],
   "source": [
    "# hasil output yang diinginkan:"
   ]
  },
  {
   "cell_type": "markdown",
   "metadata": {
    "id": "jSfW_QDNOihG"
   },
   "source": [
    "### 10. Berdasarkan array dibawah ini tentukan:"
   ]
  },
  {
   "cell_type": "code",
   "execution_count": 18,
   "metadata": {
    "colab": {
     "base_uri": "https://localhost:8080/"
    },
    "executionInfo": {
     "elapsed": 424,
     "status": "ok",
     "timestamp": 1718947158606,
     "user": {
      "displayName": "Risdan Kristori",
      "userId": "02736671686515832267"
     },
     "user_tz": -420
    },
    "id": "-r8dV3DfOtKX",
    "outputId": "f0a3b533-21c5-4103-eff4-7fd4e44b5dc1"
   },
   "outputs": [
    {
     "data": {
      "text/plain": [
       "array([[34,  3, 64, 87, 17, 17,  1, 79,  4, 99],\n",
       "       [82, 11, 99, 15, 73, 18,  7, 25, 35, 95],\n",
       "       [28,  0, 12, 95, 33,  1, 60, 55, 70, 97],\n",
       "       [81,  6, 46, 65, 47, 89, 74, 35, 64, 27],\n",
       "       [97, 33,  3,  4, 65, 10, 41, 56, 45,  7],\n",
       "       [ 5, 60, 83, 42,  0, 27, 21, 66, 36, 54],\n",
       "       [45, 96, 86, 34, 75, 94, 85, 39, 68, 63],\n",
       "       [67, 71,  8, 67, 70, 23, 42, 74, 75, 80],\n",
       "       [27, 65,  6, 32, 90, 98, 96, 24, 86, 44],\n",
       "       [75, 62, 95, 12, 21, 42, 76, 35, 36, 38]], dtype=int32)"
      ]
     },
     "execution_count": 18,
     "metadata": {},
     "output_type": "execute_result"
    }
   ],
   "source": [
    "np.random.seed(24)\n",
    "arr_random = np.random.randint(100, size=(10,10))\n",
    "arr_random"
   ]
  },
  {
   "cell_type": "code",
   "execution_count": 19,
   "metadata": {
    "id": "4OY9PbmWi-9g"
   },
   "outputs": [
    {
     "name": "stdout",
     "output_type": "stream",
     "text": [
      "99\n"
     ]
    }
   ],
   "source": [
    "# ketik kode kalian di dalam cel ini\n",
    "print(arr_random.max())"
   ]
  },
  {
   "cell_type": "code",
   "execution_count": null,
   "metadata": {
    "colab": {
     "base_uri": "https://localhost:8080/"
    },
    "executionInfo": {
     "elapsed": 5,
     "status": "ok",
     "timestamp": 1718947201224,
     "user": {
      "displayName": "Risdan Kristori",
      "userId": "02736671686515832267"
     },
     "user_tz": -420
    },
    "id": "boTnt7nTOwpz",
    "outputId": "12dd382c-ca53-404e-9a81-824116372efd"
   },
   "outputs": [
    {
     "data": {
      "text/plain": [
       "99"
      ]
     },
     "execution_count": 34,
     "metadata": {},
     "output_type": "execute_result"
    }
   ],
   "source": [
    "# nilai maksimal"
   ]
  },
  {
   "cell_type": "code",
   "execution_count": 20,
   "metadata": {
    "id": "f3YYx0swjXWA"
   },
   "outputs": [
    {
     "name": "stdout",
     "output_type": "stream",
     "text": [
      "0\n"
     ]
    }
   ],
   "source": [
    "# ketik kode kalian di dalam cel ini\n",
    "print(arr_random.min())"
   ]
  },
  {
   "cell_type": "code",
   "execution_count": null,
   "metadata": {
    "colab": {
     "base_uri": "https://localhost:8080/"
    },
    "executionInfo": {
     "elapsed": 426,
     "status": "ok",
     "timestamp": 1718947217325,
     "user": {
      "displayName": "Risdan Kristori",
      "userId": "02736671686515832267"
     },
     "user_tz": -420
    },
    "id": "q77XR3eTPL1O",
    "outputId": "d27c8e1e-5344-4f01-cb6c-23efa660a1f8"
   },
   "outputs": [
    {
     "data": {
      "text/plain": [
       "0"
      ]
     },
     "execution_count": 36,
     "metadata": {},
     "output_type": "execute_result"
    }
   ],
   "source": [
    "# nilai minimal"
   ]
  },
  {
   "cell_type": "code",
   "execution_count": 21,
   "metadata": {
    "id": "a4lTv2n7jZ_W"
   },
   "outputs": [
    {
     "name": "stdout",
     "output_type": "stream",
     "text": [
      "49.27\n"
     ]
    }
   ],
   "source": [
    "# ketik kode kalian di dalam cel ini\n",
    "print(arr_random.mean())"
   ]
  },
  {
   "cell_type": "code",
   "execution_count": null,
   "metadata": {
    "colab": {
     "base_uri": "https://localhost:8080/"
    },
    "executionInfo": {
     "elapsed": 429,
     "status": "ok",
     "timestamp": 1718947236509,
     "user": {
      "displayName": "Risdan Kristori",
      "userId": "02736671686515832267"
     },
     "user_tz": -420
    },
    "id": "K4ph7EW-POdH",
    "outputId": "dece122d-ca34-42d4-be3e-23028010d57b"
   },
   "outputs": [
    {
     "data": {
      "text/plain": [
       "49.27"
      ]
     },
     "execution_count": 37,
     "metadata": {},
     "output_type": "execute_result"
    }
   ],
   "source": [
    "# nilai rata-rata"
   ]
  },
  {
   "cell_type": "code",
   "execution_count": 22,
   "metadata": {
    "id": "f1XuoqkGjc2d"
   },
   "outputs": [
    {
     "name": "stdout",
     "output_type": "stream",
     "text": [
      "4927\n"
     ]
    }
   ],
   "source": [
    "# ketik kode kalian di dalam cel ini\n",
    "print(arr_random.sum())"
   ]
  },
  {
   "cell_type": "code",
   "execution_count": null,
   "metadata": {
    "colab": {
     "base_uri": "https://localhost:8080/"
    },
    "executionInfo": {
     "elapsed": 406,
     "status": "ok",
     "timestamp": 1718947268966,
     "user": {
      "displayName": "Risdan Kristori",
      "userId": "02736671686515832267"
     },
     "user_tz": -420
    },
    "id": "cbCPqcAiPUOW",
    "outputId": "21cfc23e-9a0b-49d3-c8c3-2fc34932578a"
   },
   "outputs": [
    {
     "data": {
      "text/plain": [
       "4927"
      ]
     },
     "execution_count": 38,
     "metadata": {},
     "output_type": "execute_result"
    }
   ],
   "source": [
    "# nilai total"
   ]
  },
  {
   "cell_type": "markdown",
   "metadata": {
    "id": "4cUSi6wYPcJb"
   },
   "source": [
    "# Selamat Telah Menyelesaikan Latihan Ini"
   ]
  },
  {
   "cell_type": "code",
   "execution_count": null,
   "metadata": {
    "id": "mQcPnJH2joiM"
   },
   "outputs": [],
   "source": []
  }
 ],
 "metadata": {
  "colab": {
   "authorship_tag": "ABX9TyOpfKitWJENyKRdAgP2DAdQ",
   "provenance": []
  },
  "kernelspec": {
   "display_name": "Python 3",
   "name": "python3"
  },
  "language_info": {
   "codemirror_mode": {
    "name": "ipython",
    "version": 3
   },
   "file_extension": ".py",
   "mimetype": "text/x-python",
   "name": "python",
   "nbconvert_exporter": "python",
   "pygments_lexer": "ipython3",
   "version": "3.13.5"
  }
 },
 "nbformat": 4,
 "nbformat_minor": 0
}
