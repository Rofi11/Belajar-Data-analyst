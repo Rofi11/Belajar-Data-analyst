{
 "cells": [
  {
   "cell_type": "markdown",
   "id": "fccbdd5f",
   "metadata": {},
   "source": [
    "## Manipulasi Bentuk Array\n",
    "Memanipulasi bentuk dan Dimension pada Array\n",
    "  1. Method / fungsi flatten \n",
    "      * mengubah array apapun menjadi 1 dimension\n",
    "  2. Method Reshape\n",
    "      * memasukan parameter utk transformasi bentuk array nya\n",
    "          * 1 dimension membutuhkan 1 parameter\n",
    "          * 2 dimension membutuhkan 2 paremeter\n",
    "          * 3 dimension membutuhkan 3 paremeter\n",
    "      * tapi syarat nya jumlah element dan data nya harus sama"
   ]
  },
  {
   "cell_type": "code",
   "execution_count": 2,
   "id": "76ffdac9",
   "metadata": {},
   "outputs": [
    {
     "data": {
      "text/plain": [
       "array([1, 2, 3, 4, 5, 6, 7, 8, 9])"
      ]
     },
     "execution_count": 2,
     "metadata": {},
     "output_type": "execute_result"
    }
   ],
   "source": [
    "import numpy as np\n",
    "arr_contoh = np.array([\n",
    "    [1,2,3],\n",
    "    [4,5,6],\n",
    "    [7,8,9]\n",
    "])\n",
    "\n",
    "#  method flatten (mengubah menjadi 1 dimension)\n",
    "arr_flatten = arr_contoh.flatten()\n",
    "arr_flatten"
   ]
  },
  {
   "cell_type": "code",
   "execution_count": null,
   "id": "900382f8",
   "metadata": {},
   "outputs": [],
   "source": [
    "# method Reshape\n",
    "  # mengatur transformasi bentuk pada array\n",
    "  \n",
    "#  arr_contoh adalah array 3x3\n",
    "print(arr_contoh.shape)\n",
    "\n",
    "# kita ubah bentuk nya menjadi 2 dimension\n",
    "arr_reshape1 = arr_contoh.reshape(1,9) # 1 = blok, 9 = baris\n",
    "arr_reshape2 = arr_contoh.reshape(9,1) # 9 = baris, 1 = baris\n",
    "# arr_reshape3 = arr_contoh.reshape(2,3) # ini akan error karena jumlah element nya tidak sama dengan array awal nya, 2x3 = 6\n",
    "print(arr_reshape1)\n",
    "print(arr_reshape2)\n",
    "\n"
   ]
  },
  {
   "cell_type": "code",
   "execution_count": null,
   "id": "5f438d90",
   "metadata": {},
   "outputs": [],
   "source": [
    "# Tugas\n",
    "  #  mengubah arr_contoh menjadi ke 3 dimension dengan method reshape\n",
    "\n",
    "#  cara 1 -> menghasilkan 1 nested list\n",
    "arr_tugas_reshape1 = arr_contoh.reshape(1,3,3) # 1 =  blok, 3 = baris, 3 = kolom\n",
    "print(arr_tugas_reshape1)\n",
    "\n",
    "# cara 2 -> menghasilkan 3 nested list\n",
    "arr_tugas_reshape2 = arr_contoh.reshape(3,1,3) # 3 = blok, 1 = baris, 3 = kolom\n",
    "print(arr_tugas_reshape2)\n"
   ]
  }
 ],
 "metadata": {
  "kernelspec": {
   "display_name": "Python 3",
   "language": "python",
   "name": "python3"
  },
  "language_info": {
   "codemirror_mode": {
    "name": "ipython",
    "version": 3
   },
   "file_extension": ".py",
   "mimetype": "text/x-python",
   "name": "python",
   "nbconvert_exporter": "python",
   "pygments_lexer": "ipython3",
   "version": "3.13.5"
  }
 },
 "nbformat": 4,
 "nbformat_minor": 5
}
