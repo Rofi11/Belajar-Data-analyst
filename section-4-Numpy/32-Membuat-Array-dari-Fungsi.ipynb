{
 "cells": [
  {
   "cell_type": "markdown",
   "id": "79edb877",
   "metadata": {},
   "source": [
    "## Membuat Array dari Fungsi\n",
    "  * np.zeros(), dimana data bernilai 0, nanti akan di buatkan array satu dimension default nya\n",
    "  * np.ones(), dimana data bernilai 1\n",
    "  * np.eye(), seperti matrix identitas, dimana matix 2 dimension, dimana diagonal nya bernilai angka 1, jika dikali dengan matrix lainya , tidak akn merubah matrix nya\n",
    "  * np.arange(start, stop, step), default nya stop, range berfungsi untuk membuatan urutan\n",
    "  * np.linspace(start, stop, jumlah elemen), fungsi ny asama seperti arange buat urutan, pembeda nya ada di parameter ke 3\n",
    "     \n"
   ]
  },
  {
   "cell_type": "code",
   "execution_count": null,
   "id": "f84038bc",
   "metadata": {},
   "outputs": [],
   "source": [
    "import numpy as np\n",
    "\n",
    "# np.zeros 1D\n",
    "np.zeros(5)\n",
    "\n",
    "#np.zeros 2D, menggunakan tuple\n",
    "np.zeros((2,3))\n",
    "\n",
    "#np.zeros 3D, sama menggunakan tuple\n",
    "np.zeros((2,2,2))"
   ]
  },
  {
   "cell_type": "code",
   "execution_count": null,
   "id": "79d590c6",
   "metadata": {},
   "outputs": [],
   "source": [
    "import numpy as np\n",
    "\n",
    "# np.eye\n",
    "np.eye(5) # default nya dimension nya, jadi 5 di anggap default\n",
    "np.eye(2,3) # 2 = dimension, 3 = jumlah data dalam array"
   ]
  },
  {
   "cell_type": "code",
   "execution_count": null,
   "id": "993a9ce5",
   "metadata": {},
   "outputs": [],
   "source": [
    "import numpy as np\n",
    "\n",
    "# np.arange\n",
    "np.arange(10) # default nya stop, jadi 10 akan di anggap yang stop\n",
    "np.arange(1,10) # 1 = start, 10 = stop\n",
    "np.arange(1,10,2) # 1 = start, 10 = stop, 2 = step langkah nya"
   ]
  },
  {
   "cell_type": "code",
   "execution_count": null,
   "id": "57e0c3dd",
   "metadata": {},
   "outputs": [],
   "source": [
    "import numpy as np\n",
    "\n",
    "# np.linspace\n",
    "np.linspace(1,2,5) # 1 = start, 2 = stop, 5 = jumlah elemen yang akan ada di array\n",
    "\n",
    "np.linspace(1,10,20) # 1 = start, 10 = stop, 20 = jumlah elemen yang akan ada di array"
   ]
  },
  {
   "cell_type": "code",
   "execution_count": null,
   "id": "d8aecd21",
   "metadata": {},
   "outputs": [],
   "source": [
    "# buatkan array bilangan genap 1 - 100\n",
    "import numpy as np\n",
    "# cara sendiri\n",
    "np.arange(2,102,2)"
   ]
  }
 ],
 "metadata": {
  "language_info": {
   "name": "python"
  }
 },
 "nbformat": 4,
 "nbformat_minor": 5
}
