{
 "cells": [
  {
   "cell_type": "markdown",
   "id": "f95a2929",
   "metadata": {},
   "source": [
    "## Attribute dan Fungsi Statistik Array\n",
    "  * .shape --> mengembalikan tuple yang berisi jumlah elemen pada setiap dimensi array\n",
    "  * .ndim --> mencari tau jumlah dimension nya\n",
    "  * .size --> mengembalikan jumlah element keseluruhan kaya length\n",
    "  * .dtype --> mengembalikan type data didalam array\n",
    "  * kita bisa mengakses beberapa fungsi statistik\n",
    "      * .mean() --> mengembalikan nilai rata-rata\n",
    "      * .max() --> mengembalikan nilai maximal\n",
    "      * .min() --> mengembalikan nilai minimum\n",
    "      * .sum() --> mengembalikan jumlah keseluruhan element nya\n",
    "      * dan masih banyak lagi fungsi statistik yang bisa digunakan (tinggal di caritau sendiri)"
   ]
  },
  {
   "cell_type": "code",
   "execution_count": null,
   "id": "809cd422",
   "metadata": {},
   "outputs": [],
   "source": [
    "import numpy as np\n",
    "#  1 Dimesion\n",
    "arr_a = np.array([1,2,3,4])\n",
    "#  2 Dimension\n",
    "b = [\n",
    "    [1,2],\n",
    "    [3,4]\n",
    "]\n",
    "arr_b = np.array(b)\n",
    "\n",
    "arr_c = np.array([b,b])\n",
    "\n",
    "arr_d = np.array(['a','b','c'])\n",
    "\n",
    "print(arr_a.shape) # isi nya tuple berisi 4 elemet/data\n",
    "print(arr_a.ndim) # isi nya 1 karena hanya ada 1 dimension\n",
    "print(arr_a.size) # isi nya 4 element/data\n",
    "print(arr_c.size) # isi nya 8 element/data, karena siz tidak akan memedulikan dimension nya\n",
    "print(arr_a.dtype) # int64 --> karena isi nya integer\n",
    "print(arr_d.dtype) # <U1 --> bentuk object string\n",
    "\n",
    "#  fungsi statistik\n",
    "print(arr_b.mean())\n",
    "print(arr_b.max())\n",
    "print(arr_b.min())\n",
    "print(arr_b.sum())"
   ]
  },
  {
   "cell_type": "code",
   "execution_count": null,
   "id": "24a7d1e9",
   "metadata": {},
   "outputs": [],
   "source": [
    "#  Tugas\n",
    "  #  menjumlahkan berdasarkan setiap baris array di arr_b (1 + 2, 3 + 4)\n",
    "\n",
    "# arr_b.sum? --> biasakan gini utk cari tau cara penggunaan method function nya\n",
    "arr_jumlah_baris = arr_b.sum(1)\n",
    "print(arr_jumlah_baris)"
   ]
  }
 ],
 "metadata": {
  "kernelspec": {
   "display_name": "Python 3",
   "language": "python",
   "name": "python3"
  },
  "language_info": {
   "codemirror_mode": {
    "name": "ipython",
    "version": 3
   },
   "file_extension": ".py",
   "mimetype": "text/x-python",
   "name": "python",
   "nbconvert_exporter": "python",
   "pygments_lexer": "ipython3",
   "version": "3.13.5"
  }
 },
 "nbformat": 4,
 "nbformat_minor": 5
}
