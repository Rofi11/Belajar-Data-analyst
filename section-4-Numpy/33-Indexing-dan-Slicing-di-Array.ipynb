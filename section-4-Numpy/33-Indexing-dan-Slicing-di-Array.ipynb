{
 "cells": [
  {
   "cell_type": "markdown",
   "id": "e6771274",
   "metadata": {},
   "source": [
    "## Indexing dan Slicing pada Array\n",
    "  Mengakses / Mengambil nilai atau potongan nilai dari Array\n",
    "  * cara utk mengakses dan Mengambil nilai seperti yang ada di materi Tipe Data List"
   ]
  },
  {
   "cell_type": "code",
   "execution_count": null,
   "id": "67ab539c",
   "metadata": {},
   "outputs": [],
   "source": [
    "import numpy as np\n",
    "#  Contoh 1 Dimension\n",
    "a = [1, 2 ,3 ,4]\n",
    "\n",
    "arr_a = np.array(a)\n",
    "arr_a\n",
    "\n",
    "# indexing di 1 D\n",
    "print(arr_a[0])\n",
    "\n",
    "# slicing di 1 D\n",
    "slice_a = arr_a[0:3] #0 = start, 3 = stop\n",
    "print(slice_a)\n"
   ]
  },
  {
   "cell_type": "code",
   "execution_count": null,
   "id": "d93f4c0c",
   "metadata": {},
   "outputs": [],
   "source": [
    "# Contoh yang 2 Dimension\n",
    "b = [\n",
    "    [1,2],\n",
    "    [3,4]\n",
    "]\n",
    "arr_b = np.array(b)\n",
    "arr_b\n",
    "# indexing di 2D\n",
    "\n",
    "print(arr_b[0,0]) #hasil nya 1\n",
    "print(arr_b[1,0]) #hasil nya 3\n",
    "\n",
    "# slicing di 2 D\n",
    "slice_b = arr_b[0:2, 0] # 0 = start_baris, 2 = end_baris, 0 = index data yang di ambil\n",
    "print(slice_b) # [1 3]\n",
    "slice_b_1 = arr_b[0:2, 1]\n",
    "print(slice_b_1) #[2 4]\n",
    "print(arr_b[:, 1]) # --> ini juga bisa, mengambil semua nya tapi"
   ]
  },
  {
   "cell_type": "code",
   "execution_count": null,
   "id": "a101fce6",
   "metadata": {},
   "outputs": [],
   "source": [
    "# Contoh yang 3 dimension\n",
    "b = [\n",
    "    [1,2],\n",
    "    [3,4]\n",
    "]\n",
    "\n",
    "c = [b, b]\n",
    "arr_c = np.array(c)\n",
    "arr_c\n",
    "\n",
    "# indexing 3 D\n",
    "print(arr_c[0,0,0]) # hasilnya 1\n",
    "# mau ambil 2 di element ke 2\n",
    "print(arr_c[1,0,1]) # 1 = element lapisan nya, 0 = amnil array nya, 1 = index data nya\n",
    "\n",
    "# slicing 3 D\n",
    "print(arr_c[0:2, 0][0,1])"
   ]
  }
 ],
 "metadata": {
  "language_info": {
   "name": "python"
  }
 },
 "nbformat": 4,
 "nbformat_minor": 5
}
