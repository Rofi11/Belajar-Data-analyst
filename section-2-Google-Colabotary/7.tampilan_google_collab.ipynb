{
 "cells": [
  {
   "cell_type": "markdown",
   "id": "8206300b",
   "metadata": {},
   "source": [
    "# Penjelasan dan pengertian\n",
    "1. +code = untuk menambahkan code ke dalam jupyter notebook\n",
    "2. +markdown = menambahkan text kedalam jupyter notebook (sama seperti +text di google colab)\n",
    "3. jupyter variables = untuk melihat variable apa saja yang sudah kita buat dan miliki\n",
    "4. kita bisa mengklick run atau shift+enter untuk menjalankan code\n",
    "5. extension utk jupyter adalah .ipynb\n",
    "\n",
    "\n",
    "## side bar menu di google collab\n",
    "1. Table of content untuk mengurutkan content dilihat dari prioritas #\n",
    "    > utk judul use (#) , semakin banyak ## akan menjadi subjudul dari yang di atas nya\n",
    "    > bisa dilihat judul dan sub judul melalui outline menu atas\n",
    "2. find and replace -> utk mencari code atau tulisan dan mengganti nya\n",
    "3. secret --> utk API\n",
    "4. files --> tempat directory atau tempat management file kita\n",
    "\n"
   ]
  },
  {
   "cell_type": "code",
   "execution_count": 6,
   "id": "d5febcee",
   "metadata": {},
   "outputs": [],
   "source": [
    "test = \"halo\""
   ]
  },
  {
   "cell_type": "markdown",
   "id": "76912974",
   "metadata": {},
   "source": [
    "cara membuat variabel"
   ]
  },
  {
   "cell_type": "code",
   "execution_count": 2,
   "id": "52a3e396",
   "metadata": {},
   "outputs": [],
   "source": [
    "x = 12"
   ]
  }
 ],
 "metadata": {
  "kernelspec": {
   "display_name": "Python 3",
   "language": "python",
   "name": "python3"
  },
  "language_info": {
   "codemirror_mode": {
    "name": "ipython",
    "version": 3
   },
   "file_extension": ".py",
   "mimetype": "text/x-python",
   "name": "python",
   "nbconvert_exporter": "python",
   "pygments_lexer": "ipython3",
   "version": "3.13.5"
  }
 },
 "nbformat": 4,
 "nbformat_minor": 5
}
