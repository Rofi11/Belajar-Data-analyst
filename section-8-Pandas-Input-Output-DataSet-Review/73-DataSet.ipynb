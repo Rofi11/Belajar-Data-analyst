{
 "cells": [
  {
   "cell_type": "markdown",
   "id": "89ce8d3d",
   "metadata": {},
   "source": [
    "## DataSet\n",
    "  I/O DataSet (Input dan Output DataSet)\n",
    "  * Macam-macam Dataset\n",
    "  * Membuka DataSet akan menggunakan library pandas\n",
    "  * di pelatihan hanya akan belajar 3 yang paling sering digunakan\n",
    "    1. File Excel\n",
    "      * Dibuat dengan ms.Excel dan paling populer di indonesia\n",
    "    2. File JSON\n",
    "      * JavaScript Object Nation\n",
    "      * Format ini sering digunakan untuk mengiirm data antara server dan aplikasi web.\n",
    "      * JSON terdiri dari pasangan key-value\n",
    "    3. File CSV \n",
    "      * Comma-Separated Value\n",
    "      * CSV terdiri dari baris-baris teks, di mana setiap baris adalah catatan data.\n",
    "      * Nilai-nilai dalam setiap baris dipisahkan oleh koma, atau delimiter lain(pemisah antar data).\n",
    "    4. Dll\n"
   ]
  }
 ],
 "metadata": {
  "language_info": {
   "name": "python"
  }
 },
 "nbformat": 4,
 "nbformat_minor": 5
}
