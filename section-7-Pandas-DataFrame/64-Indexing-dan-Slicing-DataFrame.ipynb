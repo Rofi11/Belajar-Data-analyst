{
 "cells": [
  {
   "cell_type": "markdown",
   "id": "97b1105d",
   "metadata": {},
   "source": [
    "#### Mengakses Isi DataFrame (Indexing dan Slicing)\n",
    "  * Ada beberapa cara untuk melakukan nya\n",
    "      1. dengan akses dari baris/index dengan loc/iloc\n",
    "      2. dengan akses dari kolom baru masukan label/key nya"
   ]
  },
  {
   "cell_type": "code",
   "execution_count": 1,
   "id": "9a6e902b",
   "metadata": {},
   "outputs": [
    {
     "data": {
      "text/html": [
       "<div>\n",
       "<style scoped>\n",
       "    .dataframe tbody tr th:only-of-type {\n",
       "        vertical-align: middle;\n",
       "    }\n",
       "\n",
       "    .dataframe tbody tr th {\n",
       "        vertical-align: top;\n",
       "    }\n",
       "\n",
       "    .dataframe thead th {\n",
       "        text-align: right;\n",
       "    }\n",
       "</style>\n",
       "<table border=\"1\" class=\"dataframe\">\n",
       "  <thead>\n",
       "    <tr style=\"text-align: right;\">\n",
       "      <th></th>\n",
       "      <th>Merek</th>\n",
       "      <th>Model</th>\n",
       "      <th>Tahun Produksi</th>\n",
       "      <th>Tipe</th>\n",
       "    </tr>\n",
       "  </thead>\n",
       "  <tbody>\n",
       "    <tr>\n",
       "      <th>A</th>\n",
       "      <td>Toyota</td>\n",
       "      <td>Avanza</td>\n",
       "      <td>2021</td>\n",
       "      <td>Mobil</td>\n",
       "    </tr>\n",
       "    <tr>\n",
       "      <th>B</th>\n",
       "      <td>Honda</td>\n",
       "      <td>Civic</td>\n",
       "      <td>2020</td>\n",
       "      <td>Mobil</td>\n",
       "    </tr>\n",
       "    <tr>\n",
       "      <th>C</th>\n",
       "      <td>Suzuki</td>\n",
       "      <td>Ertiga</td>\n",
       "      <td>2022</td>\n",
       "      <td>Mobil</td>\n",
       "    </tr>\n",
       "    <tr>\n",
       "      <th>D</th>\n",
       "      <td>Yamaha</td>\n",
       "      <td>NMAX</td>\n",
       "      <td>2021</td>\n",
       "      <td>Motor</td>\n",
       "    </tr>\n",
       "    <tr>\n",
       "      <th>E</th>\n",
       "      <td>Mitsubishi</td>\n",
       "      <td>Pajero</td>\n",
       "      <td>2019</td>\n",
       "      <td>Mobil</td>\n",
       "    </tr>\n",
       "    <tr>\n",
       "      <th>F</th>\n",
       "      <td>Kawasaki</td>\n",
       "      <td>Ninja</td>\n",
       "      <td>2018</td>\n",
       "      <td>Motor</td>\n",
       "    </tr>\n",
       "    <tr>\n",
       "      <th>G</th>\n",
       "      <td>Daihatsu</td>\n",
       "      <td>Xenia</td>\n",
       "      <td>2023</td>\n",
       "      <td>Mobil</td>\n",
       "    </tr>\n",
       "    <tr>\n",
       "      <th>H</th>\n",
       "      <td>Isuzu</td>\n",
       "      <td>Panther</td>\n",
       "      <td>2017</td>\n",
       "      <td>Mobil</td>\n",
       "    </tr>\n",
       "  </tbody>\n",
       "</table>\n",
       "</div>"
      ],
      "text/plain": [
       "        Merek    Model  Tahun Produksi   Tipe\n",
       "A      Toyota   Avanza            2021  Mobil\n",
       "B       Honda    Civic            2020  Mobil\n",
       "C      Suzuki   Ertiga            2022  Mobil\n",
       "D      Yamaha     NMAX            2021  Motor\n",
       "E  Mitsubishi   Pajero            2019  Mobil\n",
       "F    Kawasaki    Ninja            2018  Motor\n",
       "G    Daihatsu    Xenia            2023  Mobil\n",
       "H       Isuzu  Panther            2017  Mobil"
      ]
     },
     "execution_count": 1,
     "metadata": {},
     "output_type": "execute_result"
    }
   ],
   "source": [
    "import pandas as pd\n",
    "import numpy as np\n",
    "\n",
    "# membuat data dictionary of list /object of array\n",
    "data_kendaraan = {\n",
    "    'Merek' : ['Toyota', 'Honda', 'Suzuki', 'Yamaha', 'Mitsubishi', 'Kawasaki', 'Daihatsu', 'Isuzu'],\n",
    "    'Model' : ['Avanza', 'Civic', 'Ertiga', 'NMAX', 'Pajero', 'Ninja', 'Xenia', 'Panther'],\n",
    "    'Tahun Produksi' : [2021, 2020, 2022, 2021, 2019, 2018, 2023, 2017],\n",
    "    'Tipe' : ['Mobil', 'Mobil', 'Mobil', 'Motor', 'Mobil', 'Motor', 'Mobil', 'Mobil' ]\n",
    "}\n",
    "\n",
    "mob_index = ['A', 'B', 'C', 'D', 'E', 'F', 'G', 'H']\n",
    "\n",
    "df_kendaraan = pd.DataFrame(data_kendaraan, index=mob_index)\n",
    "df_kendaraan"
   ]
  },
  {
   "cell_type": "code",
   "execution_count": 4,
   "id": "13e7312c",
   "metadata": {},
   "outputs": [
    {
     "name": "stdout",
     "output_type": "stream",
     "text": [
      "NMAX\n",
      "Kawasaki\n"
     ]
    }
   ],
   "source": [
    "# Cara ke 1 menggunakan loc utk akses baris\n",
    "print(df_kendaraan.loc['D', 'Model'])\n",
    "print(df_kendaraan.loc['F', 'Merek'])"
   ]
  },
  {
   "cell_type": "code",
   "execution_count": 3,
   "id": "03829cba",
   "metadata": {},
   "outputs": [
    {
     "data": {
      "text/plain": [
       "'NMAX'"
      ]
     },
     "execution_count": 3,
     "metadata": {},
     "output_type": "execute_result"
    }
   ],
   "source": [
    "# Cara ke 2 pakai iloc\n",
    "df_kendaraan.iloc[3, 1]"
   ]
  },
  {
   "cell_type": "code",
   "execution_count": 5,
   "id": "49c3f89d",
   "metadata": {},
   "outputs": [
    {
     "data": {
      "text/html": [
       "<div>\n",
       "<style scoped>\n",
       "    .dataframe tbody tr th:only-of-type {\n",
       "        vertical-align: middle;\n",
       "    }\n",
       "\n",
       "    .dataframe tbody tr th {\n",
       "        vertical-align: top;\n",
       "    }\n",
       "\n",
       "    .dataframe thead th {\n",
       "        text-align: right;\n",
       "    }\n",
       "</style>\n",
       "<table border=\"1\" class=\"dataframe\">\n",
       "  <thead>\n",
       "    <tr style=\"text-align: right;\">\n",
       "      <th></th>\n",
       "      <th>Merek</th>\n",
       "      <th>Model</th>\n",
       "    </tr>\n",
       "  </thead>\n",
       "  <tbody>\n",
       "    <tr>\n",
       "      <th>C</th>\n",
       "      <td>Suzuki</td>\n",
       "      <td>Ertiga</td>\n",
       "    </tr>\n",
       "  </tbody>\n",
       "</table>\n",
       "</div>"
      ],
      "text/plain": [
       "    Merek   Model\n",
       "C  Suzuki  Ertiga"
      ]
     },
     "execution_count": 5,
     "metadata": {},
     "output_type": "execute_result"
    }
   ],
   "source": [
    "# slicing sebagian dengan loc\n",
    "df_kendaraan.loc[['C'], ['Merek', 'Model']]"
   ]
  },
  {
   "cell_type": "code",
   "execution_count": 6,
   "id": "31a0ca13",
   "metadata": {},
   "outputs": [
    {
     "data": {
      "text/html": [
       "<div>\n",
       "<style scoped>\n",
       "    .dataframe tbody tr th:only-of-type {\n",
       "        vertical-align: middle;\n",
       "    }\n",
       "\n",
       "    .dataframe tbody tr th {\n",
       "        vertical-align: top;\n",
       "    }\n",
       "\n",
       "    .dataframe thead th {\n",
       "        text-align: right;\n",
       "    }\n",
       "</style>\n",
       "<table border=\"1\" class=\"dataframe\">\n",
       "  <thead>\n",
       "    <tr style=\"text-align: right;\">\n",
       "      <th></th>\n",
       "      <th>Model</th>\n",
       "    </tr>\n",
       "  </thead>\n",
       "  <tbody>\n",
       "    <tr>\n",
       "      <th>E</th>\n",
       "      <td>Pajero</td>\n",
       "    </tr>\n",
       "    <tr>\n",
       "      <th>F</th>\n",
       "      <td>Ninja</td>\n",
       "    </tr>\n",
       "  </tbody>\n",
       "</table>\n",
       "</div>"
      ],
      "text/plain": [
       "    Model\n",
       "E  Pajero\n",
       "F   Ninja"
      ]
     },
     "execution_count": 6,
     "metadata": {},
     "output_type": "execute_result"
    }
   ],
   "source": [
    "# slicing sebagian dengan loc\n",
    "df_kendaraan.loc[['E', 'F'], ['Model']]"
   ]
  },
  {
   "cell_type": "code",
   "execution_count": 7,
   "id": "9dcf28d0",
   "metadata": {},
   "outputs": [
    {
     "data": {
      "text/plain": [
       "'NMAX'"
      ]
     },
     "execution_count": 7,
     "metadata": {},
     "output_type": "execute_result"
    }
   ],
   "source": [
    "# Cara 3 akses dari kolom dan masukan key/label index\n",
    "df_kendaraan['Model']['D']"
   ]
  }
 ],
 "metadata": {
  "kernelspec": {
   "display_name": "Python 3",
   "language": "python",
   "name": "python3"
  },
  "language_info": {
   "codemirror_mode": {
    "name": "ipython",
    "version": 3
   },
   "file_extension": ".py",
   "mimetype": "text/x-python",
   "name": "python",
   "nbconvert_exporter": "python",
   "pygments_lexer": "ipython3",
   "version": "3.13.5"
  }
 },
 "nbformat": 4,
 "nbformat_minor": 5
}
