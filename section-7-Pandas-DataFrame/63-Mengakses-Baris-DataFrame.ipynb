{
 "cells": [
  {
   "cell_type": "markdown",
   "id": "a2572153",
   "metadata": {},
   "source": [
    "#### Mengakses Baris/Index\n",
    "  * Ada 2 fungsi untuk mengakses baris\n",
    "    1. loc --> dimasukan nama/key label nya\n",
    "    2. iloc --> dimasukan nomor index nya\n",
    "  * Cara membuat jadi Series dan DataFrame ada di bawah, cara nya sama kaya yang di atas"
   ]
  },
  {
   "cell_type": "code",
   "execution_count": 1,
   "id": "f7d55880",
   "metadata": {},
   "outputs": [],
   "source": [
    "import pandas as pd\n",
    "import numpy as np"
   ]
  },
  {
   "cell_type": "code",
   "execution_count": 2,
   "id": "f7db0be0",
   "metadata": {},
   "outputs": [
    {
     "data": {
      "text/html": [
       "<div>\n",
       "<style scoped>\n",
       "    .dataframe tbody tr th:only-of-type {\n",
       "        vertical-align: middle;\n",
       "    }\n",
       "\n",
       "    .dataframe tbody tr th {\n",
       "        vertical-align: top;\n",
       "    }\n",
       "\n",
       "    .dataframe thead th {\n",
       "        text-align: right;\n",
       "    }\n",
       "</style>\n",
       "<table border=\"1\" class=\"dataframe\">\n",
       "  <thead>\n",
       "    <tr style=\"text-align: right;\">\n",
       "      <th></th>\n",
       "      <th>Merek</th>\n",
       "      <th>Model</th>\n",
       "      <th>Tahun Produksi</th>\n",
       "      <th>Tipe</th>\n",
       "    </tr>\n",
       "  </thead>\n",
       "  <tbody>\n",
       "    <tr>\n",
       "      <th>A</th>\n",
       "      <td>Toyota</td>\n",
       "      <td>Avanza</td>\n",
       "      <td>2021</td>\n",
       "      <td>Mobil</td>\n",
       "    </tr>\n",
       "    <tr>\n",
       "      <th>B</th>\n",
       "      <td>Honda</td>\n",
       "      <td>Civic</td>\n",
       "      <td>2020</td>\n",
       "      <td>Mobil</td>\n",
       "    </tr>\n",
       "    <tr>\n",
       "      <th>C</th>\n",
       "      <td>Suzuki</td>\n",
       "      <td>Ertiga</td>\n",
       "      <td>2022</td>\n",
       "      <td>Mobil</td>\n",
       "    </tr>\n",
       "    <tr>\n",
       "      <th>D</th>\n",
       "      <td>Yamaha</td>\n",
       "      <td>NMAX</td>\n",
       "      <td>2021</td>\n",
       "      <td>Motor</td>\n",
       "    </tr>\n",
       "    <tr>\n",
       "      <th>E</th>\n",
       "      <td>Mitsubishi</td>\n",
       "      <td>Pajero</td>\n",
       "      <td>2019</td>\n",
       "      <td>Mobil</td>\n",
       "    </tr>\n",
       "    <tr>\n",
       "      <th>F</th>\n",
       "      <td>Kawasaki</td>\n",
       "      <td>Ninja</td>\n",
       "      <td>2018</td>\n",
       "      <td>Motor</td>\n",
       "    </tr>\n",
       "    <tr>\n",
       "      <th>G</th>\n",
       "      <td>Daihatsu</td>\n",
       "      <td>Xenia</td>\n",
       "      <td>2023</td>\n",
       "      <td>Mobil</td>\n",
       "    </tr>\n",
       "    <tr>\n",
       "      <th>H</th>\n",
       "      <td>Isuzu</td>\n",
       "      <td>Panther</td>\n",
       "      <td>2017</td>\n",
       "      <td>Mobil</td>\n",
       "    </tr>\n",
       "  </tbody>\n",
       "</table>\n",
       "</div>"
      ],
      "text/plain": [
       "        Merek    Model  Tahun Produksi   Tipe\n",
       "A      Toyota   Avanza            2021  Mobil\n",
       "B       Honda    Civic            2020  Mobil\n",
       "C      Suzuki   Ertiga            2022  Mobil\n",
       "D      Yamaha     NMAX            2021  Motor\n",
       "E  Mitsubishi   Pajero            2019  Mobil\n",
       "F    Kawasaki    Ninja            2018  Motor\n",
       "G    Daihatsu    Xenia            2023  Mobil\n",
       "H       Isuzu  Panther            2017  Mobil"
      ]
     },
     "execution_count": 2,
     "metadata": {},
     "output_type": "execute_result"
    }
   ],
   "source": [
    "# membuat data dictionary of list /object of array\n",
    "data_kendaraan = {\n",
    "    'Merek' : ['Toyota', 'Honda', 'Suzuki', 'Yamaha', 'Mitsubishi', 'Kawasaki', 'Daihatsu', 'Isuzu'],\n",
    "    'Model' : ['Avanza', 'Civic', 'Ertiga', 'NMAX', 'Pajero', 'Ninja', 'Xenia', 'Panther'],\n",
    "    'Tahun Produksi' : [2021, 2020, 2022, 2021, 2019, 2018, 2023, 2017],\n",
    "    'Tipe' : ['Mobil', 'Mobil', 'Mobil', 'Motor', 'Mobil', 'Motor', 'Mobil', 'Mobil' ]\n",
    "}\n",
    "\n",
    "mob_index = ['A', 'B', 'C', 'D', 'E', 'F', 'G', 'H']\n",
    "\n",
    "df_kendaraan = pd.DataFrame(data_kendaraan, index=mob_index)\n",
    "df_kendaraan"
   ]
  },
  {
   "cell_type": "code",
   "execution_count": 3,
   "id": "f89344e0",
   "metadata": {},
   "outputs": [
    {
     "data": {
      "text/plain": [
       "Index(['A', 'B', 'C', 'D', 'E', 'F', 'G', 'H'], dtype='object')"
      ]
     },
     "execution_count": 3,
     "metadata": {},
     "output_type": "execute_result"
    }
   ],
   "source": [
    "#  cara panggil unutk mendapatkan baris/index\n",
    "df_kendaraan.index"
   ]
  },
  {
   "cell_type": "code",
   "execution_count": 4,
   "id": "84e7c8ee",
   "metadata": {},
   "outputs": [
    {
     "data": {
      "text/html": [
       "<div>\n",
       "<style scoped>\n",
       "    .dataframe tbody tr th:only-of-type {\n",
       "        vertical-align: middle;\n",
       "    }\n",
       "\n",
       "    .dataframe tbody tr th {\n",
       "        vertical-align: top;\n",
       "    }\n",
       "\n",
       "    .dataframe thead th {\n",
       "        text-align: right;\n",
       "    }\n",
       "</style>\n",
       "<table border=\"1\" class=\"dataframe\">\n",
       "  <thead>\n",
       "    <tr style=\"text-align: right;\">\n",
       "      <th></th>\n",
       "      <th>Merek</th>\n",
       "      <th>Model</th>\n",
       "      <th>Tahun Produksi</th>\n",
       "      <th>Tipe</th>\n",
       "    </tr>\n",
       "  </thead>\n",
       "  <tbody>\n",
       "    <tr>\n",
       "      <th>C</th>\n",
       "      <td>Suzuki</td>\n",
       "      <td>Ertiga</td>\n",
       "      <td>2022</td>\n",
       "      <td>Mobil</td>\n",
       "    </tr>\n",
       "  </tbody>\n",
       "</table>\n",
       "</div>"
      ],
      "text/plain": [
       "    Merek   Model  Tahun Produksi   Tipe\n",
       "C  Suzuki  Ertiga            2022  Mobil"
      ]
     },
     "execution_count": 4,
     "metadata": {},
     "output_type": "execute_result"
    }
   ],
   "source": [
    "# loc : cara 1 untuk mengakses baris\n",
    "  # ini cara return nya Series\n",
    "df_kendaraan.loc['C']\n",
    "\n",
    "  # ini cara return nya DataFrame\n",
    "df_kendaraan.loc[['C']]"
   ]
  },
  {
   "cell_type": "code",
   "execution_count": 5,
   "id": "24e35fa1",
   "metadata": {},
   "outputs": [
    {
     "data": {
      "text/html": [
       "<div>\n",
       "<style scoped>\n",
       "    .dataframe tbody tr th:only-of-type {\n",
       "        vertical-align: middle;\n",
       "    }\n",
       "\n",
       "    .dataframe tbody tr th {\n",
       "        vertical-align: top;\n",
       "    }\n",
       "\n",
       "    .dataframe thead th {\n",
       "        text-align: right;\n",
       "    }\n",
       "</style>\n",
       "<table border=\"1\" class=\"dataframe\">\n",
       "  <thead>\n",
       "    <tr style=\"text-align: right;\">\n",
       "      <th></th>\n",
       "      <th>Merek</th>\n",
       "      <th>Model</th>\n",
       "      <th>Tahun Produksi</th>\n",
       "      <th>Tipe</th>\n",
       "    </tr>\n",
       "  </thead>\n",
       "  <tbody>\n",
       "    <tr>\n",
       "      <th>C</th>\n",
       "      <td>Suzuki</td>\n",
       "      <td>Ertiga</td>\n",
       "      <td>2022</td>\n",
       "      <td>Mobil</td>\n",
       "    </tr>\n",
       "  </tbody>\n",
       "</table>\n",
       "</div>"
      ],
      "text/plain": [
       "    Merek   Model  Tahun Produksi   Tipe\n",
       "C  Suzuki  Ertiga            2022  Mobil"
      ]
     },
     "execution_count": 5,
     "metadata": {},
     "output_type": "execute_result"
    }
   ],
   "source": [
    "# iloc : cara 2 unutk mengakses baris\n",
    "  # ini cara return nya Series\n",
    "df_kendaraan.iloc[2]\n",
    "\n",
    "  # ini cara return nya DataFrame\n",
    "df_kendaraan.iloc[[2]]"
   ]
  }
 ],
 "metadata": {
  "kernelspec": {
   "display_name": "Python 3",
   "language": "python",
   "name": "python3"
  },
  "language_info": {
   "codemirror_mode": {
    "name": "ipython",
    "version": 3
   },
   "file_extension": ".py",
   "mimetype": "text/x-python",
   "name": "python",
   "nbconvert_exporter": "python",
   "pygments_lexer": "ipython3",
   "version": "3.13.5"
  }
 },
 "nbformat": 4,
 "nbformat_minor": 5
}
