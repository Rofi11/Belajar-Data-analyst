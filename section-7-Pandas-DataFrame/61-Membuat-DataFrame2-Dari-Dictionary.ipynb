{
 "cells": [
  {
   "cell_type": "markdown",
   "id": "778159e0",
   "metadata": {},
   "source": [
    "### Membuat DataFrame 2 : Dari Dictionary (lanjutan 60)\n",
    "  * key dalam dictionary akan secara default menjadi nama columns"
   ]
  },
  {
   "cell_type": "code",
   "execution_count": 1,
   "id": "b3494916",
   "metadata": {},
   "outputs": [],
   "source": [
    "import pandas as pd\n",
    "import numpy as np"
   ]
  },
  {
   "cell_type": "code",
   "execution_count": 2,
   "id": "e0c23492",
   "metadata": {},
   "outputs": [
    {
     "data": {
      "text/html": [
       "<div>\n",
       "<style scoped>\n",
       "    .dataframe tbody tr th:only-of-type {\n",
       "        vertical-align: middle;\n",
       "    }\n",
       "\n",
       "    .dataframe tbody tr th {\n",
       "        vertical-align: top;\n",
       "    }\n",
       "\n",
       "    .dataframe thead th {\n",
       "        text-align: right;\n",
       "    }\n",
       "</style>\n",
       "<table border=\"1\" class=\"dataframe\">\n",
       "  <thead>\n",
       "    <tr style=\"text-align: right;\">\n",
       "      <th></th>\n",
       "      <th>motor</th>\n",
       "      <th>mobil</th>\n",
       "    </tr>\n",
       "  </thead>\n",
       "  <tbody>\n",
       "    <tr>\n",
       "      <th>A</th>\n",
       "      <td>Yamaha</td>\n",
       "      <td>Toyota</td>\n",
       "    </tr>\n",
       "    <tr>\n",
       "      <th>B</th>\n",
       "      <td>Honda</td>\n",
       "      <td>Honda</td>\n",
       "    </tr>\n",
       "    <tr>\n",
       "      <th>C</th>\n",
       "      <td>Suzuki</td>\n",
       "      <td>Daihatsu</td>\n",
       "    </tr>\n",
       "  </tbody>\n",
       "</table>\n",
       "</div>"
      ],
      "text/plain": [
       "    motor     mobil\n",
       "A  Yamaha    Toyota\n",
       "B   Honda     Honda\n",
       "C  Suzuki  Daihatsu"
      ]
     },
     "execution_count": 2,
     "metadata": {},
     "output_type": "execute_result"
    }
   ],
   "source": [
    "# Membuat Dictionary\n",
    "kendaraan = {\n",
    "    'motor' : ['Yamaha', 'Honda', 'Suzuki'],\n",
    "    'mobil' : ['Toyota', 'Honda', 'Daihatsu']\n",
    "}\n",
    "index = ['A', 'B', 'C']\n",
    "# key nya akan otomatis menjadi columns\n",
    "pd.DataFrame(kendaraan, index=index)"
   ]
  },
  {
   "cell_type": "markdown",
   "id": "5e40e43f",
   "metadata": {},
   "source": [
    "### Membuat DataFrame 3 : List yang berisi Dictionary"
   ]
  },
  {
   "cell_type": "code",
   "execution_count": 3,
   "id": "c519c6db",
   "metadata": {},
   "outputs": [
    {
     "data": {
      "text/html": [
       "<div>\n",
       "<style scoped>\n",
       "    .dataframe tbody tr th:only-of-type {\n",
       "        vertical-align: middle;\n",
       "    }\n",
       "\n",
       "    .dataframe tbody tr th {\n",
       "        vertical-align: top;\n",
       "    }\n",
       "\n",
       "    .dataframe thead th {\n",
       "        text-align: right;\n",
       "    }\n",
       "</style>\n",
       "<table border=\"1\" class=\"dataframe\">\n",
       "  <thead>\n",
       "    <tr style=\"text-align: right;\">\n",
       "      <th></th>\n",
       "      <th>Nama</th>\n",
       "      <th>Umur</th>\n",
       "    </tr>\n",
       "  </thead>\n",
       "  <tbody>\n",
       "    <tr>\n",
       "      <th>A</th>\n",
       "      <td>Mahmud</td>\n",
       "      <td>28</td>\n",
       "    </tr>\n",
       "    <tr>\n",
       "      <th>B</th>\n",
       "      <td>Markonah</td>\n",
       "      <td>24</td>\n",
       "    </tr>\n",
       "  </tbody>\n",
       "</table>\n",
       "</div>"
      ],
      "text/plain": [
       "       Nama  Umur\n",
       "A    Mahmud    28\n",
       "B  Markonah    24"
      ]
     },
     "execution_count": 3,
     "metadata": {},
     "output_type": "execute_result"
    }
   ],
   "source": [
    "# List yang berisi Dictionary\n",
    "  # bisa digunakan jika mengambil data dari json API, atau array of object\n",
    "data = [\n",
    "    {\n",
    "        'Nama' : 'Mahmud',\n",
    "        'Umur' : 28\n",
    "    },\n",
    "    {\n",
    "        'Nama' : 'Markonah',\n",
    "        'Umur' : 24\n",
    "    }\n",
    "]\n",
    "index = ['A', 'B']\n",
    "pd.DataFrame(data, index=index)"
   ]
  }
 ],
 "metadata": {
  "kernelspec": {
   "display_name": "Python 3",
   "language": "python",
   "name": "python3"
  },
  "language_info": {
   "codemirror_mode": {
    "name": "ipython",
    "version": 3
   },
   "file_extension": ".py",
   "mimetype": "text/x-python",
   "name": "python",
   "nbconvert_exporter": "python",
   "pygments_lexer": "ipython3",
   "version": "3.13.5"
  }
 },
 "nbformat": 4,
 "nbformat_minor": 5
}
