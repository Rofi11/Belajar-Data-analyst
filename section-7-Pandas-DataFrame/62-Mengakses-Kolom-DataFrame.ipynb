{
 "cells": [
  {
   "cell_type": "markdown",
   "id": "b39d043d",
   "metadata": {},
   "source": [
    "### 2. Mengakses Data pada DataFrame"
   ]
  },
  {
   "cell_type": "code",
   "execution_count": 1,
   "id": "7534e5d0",
   "metadata": {},
   "outputs": [],
   "source": [
    "import pandas as pd\n",
    "import numpy as np"
   ]
  },
  {
   "cell_type": "markdown",
   "id": "ff5fe1b1",
   "metadata": {},
   "source": [
    "#### Mengakses DataFrame\n",
    "  * Ada 2 cara mengakses Column\n",
    "      1. dibuat Series (cara 1 dan 3)\n",
    "      2. dibuat DataFrame (cara 2) -> recomended karena bisa akses column lebih dari 1\n",
    "  * Contoh ada dibawah"
   ]
  },
  {
   "cell_type": "code",
   "execution_count": 2,
   "id": "62d18692",
   "metadata": {},
   "outputs": [
    {
     "data": {
      "text/html": [
       "<div>\n",
       "<style scoped>\n",
       "    .dataframe tbody tr th:only-of-type {\n",
       "        vertical-align: middle;\n",
       "    }\n",
       "\n",
       "    .dataframe tbody tr th {\n",
       "        vertical-align: top;\n",
       "    }\n",
       "\n",
       "    .dataframe thead th {\n",
       "        text-align: right;\n",
       "    }\n",
       "</style>\n",
       "<table border=\"1\" class=\"dataframe\">\n",
       "  <thead>\n",
       "    <tr style=\"text-align: right;\">\n",
       "      <th></th>\n",
       "      <th>Merek</th>\n",
       "      <th>Model</th>\n",
       "      <th>Tahun Produksi</th>\n",
       "      <th>Tipe</th>\n",
       "    </tr>\n",
       "  </thead>\n",
       "  <tbody>\n",
       "    <tr>\n",
       "      <th>A</th>\n",
       "      <td>Toyota</td>\n",
       "      <td>Avanza</td>\n",
       "      <td>2021</td>\n",
       "      <td>Mobil</td>\n",
       "    </tr>\n",
       "    <tr>\n",
       "      <th>B</th>\n",
       "      <td>Honda</td>\n",
       "      <td>Civic</td>\n",
       "      <td>2020</td>\n",
       "      <td>Mobil</td>\n",
       "    </tr>\n",
       "    <tr>\n",
       "      <th>C</th>\n",
       "      <td>Suzuki</td>\n",
       "      <td>Ertiga</td>\n",
       "      <td>2022</td>\n",
       "      <td>Mobil</td>\n",
       "    </tr>\n",
       "    <tr>\n",
       "      <th>D</th>\n",
       "      <td>Yamaha</td>\n",
       "      <td>NMAX</td>\n",
       "      <td>2021</td>\n",
       "      <td>Motor</td>\n",
       "    </tr>\n",
       "    <tr>\n",
       "      <th>E</th>\n",
       "      <td>Mitsubishi</td>\n",
       "      <td>Pajero</td>\n",
       "      <td>2019</td>\n",
       "      <td>Mobil</td>\n",
       "    </tr>\n",
       "    <tr>\n",
       "      <th>F</th>\n",
       "      <td>Kawasaki</td>\n",
       "      <td>Ninja</td>\n",
       "      <td>2018</td>\n",
       "      <td>Motor</td>\n",
       "    </tr>\n",
       "    <tr>\n",
       "      <th>G</th>\n",
       "      <td>Daihatsu</td>\n",
       "      <td>Xenia</td>\n",
       "      <td>2023</td>\n",
       "      <td>Mobil</td>\n",
       "    </tr>\n",
       "    <tr>\n",
       "      <th>H</th>\n",
       "      <td>Isuzu</td>\n",
       "      <td>Panther</td>\n",
       "      <td>2017</td>\n",
       "      <td>Mobil</td>\n",
       "    </tr>\n",
       "  </tbody>\n",
       "</table>\n",
       "</div>"
      ],
      "text/plain": [
       "        Merek    Model  Tahun Produksi   Tipe\n",
       "A      Toyota   Avanza            2021  Mobil\n",
       "B       Honda    Civic            2020  Mobil\n",
       "C      Suzuki   Ertiga            2022  Mobil\n",
       "D      Yamaha     NMAX            2021  Motor\n",
       "E  Mitsubishi   Pajero            2019  Mobil\n",
       "F    Kawasaki    Ninja            2018  Motor\n",
       "G    Daihatsu    Xenia            2023  Mobil\n",
       "H       Isuzu  Panther            2017  Mobil"
      ]
     },
     "execution_count": 2,
     "metadata": {},
     "output_type": "execute_result"
    }
   ],
   "source": [
    "# membuat data dictionary of list /object of array\n",
    "data_kendaraan = {\n",
    "    'Merek' : ['Toyota', 'Honda', 'Suzuki', 'Yamaha', 'Mitsubishi', 'Kawasaki', 'Daihatsu', 'Isuzu'],\n",
    "    'Model' : ['Avanza', 'Civic', 'Ertiga', 'NMAX', 'Pajero', 'Ninja', 'Xenia', 'Panther'],\n",
    "    'Tahun Produksi' : [2021, 2020, 2022, 2021, 2019, 2018, 2023, 2017],\n",
    "    'Tipe' : ['Mobil', 'Mobil', 'Mobil', 'Motor', 'Mobil', 'Motor', 'Mobil', 'Mobil' ]\n",
    "}\n",
    "\n",
    "mob_index = ['A', 'B', 'C', 'D', 'E', 'F', 'G', 'H']\n",
    "\n",
    "df_kendaraan = pd.DataFrame(data_kendaraan, index=mob_index)\n",
    "df_kendaraan"
   ]
  },
  {
   "cell_type": "markdown",
   "id": "970fa81b",
   "metadata": {},
   "source": [
    "#### Mengakses kolom\n",
    "  * Ada 3 Cara untuk Mengakses column"
   ]
  },
  {
   "cell_type": "code",
   "execution_count": 3,
   "id": "4b117455",
   "metadata": {},
   "outputs": [
    {
     "data": {
      "text/plain": [
       "Index(['Merek', 'Model', 'Tahun Produksi', 'Tipe'], dtype='object')"
      ]
     },
     "execution_count": 3,
     "metadata": {},
     "output_type": "execute_result"
    }
   ],
   "source": [
    "# cara panggil attribute kolom nya\n",
    "df_kendaraan.columns"
   ]
  },
  {
   "cell_type": "code",
   "execution_count": 4,
   "id": "83289d07",
   "metadata": {},
   "outputs": [
    {
     "data": {
      "text/plain": [
       "A        Toyota\n",
       "B         Honda\n",
       "C        Suzuki\n",
       "D        Yamaha\n",
       "E    Mitsubishi\n",
       "F      Kawasaki\n",
       "G      Daihatsu\n",
       "H         Isuzu\n",
       "Name: Merek, dtype: object"
      ]
     },
     "execution_count": 4,
     "metadata": {},
     "output_type": "execute_result"
    }
   ],
   "source": [
    "# cara 1 akses column dengan cara biasa yang akan menghasilkan series\n",
    "col1 = df_kendaraan['Merek']\n",
    "col1"
   ]
  },
  {
   "cell_type": "code",
   "execution_count": 5,
   "id": "239c888c",
   "metadata": {},
   "outputs": [
    {
     "data": {
      "text/plain": [
       "pandas.core.series.Series"
      ]
     },
     "execution_count": 5,
     "metadata": {},
     "output_type": "execute_result"
    }
   ],
   "source": [
    "#  cara 1 akan bertipe series -> dimana series hanya 1 dimension dan tidak akan bisa memanggil column lain\n",
    "type(col1)"
   ]
  },
  {
   "cell_type": "code",
   "execution_count": 6,
   "id": "09b78a36",
   "metadata": {},
   "outputs": [
    {
     "data": {
      "text/html": [
       "<div>\n",
       "<style scoped>\n",
       "    .dataframe tbody tr th:only-of-type {\n",
       "        vertical-align: middle;\n",
       "    }\n",
       "\n",
       "    .dataframe tbody tr th {\n",
       "        vertical-align: top;\n",
       "    }\n",
       "\n",
       "    .dataframe thead th {\n",
       "        text-align: right;\n",
       "    }\n",
       "</style>\n",
       "<table border=\"1\" class=\"dataframe\">\n",
       "  <thead>\n",
       "    <tr style=\"text-align: right;\">\n",
       "      <th></th>\n",
       "      <th>Merek</th>\n",
       "      <th>Tipe</th>\n",
       "    </tr>\n",
       "  </thead>\n",
       "  <tbody>\n",
       "    <tr>\n",
       "      <th>A</th>\n",
       "      <td>Toyota</td>\n",
       "      <td>Mobil</td>\n",
       "    </tr>\n",
       "    <tr>\n",
       "      <th>B</th>\n",
       "      <td>Honda</td>\n",
       "      <td>Mobil</td>\n",
       "    </tr>\n",
       "    <tr>\n",
       "      <th>C</th>\n",
       "      <td>Suzuki</td>\n",
       "      <td>Mobil</td>\n",
       "    </tr>\n",
       "    <tr>\n",
       "      <th>D</th>\n",
       "      <td>Yamaha</td>\n",
       "      <td>Motor</td>\n",
       "    </tr>\n",
       "    <tr>\n",
       "      <th>E</th>\n",
       "      <td>Mitsubishi</td>\n",
       "      <td>Mobil</td>\n",
       "    </tr>\n",
       "    <tr>\n",
       "      <th>F</th>\n",
       "      <td>Kawasaki</td>\n",
       "      <td>Motor</td>\n",
       "    </tr>\n",
       "    <tr>\n",
       "      <th>G</th>\n",
       "      <td>Daihatsu</td>\n",
       "      <td>Mobil</td>\n",
       "    </tr>\n",
       "    <tr>\n",
       "      <th>H</th>\n",
       "      <td>Isuzu</td>\n",
       "      <td>Mobil</td>\n",
       "    </tr>\n",
       "  </tbody>\n",
       "</table>\n",
       "</div>"
      ],
      "text/plain": [
       "        Merek   Tipe\n",
       "A      Toyota  Mobil\n",
       "B       Honda  Mobil\n",
       "C      Suzuki  Mobil\n",
       "D      Yamaha  Motor\n",
       "E  Mitsubishi  Mobil\n",
       "F    Kawasaki  Motor\n",
       "G    Daihatsu  Mobil\n",
       "H       Isuzu  Mobil"
      ]
     },
     "execution_count": 6,
     "metadata": {},
     "output_type": "execute_result"
    }
   ],
   "source": [
    "# cara 2 akses column yang akan menghasilkan type DataFrame\n",
    "col2 = df_kendaraan[['Merek', 'Tipe']]\n",
    "col2"
   ]
  },
  {
   "cell_type": "code",
   "execution_count": 7,
   "id": "53fadf7f",
   "metadata": {},
   "outputs": [
    {
     "data": {
      "text/plain": [
       "pandas.core.frame.DataFrame"
      ]
     },
     "execution_count": 7,
     "metadata": {},
     "output_type": "execute_result"
    }
   ],
   "source": [
    "# cara 2 akan menghasilkan type DataFrame --> yang dimana kita bisa mengakses lebih dari 1 column\n",
    "type(col2)"
   ]
  },
  {
   "cell_type": "code",
   "execution_count": 8,
   "id": "e0704d9a",
   "metadata": {},
   "outputs": [
    {
     "data": {
      "text/plain": [
       "A        Toyota\n",
       "B         Honda\n",
       "C        Suzuki\n",
       "D        Yamaha\n",
       "E    Mitsubishi\n",
       "F      Kawasaki\n",
       "G      Daihatsu\n",
       "H         Isuzu\n",
       "Name: Merek, dtype: object"
      ]
     },
     "execution_count": 8,
     "metadata": {},
     "output_type": "execute_result"
    }
   ],
   "source": [
    "#  cara 3 dengan dot/. --> tapi tipe yang di kembalikan Series, dan tidak bisa mengkases variabel yang punya spasi\n",
    "col3 = df_kendaraan.Merek\n",
    "col3"
   ]
  },
  {
   "cell_type": "code",
   "execution_count": 9,
   "id": "7a332e12",
   "metadata": {},
   "outputs": [
    {
     "data": {
      "text/plain": [
       "pandas.core.series.Series"
      ]
     },
     "execution_count": 9,
     "metadata": {},
     "output_type": "execute_result"
    }
   ],
   "source": [
    "type(col3)"
   ]
  }
 ],
 "metadata": {
  "kernelspec": {
   "display_name": "Python 3",
   "language": "python",
   "name": "python3"
  },
  "language_info": {
   "codemirror_mode": {
    "name": "ipython",
    "version": 3
   },
   "file_extension": ".py",
   "mimetype": "text/x-python",
   "name": "python",
   "nbconvert_exporter": "python",
   "pygments_lexer": "ipython3",
   "version": "3.13.5"
  }
 },
 "nbformat": 4,
 "nbformat_minor": 5
}
